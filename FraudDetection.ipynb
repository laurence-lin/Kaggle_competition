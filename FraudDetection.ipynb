{
  "nbformat": 4,
  "nbformat_minor": 0,
  "metadata": {
    "colab": {
      "name": "FraudDetection.ipynb",
      "provenance": [],
      "include_colab_link": true
    },
    "kernelspec": {
      "name": "python3",
      "display_name": "Python 3"
    },
    "accelerator": "GPU"
  },
  "cells": [
    {
      "cell_type": "markdown",
      "metadata": {
        "id": "view-in-github",
        "colab_type": "text"
      },
      "source": [
        "<a href=\"https://colab.research.google.com/github/laurence-lin/Kaggle_competition/blob/master/FraudDetection.ipynb\" target=\"_parent\"><img src=\"https://colab.research.google.com/assets/colab-badge.svg\" alt=\"Open In Colab\"/></a>"
      ]
    },
    {
      "cell_type": "code",
      "metadata": {
        "id": "Em3p8-SAQUKm",
        "colab_type": "code",
        "colab": {}
      },
      "source": [
        "import numpy as np\n",
        "import pandas as pd\n",
        "\n",
        "import matplotlib.pyplot as plt\n",
        "import seaborn as sns\n",
        "\n",
        "import sklearn\n",
        "from sklearn.model_selection import train_test_split, GridSearchCV, cross_val_score\n",
        "import lightgbm as lgb\n",
        "from sklearn.svm import SVC\n",
        "from sklearn.linear_model import LogisticRegression\n",
        "from sklearn.ensemble import RandomForestClassifier\n",
        "from sklearn.metrics import roc_auc_score\n",
        "from sklearn.preprocessing import MinMaxScaler, LabelEncoder, StandardScaler\n",
        "\n",
        "\n",
        "import os\n",
        "import gc\n",
        "from time import time\n"
      ],
      "execution_count": 0,
      "outputs": []
    },
    {
      "cell_type": "code",
      "metadata": {
        "id": "0E95RVSbTnmF",
        "colab_type": "code",
        "outputId": "f35b6fb9-d69e-4d4a-bc05-662a8bbd73f5",
        "colab": {
          "base_uri": "https://localhost:8080/",
          "height": 187
        }
      },
      "source": [
        "from google.colab import files, drive\n",
        "\n",
        "drive.mount('/content/gdrive')\n",
        "%cd /content/gdrive/\"My Drive\"\n",
        "!unzip ieee-fraud-detection.zip"
      ],
      "execution_count": 2,
      "outputs": [
        {
          "output_type": "stream",
          "text": [
            "Go to this URL in a browser: https://accounts.google.com/o/oauth2/auth?client_id=947318989803-6bn6qk8qdgf4n4g3pfee6491hc0brc4i.apps.googleusercontent.com&redirect_uri=urn%3aietf%3awg%3aoauth%3a2.0%3aoob&response_type=code&scope=email%20https%3a%2f%2fwww.googleapis.com%2fauth%2fdocs.test%20https%3a%2f%2fwww.googleapis.com%2fauth%2fdrive%20https%3a%2f%2fwww.googleapis.com%2fauth%2fdrive.photos.readonly%20https%3a%2f%2fwww.googleapis.com%2fauth%2fpeopleapi.readonly\n",
            "\n",
            "Enter your authorization code:\n",
            "··········\n",
            "Mounted at /content/gdrive\n",
            "/content/gdrive/My Drive\n",
            "Archive:  ieee-fraud-detection.zip\n",
            "replace sample_submission.csv? [y]es, [n]o, [A]ll, [N]one, [r]ename: n\n",
            "replace test_identity.csv? [y]es, [n]o, [A]ll, [N]one, [r]ename: N\n"
          ],
          "name": "stdout"
        }
      ]
    },
    {
      "cell_type": "code",
      "metadata": {
        "id": "FswJ2Wajvgsn",
        "colab_type": "code",
        "colab": {
          "base_uri": "https://localhost:8080/",
          "height": 33
        },
        "outputId": "49d1f1d5-e11e-4f3f-a227-3ca8dc457045"
      },
      "source": [
        "train_id = pd.read_csv('train_identity.csv')\n",
        "train_action = pd.read_csv('train_transaction.csv')\n",
        "test_id = pd.read_csv('test_identity.csv')\n",
        "test_action = pd.read_csv('test_transaction.csv')\n",
        "\n",
        "# Merge datasets: not all transaction record has corresponding Identity informationb\n",
        "train = train_action.merge(train_id, on = 'TransactionID', how = 'left')\n",
        "test = test_action.merge(test_id, on = 'TransactionID', how = 'left')\n",
        "del train_action, test_action, train_id, test_id\n",
        "gc.collect()"
      ],
      "execution_count": 24,
      "outputs": [
        {
          "output_type": "execute_result",
          "data": {
            "text/plain": [
              "364"
            ]
          },
          "metadata": {
            "tags": []
          },
          "execution_count": 24
        }
      ]
    },
    {
      "cell_type": "markdown",
      "metadata": {
        "id": "h1zW78ZAf9H9",
        "colab_type": "text"
      },
      "source": [
        "*We* have 590000 training samples, and over 400 feature in total. \n",
        "We may need feature selection for FE."
      ]
    },
    {
      "cell_type": "code",
      "metadata": {
        "id": "axA_nQgEbowk",
        "colab_type": "code",
        "colab": {}
      },
      "source": [
        "# EDA\n",
        "\n",
        "# Too many feature, we need feature selection afterward\n",
        "print(train.isnull().sum()[train.isnull().sum() > int(train.shape[0]*0.7)].sort_values(ascending = False))\n",
        "drop_feature = list(train.isnull().sum()[train.isnull().sum() > int(train.shape[0]*0.7)].index)\n",
        "\n",
        "print(drop_feature)\n",
        "print(train[drop_feature])"
      ],
      "execution_count": 0,
      "outputs": []
    },
    {
      "cell_type": "code",
      "metadata": {
        "id": "SsC7fP4ogPFi",
        "colab_type": "code",
        "colab": {}
      },
      "source": [
        "# Feature engineering\n",
        "\n",
        "def preprocessing(df):\n",
        "  '''\n",
        "  Feature engineering for dataframe.\n",
        "  '''\n",
        " \n",
        "  # Feature Generation\n",
        "\n",
        "  # Feature selection\n",
        "  # There are many features, so we may drop the ones that have 70% nan values\n",
        "  drop_nan = list(df.isnull().sum()[df.isnull().sum() > int(df.shape[0]*0.7)].index)\n",
        "  df.drop(drop_nan, axis = 1, inplace = True)\n",
        "\n",
        "  # Data cleaning\n",
        "  # fill missing\n",
        "\n",
        "  return df"
      ],
      "execution_count": 0,
      "outputs": []
    },
    {
      "cell_type": "code",
      "metadata": {
        "id": "SPioE5PYluMk",
        "colab_type": "code",
        "outputId": "1f9edbda-91e1-4b2c-8977-86be46887639",
        "colab": {
          "base_uri": "https://localhost:8080/",
          "height": 104
        }
      },
      "source": [
        "\n",
        "le = LabelEncoder()\n",
        "\n",
        "train_ = train.copy()\n",
        "train_ = preprocessing(train_)\n",
        "\n",
        "obj_feature = list(train_.select_dtypes(include = 'object').columns)\n",
        "for feat in obj_feature:\n",
        "  train_[feat] = le.fit_transform(train_[feat].astype('str'))\n",
        "\n",
        "\n",
        "num_feature = list(train_.select_dtypes(exclude = 'object'))\n",
        "for f in num_feature:\n",
        "    train_[f] = train_[f].fillna(train_[f].mean(), inplace = False)\n",
        "\n",
        "y = train_['isFraud']\n",
        "x = train_.drop('isFraud', axis = 1, inplace = False)\n",
        "x_data, x_valid, y_data, y_valid = train_test_split(x, y, test_size = 0.2)\n",
        "\n",
        "logit = LogisticRegression()\n",
        "logit.fit(x_data, y_data)\n",
        "print('ROC accuracy: ', roc_auc_score(y_valid, logit.predict(x_valid)))\n",
        "\n",
        "del train_\n",
        "gc.collect()"
      ],
      "execution_count": 25,
      "outputs": [
        {
          "output_type": "stream",
          "text": [
            "/usr/local/lib/python3.6/dist-packages/sklearn/linear_model/logistic.py:432: FutureWarning: Default solver will be changed to 'lbfgs' in 0.22. Specify a solver to silence this warning.\n",
            "  FutureWarning)\n"
          ],
          "name": "stderr"
        },
        {
          "output_type": "stream",
          "text": [
            "Logit score:  0.9646255969113016\n"
          ],
          "name": "stdout"
        },
        {
          "output_type": "execute_result",
          "data": {
            "text/plain": [
              "0"
            ]
          },
          "metadata": {
            "tags": []
          },
          "execution_count": 25
        }
      ]
    }
  ]
}