{
  "nbformat": 4,
  "nbformat_minor": 0,
  "metadata": {
    "colab": {
      "name": "FraudDetection.ipynb",
      "provenance": [],
      "machine_shape": "hm",
      "include_colab_link": true
    },
    "kernelspec": {
      "name": "python3",
      "display_name": "Python 3"
    },
    "accelerator": "GPU"
  },
  "cells": [
    {
      "cell_type": "markdown",
      "metadata": {
        "id": "view-in-github",
        "colab_type": "text"
      },
      "source": [
        "<a href=\"https://colab.research.google.com/github/laurence-lin/Kaggle_competition/blob/master/FraudDetection.ipynb\" target=\"_parent\"><img src=\"https://colab.research.google.com/assets/colab-badge.svg\" alt=\"Open In Colab\"/></a>"
      ]
    },
    {
      "cell_type": "code",
      "metadata": {
        "id": "Em3p8-SAQUKm",
        "colab_type": "code",
        "outputId": "40943c85-dce0-4952-f2d2-ed341e098705",
        "colab": {
          "base_uri": "https://localhost:8080/",
          "height": 365
        }
      },
      "source": [
        "import numpy as np\n",
        "import pandas as pd\n",
        "\n",
        "import matplotlib.pyplot as plt\n",
        "import seaborn as sns\n",
        "\n",
        "import sklearn\n",
        "from sklearn.model_selection import TimeSeriesSplit, GridSearchCV, cross_val_score\n",
        "import lightgbm as lgb\n",
        "from sklearn.svm import SVC\n",
        "from sklearn.linear_model import LogisticRegression\n",
        "from sklearn.ensemble import RandomForestClassifier\n",
        "from sklearn.metrics import roc_auc_score\n",
        "from sklearn.preprocessing import MinMaxScaler, LabelEncoder, StandardScaler\n",
        "\n",
        "\n",
        "import os\n",
        "import gc\n",
        "from time import time\n",
        "\n",
        "!pip install catboost"
      ],
      "execution_count": 0,
      "outputs": [
        {
          "output_type": "stream",
          "text": [
            "Collecting catboost\n",
            "\u001b[?25l  Downloading https://files.pythonhosted.org/packages/97/c4/586923de4634f88a31fd1b4966e15707a912b98b6f4566651b5ef58f36b5/catboost-0.20.2-cp36-none-manylinux1_x86_64.whl (63.9MB)\n",
            "\u001b[K     |████████████████████████████████| 63.9MB 47kB/s \n",
            "\u001b[?25hRequirement already satisfied: graphviz in /usr/local/lib/python3.6/dist-packages (from catboost) (0.10.1)\n",
            "Requirement already satisfied: pandas>=0.24.0 in /usr/local/lib/python3.6/dist-packages (from catboost) (0.25.3)\n",
            "Requirement already satisfied: numpy>=1.16.0 in /usr/local/lib/python3.6/dist-packages (from catboost) (1.17.4)\n",
            "Requirement already satisfied: plotly in /usr/local/lib/python3.6/dist-packages (from catboost) (4.1.1)\n",
            "Requirement already satisfied: six in /usr/local/lib/python3.6/dist-packages (from catboost) (1.12.0)\n",
            "Requirement already satisfied: matplotlib in /usr/local/lib/python3.6/dist-packages (from catboost) (3.1.2)\n",
            "Requirement already satisfied: scipy in /usr/local/lib/python3.6/dist-packages (from catboost) (1.3.3)\n",
            "Requirement already satisfied: python-dateutil>=2.6.1 in /usr/local/lib/python3.6/dist-packages (from pandas>=0.24.0->catboost) (2.6.1)\n",
            "Requirement already satisfied: pytz>=2017.2 in /usr/local/lib/python3.6/dist-packages (from pandas>=0.24.0->catboost) (2018.9)\n",
            "Requirement already satisfied: retrying>=1.3.3 in /usr/local/lib/python3.6/dist-packages (from plotly->catboost) (1.3.3)\n",
            "Requirement already satisfied: pyparsing!=2.0.4,!=2.1.2,!=2.1.6,>=2.0.1 in /usr/local/lib/python3.6/dist-packages (from matplotlib->catboost) (2.4.5)\n",
            "Requirement already satisfied: kiwisolver>=1.0.1 in /usr/local/lib/python3.6/dist-packages (from matplotlib->catboost) (1.1.0)\n",
            "Requirement already satisfied: cycler>=0.10 in /usr/local/lib/python3.6/dist-packages (from matplotlib->catboost) (0.10.0)\n",
            "Requirement already satisfied: setuptools in /usr/local/lib/python3.6/dist-packages (from kiwisolver>=1.0.1->matplotlib->catboost) (42.0.2)\n",
            "Installing collected packages: catboost\n",
            "Successfully installed catboost-0.20.2\n"
          ],
          "name": "stdout"
        }
      ]
    },
    {
      "cell_type": "code",
      "metadata": {
        "id": "0E95RVSbTnmF",
        "colab_type": "code",
        "outputId": "a69a1f89-e122-448c-961b-3f10392bf353",
        "colab": {
          "base_uri": "https://localhost:8080/",
          "height": 170
        }
      },
      "source": [
        "from google.colab import files, drive\n",
        "\n",
        "drive.mount('/content/gdrive')\n",
        "%cd /content/gdrive/\"My Drive\"\n",
        "!unzip ieee-fraud-detection.zip"
      ],
      "execution_count": 11,
      "outputs": [
        {
          "output_type": "stream",
          "text": [
            "Go to this URL in a browser: https://accounts.google.com/o/oauth2/auth?client_id=947318989803-6bn6qk8qdgf4n4g3pfee6491hc0brc4i.apps.googleusercontent.com&redirect_uri=urn%3aietf%3awg%3aoauth%3a2.0%3aoob&response_type=code&scope=email%20https%3a%2f%2fwww.googleapis.com%2fauth%2fdocs.test%20https%3a%2f%2fwww.googleapis.com%2fauth%2fdrive%20https%3a%2f%2fwww.googleapis.com%2fauth%2fdrive.photos.readonly%20https%3a%2f%2fwww.googleapis.com%2fauth%2fpeopleapi.readonly\n",
            "\n",
            "Enter your authorization code:\n",
            "··········\n",
            "Mounted at /content/gdrive\n",
            "/content/gdrive/My Drive\n",
            "Archive:  ieee-fraud-detection.zip\n",
            "replace sample_submission.csv? [y]es, [n]o, [A]ll, [N]one, [r]ename: N\n"
          ],
          "name": "stdout"
        }
      ]
    },
    {
      "cell_type": "code",
      "metadata": {
        "id": "FswJ2Wajvgsn",
        "colab_type": "code",
        "outputId": "23690538-bf6c-4831-fd32-301957cdec0e",
        "colab": {
          "base_uri": "https://localhost:8080/",
          "height": 33
        }
      },
      "source": [
        "train_id = pd.read_csv('train_identity.csv')\n",
        "train_action = pd.read_csv('train_transaction.csv')\n",
        "test_id = pd.read_csv('test_identity.csv')\n",
        "test_action = pd.read_csv('test_transaction.csv')\n",
        "\n",
        "# Merge datasets: not all transaction record has corresponding Identity informationb\n",
        "train = train_action.merge(train_id, on = 'TransactionID', how = 'left')\n",
        "test = test_action.merge(test_id, on = 'TransactionID', how = 'left')\n",
        "del train_action, test_action, train_id, test_id\n",
        "gc.collect()"
      ],
      "execution_count": 12,
      "outputs": [
        {
          "output_type": "execute_result",
          "data": {
            "text/plain": [
              "0"
            ]
          },
          "metadata": {
            "tags": []
          },
          "execution_count": 12
        }
      ]
    },
    {
      "cell_type": "markdown",
      "metadata": {
        "id": "h1zW78ZAf9H9",
        "colab_type": "text"
      },
      "source": [
        "*We* have 590000 training samples, and over 400 feature in total. \n",
        "We may need feature selection for FE."
      ]
    },
    {
      "cell_type": "code",
      "metadata": {
        "id": "axA_nQgEbowk",
        "colab_type": "code",
        "outputId": "89afe2df-4d60-45bc-bfa9-0d6adf689781",
        "colab": {
          "base_uri": "https://localhost:8080/",
          "height": 1000
        }
      },
      "source": [
        "# EDA\n",
        "\n",
        "# Too many feature, we need feature selection afterward\n",
        "'''\n",
        "plt.hist(train['TransactionDT'], label = 'train')\n",
        "plt.hist(test['TransactionDT'], label = 'test')\n",
        "plt.legend()\n",
        "plt.show()\n",
        "'''\n",
        "'''\n",
        "print('{:.2f} % of transaction data is Fraud. '.format(train['isFraud'].mean()*100))\n",
        "print('Mean Transaction Amount Fraud: ', train.loc[train['isFraud'] == 1, 'TransactionAmt'].mean())\n",
        "print('Mean Transaction Amount Not Fraud: ', train.loc[train['isFraud'] == 0, 'TransactionAmt'].mean())\n",
        "# Fraud transaction tends to pay higher than not fraud\n",
        "'''\n",
        "# Show observation of each product\n",
        "# Plot feature that are unknowna and not clear for it's values\n",
        "show_feature = ['M1', 'M2', 'M3', 'M4', 'M5', 'M6', 'M7', 'M8', 'M9', 'card4', 'card6']\n",
        " \n",
        "for feat in show_feature:\n",
        "   plt.figure()\n",
        "   train[feat].value_counts(dropna = False).plot(\n",
        "      kind = 'barh', # horizantal bar plot\n",
        "      title = f'Count of {feat}'\n",
        ")\n",
        "plt.show()\n",
        "\n",
        "\n",
        "gc.collect()"
      ],
      "execution_count": 0,
      "outputs": [
        {
          "output_type": "display_data",
          "data": {
            "image/png": "[encoded data removed]",
            "text/plain": [
              "<Figure size 432x288 with 1 Axes>"
            ]
          },
          "metadata": {
            "tags": []
          }
        },
        {
          "output_type": "display_data",
          "data": {
            "image/png": "[encoded data removed]",
            "text/plain": [
              "<Figure size 432x288 with 1 Axes>"
            ]
          },
          "metadata": {
            "tags": []
          }
        },
        {
          "output_type": "display_data",
          "data": {
            "image/png": "[encoded data removed]",
            "text/plain": [
              "<Figure size 432x288 with 1 Axes>"
            ]
          },
          "metadata": {
            "tags": []
          }
        },
        {
          "output_type": "display_data",
          "data": {
            "image/png": "[encoded data removed]",
            "text/plain": [
              "<Figure size 432x288 with 1 Axes>"
            ]
          },
          "metadata": {
            "tags": []
          }
        },
        {
          "output_type": "display_data",
          "data": {
            "image/png": "[encoded data removed]",
            "text/plain": [
              "<Figure size 432x288 with 1 Axes>"
            ]
          },
          "metadata": {
            "tags": []
          }
        },
        {
          "output_type": "display_data",
          "data": {
            "image/png": "[encoded data removed]",
            "text/plain": [
              "<Figure size 432x288 with 1 Axes>"
            ]
          },
          "metadata": {
            "tags": []
          }
        },
        {
          "output_type": "display_data",
          "data": {
            "image/png": "[encoded data removed]",
            "text/plain": [
              "<Figure size 432x288 with 1 Axes>"
            ]
          },
          "metadata": {
            "tags": []
          }
        },
        {
          "output_type": "display_data",
          "data": {
            "image/png": "[encoded data removed]",
            "text/plain": [
              "<Figure size 432x288 with 1 Axes>"
            ]
          },
          "metadata": {
            "tags": []
          }
        },
        {
          "output_type": "display_data",
          "data": {
            "image/png": "[encoded data removed]",
            "text/plain": [
              "<Figure size 432x288 with 1 Axes>"
            ]
          },
          "metadata": {
            "tags": []
          }
        },
        {
          "output_type": "display_data",
          "data": {
            "image/png": "[encoded data removed]",
            "text/plain": [
              "<Figure size 432x288 with 1 Axes>"
            ]
          },
          "metadata": {
            "tags": []
          }
        },
        {
          "output_type": "display_data",
          "data": {
            "image/png": "[encoded data removed]",
            "text/plain": [
              "<Figure size 432x288 with 1 Axes>"
            ]
          },
          "metadata": {
            "tags": []
          }
        },
        {
          "output_type": "execute_result",
          "data": {
            "text/plain": [
              "27235"
            ]
          },
          "metadata": {
            "tags": []
          },
          "execution_count": 44
        }
      ]
    },
    {
      "cell_type": "code",
      "metadata": {
        "id": "v1jI5ukXpHBe",
        "colab_type": "code",
        "outputId": "8300ee09-3d4e-4ae8-a470-38b27214a041",
        "colab": {
          "base_uri": "https://localhost:8080/",
          "height": 449
        }
      },
      "source": [
        "print(train['card1'].value_counts())\n",
        "\n",
        "print(train['card1'].value_counts(normalize = True))\n",
        "\n",
        "gc.collect()"
      ],
      "execution_count": 0,
      "outputs": [
        {
          "output_type": "stream",
          "text": [
            "7919     14932\n",
            "9500     14162\n",
            "15885    10361\n",
            "17188    10344\n",
            "15066     7945\n",
            "         ...  \n",
            "12390        1\n",
            "10341        1\n",
            "10006        1\n",
            "15743        1\n",
            "17105        1\n",
            "Name: card1, Length: 13553, dtype: int64\n",
            "7919     0.025285\n",
            "9500     0.023981\n",
            "15885    0.017545\n",
            "17188    0.017516\n",
            "15066    0.013454\n",
            "           ...   \n",
            "12390    0.000002\n",
            "10341    0.000002\n",
            "10006    0.000002\n",
            "15743    0.000002\n",
            "17105    0.000002\n",
            "Name: card1, Length: 13553, dtype: float64\n"
          ],
          "name": "stdout"
        },
        {
          "output_type": "execute_result",
          "data": {
            "text/plain": [
              "13"
            ]
          },
          "metadata": {
            "tags": []
          },
          "execution_count": 59
        }
      ]
    },
    {
      "cell_type": "code",
      "metadata": {
        "id": "SsC7fP4ogPFi",
        "colab_type": "code",
        "colab": {}
      },
      "source": [
        "# Feature engineering\n",
        "\n",
        "# For safety, replace infinite value in dataframe with nan\n",
        "def remove_inf(df):\n",
        "  return df.replace([np.inf, -np.inf], np.nan)\n",
        "  \n",
        "le = LabelEncoder()  \n",
        "def preprocessing(df_train, df_test):\n",
        "  '''\n",
        "  Feature engineering for dataframe.\n",
        "  FE that involves train data & test data: \n",
        "  Categorical encoding: train & test feature might contain categorical value that each other don't have.\n",
        "  Drop feature: Features that analysed to drop such as many-nan feature, may vary in train & test data. The determined drop feature should be\n",
        "  remove simultaneously in both dataset.\n",
        "  '''\n",
        "  drop_feature = []\n",
        "\n",
        "  # Feature Generation\n",
        "\n",
        "  # Email feature split\n",
        "  df_train[['P_email1', 'P_email2', 'P_email3']] = df_train['P_emaildomain'].str.split('.', expand = True)\n",
        "  df_train[['R_email1', 'R_email2', 'R_email3']] = df_train['R_emaildomain'].str.split('.', expand = True)\n",
        "  df_test[['P_email1', 'P_email2', 'P_email3']] = df_test['P_emaildomain'].str.split('.', expand = True)\n",
        "  df_test[['R_email1', 'R_email2', 'R_email3']] = df_test['R_emaildomain'].str.split('.', expand = True)\n",
        "  drop_feature = list(set(drop_feature + ['P_emaildomain', 'R_emaildomain']))\n",
        "\n",
        "  # Feature selection\n",
        "  # Features that contains 90% null values\n",
        "  drop_nan_train = list(df_train.isnull().sum()[df_train.isnull().sum() > int(df_train.shape[0]*0.9)].index)\n",
        "  drop_nan_test = list(df_test.isnull().sum()[df_test.isnull().sum() > int(df_test.shape[0]*0.9)].index)\n",
        "  drop_feature = list(set(drop_feature + drop_nan_train + drop_nan_test))\n",
        "  # Feature that contains 90% same unique values\n",
        "  big_top_train = [col for col in df_train.columns if df_train[col].value_counts(\n",
        "      dropna = False, normalize = True).values[0] >= 0.9]\n",
        "  big_top_test = [col for col in df_test.columns if df_test[col].value_counts(\n",
        "      dropna = False, normalize = True).values[0] >= 0.9]    \n",
        "  drop_feature = list(set(drop_feature + big_top_train + big_top_test))\n",
        "\n",
        "  # Feature transformation\n",
        "  # Encode categorical feature\n",
        "  obj_feature = list(df_train.select_dtypes(include = 'object').columns)\n",
        "  for feat in obj_feature:\n",
        "     le.fit(list(df_train[feat].astype(str).values) + list(df_test[feat].astype(str).values))\n",
        "     df_train[feat] = le.transform(df_train[feat])\n",
        "     df_test[feat] = le.transform(df_test[feat])\n",
        "  # Numerical feature: fillna\n",
        "  num_feature = list(df_train.select_dtypes(exclude = 'object'))\n",
        "  for f in num_feature:\n",
        "      df_train[f] = df_train[f].fillna(df_train[f].mean(), inplace = False)\n",
        "      df_test[f] = df_test[f].fillna(df_test[f].mean(), inplace = False)\n",
        "\n",
        "  # Data cleaning\n",
        "  # fill missing\n",
        "  drop_feature.remove('isFraud')\n",
        "  print('Length of dropped features: ', len(drop_feature))\n",
        "  df_train.drop(drop_feature, axis = 1, inplace = True)\n",
        "  df_test.drop(drop_feature, axis = 1, inplace = True)\n",
        "\n",
        "  # Normalization\n",
        "  # Apply on num_feature except isFraud\n",
        "  #scaler = StandardScaler()\n",
        "  #df_x = scaler.fit_transform(df_x)\n",
        "\n",
        "  return df_train, df_test"
      ],
      "execution_count": 0,
      "outputs": []
    },
    {
      "cell_type": "code",
      "metadata": {
        "id": "aLTeWStx-ULn",
        "colab_type": "code",
        "colab": {}
      },
      "source": [
        "from catboost import CatBoostClassifier\n",
        "from sklearn import metrics\n",
        "from numba import jit\n",
        "\n",
        "# Compute roc_auc quickly\n",
        "@jit # 將此function 變成jit的object, 即時編譯，使運算速度加快\n",
        "def fast_auc(y_true, y_prob):\n",
        "  y_true = np.array(y_true)\n",
        "  y_true = y_true[np.argsort(y_prob)] #??\n",
        "  n_false = 0\n",
        "  auc = 0\n",
        "  n = len(y_true)\n",
        "  for i in range(n): # for each sample\n",
        "    y_i = y_true[i]\n",
        "    n_false += (1 - y_i)\n",
        "    auc += y_i * n_false\n",
        "  \n",
        "  auc /= (n_false * (n - n_false))\n",
        "  return auc\n",
        "\n",
        "\n",
        "def eval_auc(y_true, y_pred):\n",
        "  # Fast auc evaluation for lgb\n",
        "  return 'auc', fast_auc(y_true, y_pred), True\n",
        "\n",
        "def train_model_classification(x, x_test, y, params, \n",
        "                               folds, splits = None, n_folds = 3,\n",
        "                               columns = None, \n",
        "                               model_type = 'lgb', eval_metric = 'auc', model = None,\n",
        "                               n_estimators = 50000, \n",
        "                               verbose = 10000, early_stopping_rounds = 200,\n",
        "                               ):\n",
        "  '''\n",
        "  Function to train variety of classification models.\n",
        "  Return: out-of-fold predictions, test_prediction, score\n",
        "  x: training data, dataframe or array, after normalization\n",
        "  y: training target\n",
        "  folds: folds to split data\n",
        "  model_type: determine what model to use\n",
        "  eval_metric: meric to use in this problem, applied for all the models\n",
        "  columns: selected columns to use for training, if specified\n",
        "  model: sklearn model\n",
        "  n_estimators: number of boosters for boosting model\n",
        "  '''\n",
        "  columns = x.columns if columns is None else columns # If we don't give selected feature, then train columns is columns to use\n",
        "  n_splits = folds.n_splits if splits is None else n_folds\n",
        "  x_test = x_test[columns]\n",
        "  # set up scoring parameters for different models\n",
        "  model_metric = {\n",
        "      'auc':{\n",
        "          'lgb_metric':eval_auc,\n",
        "          'catboost_metric':'AUC',\n",
        "          'sklearn_scoring_function':roc_auc_score\n",
        "      }\n",
        "  }\n",
        "\n",
        "  result_dict = {}\n",
        "  # out-of-hold prediction on train data\n",
        "  oof = np.zeros((len(x), 1))\n",
        "  prediction = np.zeros((len(x_test), 1)) # prediction on test data\n",
        "\n",
        "  # list of scores on folds\n",
        "  score = [] # model's scoring performance for each fold data\n",
        "  feature_importance = pd.DataFrame()\n",
        "\n",
        "  for fold_n, (train_id, valid_id) in enumerate(fold.split(x)):\n",
        "     '''\n",
        "     Train different model and: \n",
        "     1. show performance for each fold  2. Predict for test set\n",
        "     '''\n",
        "     print(f'Fold {fold_n + 1} at time {time.ctime()}')\n",
        "     x_train, x_valid = x.iloc[train_id], x.iloc[valid_id]\n",
        "     y_train, y_valid = y.iloc[train_id], y.iloc[valid_id]\n",
        "\n",
        "     if model_type == 'lgb':\n",
        "        model = LGBMClassifier(**params,\n",
        "                              n_estimators = n_estimators,\n",
        "                              n_jobs = -1)\n",
        "    \n",
        "        model.fit(x_train, y_train,\n",
        "                  verbose = verbose,\n",
        "                  early_stopping_rounds = early_stopping_rounds,\n",
        "                  eval_set = [(x_valid, y_valid)],\n",
        "                  eval_metric = model_metric[eval_metric]['lgb_metric'])\n",
        "    \n",
        "        y_valid_pred = model.predict_proba(x_valid)[:, 1] # predict probability for each valid sample\n",
        "        y_pred = model.predict_proba(x_test, \n",
        "                                     num_iteration = model.best_iteration_) # use optimize number of trees for prediction\n",
        "\n",
        "     if model_type == 'sklearn':\n",
        "        model = model\n",
        "        model.fit(x_train, y_train)\n",
        "        y_valid_pred = model.predict(x_valid).reshape(-1,)\n",
        "        score = model_metric[eval_metric]['sklearn_scoring_function'](y_valid, y_valid_pred)\n",
        "        print(f'Fold {fold_n + 1} have {eval_metric} score: {score:.4f}')\n",
        "        y_pred = model.predict_proba(x_test)\n",
        "\n",
        "     if model_type == 'cat':\n",
        "        model = CatBoostClassifier(**params,\n",
        "                                   iterations = n_estimators,\n",
        "                                   eval_metric = model_metric[eval_metric]['catboost_metric'],\n",
        "                                   loss_function = Logloss\n",
        "                                   )\n",
        "        \n",
        "        model.fit(x_train, y_train, verbose = False,\n",
        "                  eval_set = (x_valid, y_valid), cat_feature = [],\n",
        "                  use_best_model = True,\n",
        "                  )\n",
        "        y_valid_pred = model.predict_proba(x_valid)\n",
        "        y_pred = model.predict_proba(x_test)\n",
        "\n",
        "     oof[valid_id] = y_valid_pred.reshape(-1, 1) # size of all hold-out-set should be smaller than whole X\n",
        "     score.append(model_metric[eval_metric]['sklearn_scoring_function'](y_valid, y_valid_pred))\n",
        "     # Average over predictions on all hold-out-set\n",
        "     prediction += y_pred.reshape((-1, 1))\n",
        "\n",
        "  prediction /= n_splits\n",
        "  print('CV mean score: {0:.4f}, std: {1:.4f}'.format(np.mean(score), np.std(score)))\n",
        "\n",
        "  result_dict['oof'] = oof\n",
        "  result_dict['score'] = score\n",
        "  result_dict['prediction'] = prediction\n",
        "\n",
        "  return result_dict\n"
      ],
      "execution_count": 0,
      "outputs": []
    },
    {
      "cell_type": "code",
      "metadata": {
        "id": "SPioE5PYluMk",
        "colab_type": "code",
        "colab": {
          "base_uri": "https://localhost:8080/",
          "height": 420
        },
        "outputId": "4ccf5b91-85ed-40f7-f061-7beb27e0313a"
      },
      "source": [
        "# Training:\n",
        "# 1. Select the model, apply GridsearchCV to select the best parameters\n",
        "# 2. Retrain the model with the best parameters\n",
        "# 3. Make predictions on the test data\n",
        "train_data, test_data = preprocessing(train, test)\n",
        "x_train = train_data.sort_values['TransactionDT'].drop(['isFraud', 'TransactionID', 'TransactionDT'], axis = 1)\n",
        "y_train = train_data.sort_values['TransactionDT']['isFraud']\n",
        "x_test = test_data.drop(['TransactionID', 'TransactionDT'], axis = 1)\n",
        "del train, train_data\n",
        "\n",
        "k_fold = TimeSeriesSplit(n_splits = 5)\n",
        "\n"
      ],
      "execution_count": 17,
      "outputs": [
        {
          "output_type": "error",
          "ename": "ValueError",
          "evalue": "ignored",
          "traceback": [
            "\u001b[0;31m---------------------------------------------------------------------------\u001b[0m",
            "\u001b[0;31mKeyError\u001b[0m                                  Traceback (most recent call last)",
            "\u001b[0;32m/usr/local/lib/python3.6/dist-packages/sklearn/preprocessing/label.py\u001b[0m in \u001b[0;36m_encode_python\u001b[0;34m(values, uniques, encode)\u001b[0m\n\u001b[1;32m     63\u001b[0m         \u001b[0;32mtry\u001b[0m\u001b[0;34m:\u001b[0m\u001b[0;34m\u001b[0m\u001b[0;34m\u001b[0m\u001b[0m\n\u001b[0;32m---> 64\u001b[0;31m             \u001b[0mencoded\u001b[0m \u001b[0;34m=\u001b[0m \u001b[0mnp\u001b[0m\u001b[0;34m.\u001b[0m\u001b[0marray\u001b[0m\u001b[0;34m(\u001b[0m\u001b[0;34m[\u001b[0m\u001b[0mtable\u001b[0m\u001b[0;34m[\u001b[0m\u001b[0mv\u001b[0m\u001b[0;34m]\u001b[0m \u001b[0;32mfor\u001b[0m \u001b[0mv\u001b[0m \u001b[0;32min\u001b[0m \u001b[0mvalues\u001b[0m\u001b[0;34m]\u001b[0m\u001b[0;34m)\u001b[0m\u001b[0;34m\u001b[0m\u001b[0;34m\u001b[0m\u001b[0m\n\u001b[0m\u001b[1;32m     65\u001b[0m         \u001b[0;32mexcept\u001b[0m \u001b[0mKeyError\u001b[0m \u001b[0;32mas\u001b[0m \u001b[0me\u001b[0m\u001b[0;34m:\u001b[0m\u001b[0;34m\u001b[0m\u001b[0;34m\u001b[0m\u001b[0m\n",
            "\u001b[0;32m/usr/local/lib/python3.6/dist-packages/sklearn/preprocessing/label.py\u001b[0m in \u001b[0;36m<listcomp>\u001b[0;34m(.0)\u001b[0m\n\u001b[1;32m     63\u001b[0m         \u001b[0;32mtry\u001b[0m\u001b[0;34m:\u001b[0m\u001b[0;34m\u001b[0m\u001b[0;34m\u001b[0m\u001b[0m\n\u001b[0;32m---> 64\u001b[0;31m             \u001b[0mencoded\u001b[0m \u001b[0;34m=\u001b[0m \u001b[0mnp\u001b[0m\u001b[0;34m.\u001b[0m\u001b[0marray\u001b[0m\u001b[0;34m(\u001b[0m\u001b[0;34m[\u001b[0m\u001b[0mtable\u001b[0m\u001b[0;34m[\u001b[0m\u001b[0mv\u001b[0m\u001b[0;34m]\u001b[0m \u001b[0;32mfor\u001b[0m \u001b[0mv\u001b[0m \u001b[0;32min\u001b[0m \u001b[0mvalues\u001b[0m\u001b[0;34m]\u001b[0m\u001b[0;34m)\u001b[0m\u001b[0;34m\u001b[0m\u001b[0;34m\u001b[0m\u001b[0m\n\u001b[0m\u001b[1;32m     65\u001b[0m         \u001b[0;32mexcept\u001b[0m \u001b[0mKeyError\u001b[0m \u001b[0;32mas\u001b[0m \u001b[0me\u001b[0m\u001b[0;34m:\u001b[0m\u001b[0;34m\u001b[0m\u001b[0;34m\u001b[0m\u001b[0m\n",
            "\u001b[0;31mKeyError\u001b[0m: nan",
            "\nDuring handling of the above exception, another exception occurred:\n",
            "\u001b[0;31mValueError\u001b[0m                                Traceback (most recent call last)",
            "\u001b[0;32m<ipython-input-17-c7501bde0f68>\u001b[0m in \u001b[0;36m<module>\u001b[0;34m()\u001b[0m\n\u001b[0;32m----> 1\u001b[0;31m \u001b[0mtrain_data\u001b[0m\u001b[0;34m,\u001b[0m \u001b[0mtest_data\u001b[0m \u001b[0;34m=\u001b[0m \u001b[0mpreprocessing\u001b[0m\u001b[0;34m(\u001b[0m\u001b[0mtrain\u001b[0m\u001b[0;34m,\u001b[0m \u001b[0mtest\u001b[0m\u001b[0;34m)\u001b[0m\u001b[0;34m\u001b[0m\u001b[0;34m\u001b[0m\u001b[0m\n\u001b[0m\u001b[1;32m      2\u001b[0m \u001b[0mx_train\u001b[0m \u001b[0;34m=\u001b[0m \u001b[0mtrain_data\u001b[0m\u001b[0;34m.\u001b[0m\u001b[0msort_values\u001b[0m\u001b[0;34m[\u001b[0m\u001b[0;34m'TransactionDT'\u001b[0m\u001b[0;34m]\u001b[0m\u001b[0;34m.\u001b[0m\u001b[0mdrop\u001b[0m\u001b[0;34m(\u001b[0m\u001b[0;34m[\u001b[0m\u001b[0;34m'isFraud'\u001b[0m\u001b[0;34m,\u001b[0m \u001b[0;34m'TransactionID'\u001b[0m\u001b[0;34m,\u001b[0m \u001b[0;34m'TransactionDT'\u001b[0m\u001b[0;34m]\u001b[0m\u001b[0;34m,\u001b[0m \u001b[0maxis\u001b[0m \u001b[0;34m=\u001b[0m \u001b[0;36m1\u001b[0m\u001b[0;34m)\u001b[0m\u001b[0;34m\u001b[0m\u001b[0;34m\u001b[0m\u001b[0m\n\u001b[1;32m      3\u001b[0m \u001b[0my_train\u001b[0m \u001b[0;34m=\u001b[0m \u001b[0mtrain_data\u001b[0m\u001b[0;34m.\u001b[0m\u001b[0msort_values\u001b[0m\u001b[0;34m[\u001b[0m\u001b[0;34m'TransactionDT'\u001b[0m\u001b[0;34m]\u001b[0m\u001b[0;34m[\u001b[0m\u001b[0;34m'isFraud'\u001b[0m\u001b[0;34m]\u001b[0m\u001b[0;34m\u001b[0m\u001b[0;34m\u001b[0m\u001b[0m\n\u001b[1;32m      4\u001b[0m \u001b[0mx_test\u001b[0m \u001b[0;34m=\u001b[0m \u001b[0mtest_data\u001b[0m\u001b[0;34m.\u001b[0m\u001b[0mdrop\u001b[0m\u001b[0;34m(\u001b[0m\u001b[0;34m[\u001b[0m\u001b[0;34m'TransactionID'\u001b[0m\u001b[0;34m,\u001b[0m \u001b[0;34m'TransactionDT'\u001b[0m\u001b[0;34m]\u001b[0m\u001b[0;34m,\u001b[0m \u001b[0maxis\u001b[0m \u001b[0;34m=\u001b[0m \u001b[0;36m1\u001b[0m\u001b[0;34m)\u001b[0m\u001b[0;34m\u001b[0m\u001b[0;34m\u001b[0m\u001b[0m\n\u001b[1;32m      5\u001b[0m \u001b[0;32mdel\u001b[0m \u001b[0mtrain\u001b[0m\u001b[0;34m,\u001b[0m \u001b[0mtrain_data\u001b[0m\u001b[0;34m\u001b[0m\u001b[0;34m\u001b[0m\u001b[0m\n",
            "\u001b[0;32m<ipython-input-16-0cac66946076>\u001b[0m in \u001b[0;36mpreprocessing\u001b[0;34m(df_train, df_test)\u001b[0m\n\u001b[1;32m     39\u001b[0m   \u001b[0;32mfor\u001b[0m \u001b[0mfeat\u001b[0m \u001b[0;32min\u001b[0m \u001b[0mobj_feature\u001b[0m\u001b[0;34m:\u001b[0m\u001b[0;34m\u001b[0m\u001b[0;34m\u001b[0m\u001b[0m\n\u001b[1;32m     40\u001b[0m      \u001b[0mle\u001b[0m\u001b[0;34m.\u001b[0m\u001b[0mfit\u001b[0m\u001b[0;34m(\u001b[0m\u001b[0mlist\u001b[0m\u001b[0;34m(\u001b[0m\u001b[0mdf_train\u001b[0m\u001b[0;34m[\u001b[0m\u001b[0mfeat\u001b[0m\u001b[0;34m]\u001b[0m\u001b[0;34m.\u001b[0m\u001b[0mastype\u001b[0m\u001b[0;34m(\u001b[0m\u001b[0mstr\u001b[0m\u001b[0;34m)\u001b[0m\u001b[0;34m.\u001b[0m\u001b[0mvalues\u001b[0m\u001b[0;34m)\u001b[0m \u001b[0;34m+\u001b[0m \u001b[0mlist\u001b[0m\u001b[0;34m(\u001b[0m\u001b[0mdf_test\u001b[0m\u001b[0;34m[\u001b[0m\u001b[0mfeat\u001b[0m\u001b[0;34m]\u001b[0m\u001b[0;34m.\u001b[0m\u001b[0mastype\u001b[0m\u001b[0;34m(\u001b[0m\u001b[0mstr\u001b[0m\u001b[0;34m)\u001b[0m\u001b[0;34m.\u001b[0m\u001b[0mvalues\u001b[0m\u001b[0;34m)\u001b[0m\u001b[0;34m)\u001b[0m\u001b[0;34m\u001b[0m\u001b[0;34m\u001b[0m\u001b[0m\n\u001b[0;32m---> 41\u001b[0;31m      \u001b[0mdf_train\u001b[0m\u001b[0;34m[\u001b[0m\u001b[0mfeat\u001b[0m\u001b[0;34m]\u001b[0m \u001b[0;34m=\u001b[0m \u001b[0mle\u001b[0m\u001b[0;34m.\u001b[0m\u001b[0mtransform\u001b[0m\u001b[0;34m(\u001b[0m\u001b[0mdf_train\u001b[0m\u001b[0;34m[\u001b[0m\u001b[0mfeat\u001b[0m\u001b[0;34m]\u001b[0m\u001b[0;34m)\u001b[0m\u001b[0;34m\u001b[0m\u001b[0;34m\u001b[0m\u001b[0m\n\u001b[0m\u001b[1;32m     42\u001b[0m      \u001b[0mdf_test\u001b[0m\u001b[0;34m[\u001b[0m\u001b[0mfeat\u001b[0m\u001b[0;34m]\u001b[0m \u001b[0;34m=\u001b[0m \u001b[0mle\u001b[0m\u001b[0;34m.\u001b[0m\u001b[0mtransform\u001b[0m\u001b[0;34m(\u001b[0m\u001b[0mdf_test\u001b[0m\u001b[0;34m[\u001b[0m\u001b[0mfeat\u001b[0m\u001b[0;34m]\u001b[0m\u001b[0;34m)\u001b[0m\u001b[0;34m\u001b[0m\u001b[0;34m\u001b[0m\u001b[0m\n\u001b[1;32m     43\u001b[0m   \u001b[0;31m# Numerical feature: fillna\u001b[0m\u001b[0;34m\u001b[0m\u001b[0;34m\u001b[0m\u001b[0;34m\u001b[0m\u001b[0m\n",
            "\u001b[0;32m/usr/local/lib/python3.6/dist-packages/sklearn/preprocessing/label.py\u001b[0m in \u001b[0;36mtransform\u001b[0;34m(self, y)\u001b[0m\n\u001b[1;32m    255\u001b[0m             \u001b[0;32mreturn\u001b[0m \u001b[0mnp\u001b[0m\u001b[0;34m.\u001b[0m\u001b[0marray\u001b[0m\u001b[0;34m(\u001b[0m\u001b[0;34m[\u001b[0m\u001b[0;34m]\u001b[0m\u001b[0;34m)\u001b[0m\u001b[0;34m\u001b[0m\u001b[0;34m\u001b[0m\u001b[0m\n\u001b[1;32m    256\u001b[0m \u001b[0;34m\u001b[0m\u001b[0m\n\u001b[0;32m--> 257\u001b[0;31m         \u001b[0m_\u001b[0m\u001b[0;34m,\u001b[0m \u001b[0my\u001b[0m \u001b[0;34m=\u001b[0m \u001b[0m_encode\u001b[0m\u001b[0;34m(\u001b[0m\u001b[0my\u001b[0m\u001b[0;34m,\u001b[0m \u001b[0muniques\u001b[0m\u001b[0;34m=\u001b[0m\u001b[0mself\u001b[0m\u001b[0;34m.\u001b[0m\u001b[0mclasses_\u001b[0m\u001b[0;34m,\u001b[0m \u001b[0mencode\u001b[0m\u001b[0;34m=\u001b[0m\u001b[0;32mTrue\u001b[0m\u001b[0;34m)\u001b[0m\u001b[0;34m\u001b[0m\u001b[0;34m\u001b[0m\u001b[0m\n\u001b[0m\u001b[1;32m    258\u001b[0m         \u001b[0;32mreturn\u001b[0m \u001b[0my\u001b[0m\u001b[0;34m\u001b[0m\u001b[0;34m\u001b[0m\u001b[0m\n\u001b[1;32m    259\u001b[0m \u001b[0;34m\u001b[0m\u001b[0m\n",
            "\u001b[0;32m/usr/local/lib/python3.6/dist-packages/sklearn/preprocessing/label.py\u001b[0m in \u001b[0;36m_encode\u001b[0;34m(values, uniques, encode)\u001b[0m\n\u001b[1;32m    103\u001b[0m     \u001b[0;32mif\u001b[0m \u001b[0mvalues\u001b[0m\u001b[0;34m.\u001b[0m\u001b[0mdtype\u001b[0m \u001b[0;34m==\u001b[0m \u001b[0mobject\u001b[0m\u001b[0;34m:\u001b[0m\u001b[0;34m\u001b[0m\u001b[0;34m\u001b[0m\u001b[0m\n\u001b[1;32m    104\u001b[0m         \u001b[0;32mtry\u001b[0m\u001b[0;34m:\u001b[0m\u001b[0;34m\u001b[0m\u001b[0;34m\u001b[0m\u001b[0m\n\u001b[0;32m--> 105\u001b[0;31m             \u001b[0mres\u001b[0m \u001b[0;34m=\u001b[0m \u001b[0m_encode_python\u001b[0m\u001b[0;34m(\u001b[0m\u001b[0mvalues\u001b[0m\u001b[0;34m,\u001b[0m \u001b[0muniques\u001b[0m\u001b[0;34m,\u001b[0m \u001b[0mencode\u001b[0m\u001b[0;34m)\u001b[0m\u001b[0;34m\u001b[0m\u001b[0;34m\u001b[0m\u001b[0m\n\u001b[0m\u001b[1;32m    106\u001b[0m         \u001b[0;32mexcept\u001b[0m \u001b[0mTypeError\u001b[0m\u001b[0;34m:\u001b[0m\u001b[0;34m\u001b[0m\u001b[0;34m\u001b[0m\u001b[0m\n\u001b[1;32m    107\u001b[0m             \u001b[0;32mraise\u001b[0m \u001b[0mTypeError\u001b[0m\u001b[0;34m(\u001b[0m\u001b[0;34m\"argument must be a string or number\"\u001b[0m\u001b[0;34m)\u001b[0m\u001b[0;34m\u001b[0m\u001b[0;34m\u001b[0m\u001b[0m\n",
            "\u001b[0;32m/usr/local/lib/python3.6/dist-packages/sklearn/preprocessing/label.py\u001b[0m in \u001b[0;36m_encode_python\u001b[0;34m(values, uniques, encode)\u001b[0m\n\u001b[1;32m     65\u001b[0m         \u001b[0;32mexcept\u001b[0m \u001b[0mKeyError\u001b[0m \u001b[0;32mas\u001b[0m \u001b[0me\u001b[0m\u001b[0;34m:\u001b[0m\u001b[0;34m\u001b[0m\u001b[0;34m\u001b[0m\u001b[0m\n\u001b[1;32m     66\u001b[0m             raise ValueError(\"y contains previously unseen labels: %s\"\n\u001b[0;32m---> 67\u001b[0;31m                              % str(e))\n\u001b[0m\u001b[1;32m     68\u001b[0m         \u001b[0;32mreturn\u001b[0m \u001b[0muniques\u001b[0m\u001b[0;34m,\u001b[0m \u001b[0mencoded\u001b[0m\u001b[0;34m\u001b[0m\u001b[0;34m\u001b[0m\u001b[0m\n\u001b[1;32m     69\u001b[0m     \u001b[0;32melse\u001b[0m\u001b[0;34m:\u001b[0m\u001b[0;34m\u001b[0m\u001b[0;34m\u001b[0m\u001b[0m\n",
            "\u001b[0;31mValueError\u001b[0m: y contains previously unseen labels: nan"
          ]
        }
      ]
    },
    {
      "cell_type": "code",
      "metadata": {
        "id": "XUc2bg6fQyyL",
        "colab_type": "code",
        "colab": {}
      },
      "source": [
        "# Lightgbm\n",
        "\n",
        "parames = {\n",
        "    'num_leaves':256,\n",
        "    'max_depth':15,\n",
        "    'learning_rate':0.05,\n",
        "    'metric':'auc',\n",
        "    'reg_alpha':0.3,\n",
        "    'reg_lambda':0.3,\n",
        "    'verbosity':-1\n",
        "}\n",
        "\n",
        "result_dict_lgb = train_model_classification(\n",
        "    x_train, x_test, y_train, params, n_fold, model_type = 'lgb',\n",
        "    eval_metric = 'auc', verbose = 500,\n",
        "    early_stopping_rounds = 200, n_estimators = 5000\n",
        ")\n"
      ],
      "execution_count": 0,
      "outputs": []
    },
    {
      "cell_type": "code",
      "metadata": {
        "id": "5gOkyKWVypxg",
        "colab_type": "code",
        "colab": {}
      },
      "source": [
        "# Logistic regression\n",
        "logit = LogisticRegression(\n",
        "    penalty= 'l2',\n",
        "    verbose = 50,\n",
        "    random_state = 99)\n",
        "logit.fit(x_data, y_data)\n",
        "print('ROC accuracy: ', roc_auc_score(y_valid, logit.predict(x_valid)))\n",
        "\n",
        "del train_\n",
        "gc.collect()"
      ],
      "execution_count": 0,
      "outputs": []
    },
    {
      "cell_type": "markdown",
      "metadata": {
        "id": "w-EcDPauaROa",
        "colab_type": "text"
      },
      "source": [
        "Current ROC AUC: 0.57"
      ]
    }
  ]
}