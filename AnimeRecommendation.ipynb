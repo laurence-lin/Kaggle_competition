{
  "nbformat": 4,
  "nbformat_minor": 0,
  "metadata": {
    "colab": {
      "name": "AnimeRecommendation",
      "provenance": [],
      "collapsed_sections": [],
      "machine_shape": "hm",
      "include_colab_link": true
    },
    "kernelspec": {
      "name": "python3",
      "display_name": "Python 3"
    },
    "accelerator": "GPU"
  },
  "cells": [
    {
      "cell_type": "markdown",
      "metadata": {
        "id": "view-in-github",
        "colab_type": "text"
      },
      "source": [
        "<a href=\"https://colab.research.google.com/github/laurence-lin/Kaggle_competition/blob/master/AnimeRecommendation.ipynb\" target=\"_parent\"><img src=\"https://colab.research.google.com/assets/colab-badge.svg\" alt=\"Open In Colab\"/></a>"
      ]
    },
    {
      "cell_type": "code",
      "metadata": {
        "id": "DlkYX3rRP01w",
        "colab_type": "code",
        "outputId": "3923bc85-6c21-44bd-8cd3-f297b2e6abf2",
        "colab": {
          "base_uri": "https://localhost:8080/",
          "height": 121
        }
      },
      "source": [
        "import numpy as np\n",
        "import pandas as pd\n",
        "\n",
        "%tensorflow_version 1.9\n",
        "import tensorflow as tf\n",
        "import keras\n",
        "import lightgbm as lgb\n",
        "import sklearn\n",
        "\n",
        "import matplotlib.pyplot as plt\n",
        "import seaborn as sns\n",
        "\n",
        "import os\n",
        "import gc\n"
      ],
      "execution_count": 1,
      "outputs": [
        {
          "output_type": "stream",
          "text": [
            "`%tensorflow_version` only switches the major version: `1.x` or `2.x`.\n",
            "You set: `1.9`. This will be interpreted as: `1.x`.\n",
            "\n",
            "\n",
            "TensorFlow 1.x selected.\n"
          ],
          "name": "stdout"
        },
        {
          "output_type": "stream",
          "text": [
            "Using TensorFlow backend.\n"
          ],
          "name": "stderr"
        }
      ]
    },
    {
      "cell_type": "code",
      "metadata": {
        "id": "Jd_4W0N1ZK6r",
        "colab_type": "code",
        "outputId": "529f4b53-a3fa-4c38-ff1f-cf2abaf1e860",
        "colab": {
          "base_uri": "https://localhost:8080/",
          "height": 345
        }
      },
      "source": [
        "from google.colab import auth\n",
        "auth.authenticate_user()\n",
        "\n",
        "!gcloud config set project 'blind-detection'\n",
        "!gsutil cp gs://anime_recommend/myanimelist.zip anime.zip\n",
        "!unzip anime.zip"
      ],
      "execution_count": 2,
      "outputs": [
        {
          "output_type": "stream",
          "text": [
            "Updated property [core/project].\n",
            "\n",
            "\n",
            "To take a quick anonymous survey, run:\n",
            "  $ gcloud survey\n",
            "\n",
            "Copying gs://anime_recommend/myanimelist.zip...\n",
            "- [1 files][  1.9 GiB/  1.9 GiB]   41.5 MiB/s                                   \n",
            "Operation completed over 1 objects/1.9 GiB.                                      \n",
            "Archive:  anime.zip\n",
            "  inflating: AnimeList.csv           \n",
            "  inflating: UserAnimeList.csv       \n",
            "  inflating: UserList.csv            \n",
            "  inflating: anime_cleaned.csv       \n",
            "  inflating: anime_filtered.csv      \n",
            "  inflating: animelists_cleaned.csv  \n",
            "  inflating: animelists_filtered.csv  \n",
            "  inflating: users_cleaned.csv       \n",
            "  inflating: users_filtered.csv      \n"
          ],
          "name": "stdout"
        }
      ]
    },
    {
      "cell_type": "code",
      "metadata": {
        "id": "GRzFV4Axf1W4",
        "colab_type": "code",
        "colab": {}
      },
      "source": [
        "'''\n",
        "anime_list = pd.read_csv('AnimeList.csv') # list of animes, with features for each anime\n",
        "user_animelist = pd.read_csv('UserAnimeList.csv') # list of records for each user watch a specific anime\n",
        "user_list = pd.read_csv('UserList.csv')  # list of users, with features of the users behavior\n",
        "\n",
        "# Filtered data: filter users 'with birthdate, and filled the gender & location'\n",
        "anime_filter = pd.read_csv('anime_filtered.csv')\n",
        "useranime_filter = pd.read_csv('animelists_filtered.csv')\n",
        "userlist_filter = pd.read_csv('users_filtered.csv')\n",
        "'''\n",
        "\n",
        "# cleaned data: Truncate some below users, and adjust them with reasonable values:\n",
        "# 1. Users that watch anime with large scale episode, but that anime don't have that much episode\n",
        "# 2. Strange 'last visited date' for users, like: 1900\n",
        "anime = pd.read_csv('anime_cleaned.csv')\n",
        "ratings = pd.read_csv('animelists_cleaned.csv')\n",
        "user = pd.read_csv('users_cleaned.csv')\n",
        "\n"
      ],
      "execution_count": 0,
      "outputs": []
    },
    {
      "cell_type": "code",
      "metadata": {
        "id": "RfJWMFMthg4F",
        "colab_type": "code",
        "outputId": "42e743ff-0b19-4fbe-c595-281df159dd81",
        "colab": {
          "base_uri": "https://localhost:8080/",
          "height": 69
        }
      },
      "source": [
        "#EDA\n",
        "\n",
        "# Cleaned data\n",
        "\n",
        "print(ratings.shape)\n",
        "#print(ratings['my_start_date'].value_counts())\n",
        "# Strange start date exists\n",
        "#print(ratings['my_finish_date'].value_counts()[:10])\n",
        "# Strange finished date: finished in 0000 years \n",
        "\n",
        "#print(ratings.columns)\n",
        "#print(ratings['my_last_updated'].head())\n",
        "\n",
        "# Convert my_last_updated to datetime type\n",
        "#ratings['my_last_updated'] = pd.to_datetime(ratings['my_last_updated'], format = \"%Y-%m-%d %H:%M:%S\")\n",
        "each_rate = ratings.groupby(['username', 'anime_id']).size()  # number of ratings each user gave to each anime\n",
        "print(sorted(each_rate)[-7:]) # sort the \n",
        "# each user only rate each anime once\n",
        "\n",
        "\n",
        "gc.collect()"
      ],
      "execution_count": 39,
      "outputs": [
        {
          "output_type": "stream",
          "text": [
            "(31284030, 11)\n",
            "[1, 1, 1, 1, 1, 1, 1]\n"
          ],
          "name": "stdout"
        },
        {
          "output_type": "execute_result",
          "data": {
            "text/plain": [
              "168"
            ]
          },
          "metadata": {
            "tags": []
          },
          "execution_count": 39
        }
      ]
    },
    {
      "cell_type": "markdown",
      "metadata": {
        "id": "z1RVb0RwJepy",
        "colab_type": "text"
      },
      "source": [
        "myscore: ratings of specific users for single anime.  \n",
        "my_status: status of the watching for this anime \n",
        "\n",
        "1: watching  \n",
        "2: complete  \n",
        "3: on hold  \n",
        "4: dropped  \n",
        "5: plan to watch \n",
        " \n",
        " Cleaned data: 31284030 records"
      ]
    },
    {
      "cell_type": "code",
      "metadata": {
        "id": "zIzaR47HdZ2k",
        "colab_type": "code",
        "colab": {}
      },
      "source": [
        ""
      ],
      "execution_count": 0,
      "outputs": []
    },
    {
      "cell_type": "markdown",
      "metadata": {
        "id": "EPFWRu_1IUcE",
        "colab_type": "text"
      },
      "source": [
        ""
      ]
    }
  ]
}