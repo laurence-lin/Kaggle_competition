{
  "nbformat": 4,
  "nbformat_minor": 0,
  "metadata": {
    "colab": {
      "name": "Ashrae_predict.ipynb",
      "provenance": [],
      "collapsed_sections": [],
      "machine_shape": "hm",
      "include_colab_link": true
    },
    "kernelspec": {
      "name": "python3",
      "display_name": "Python 3"
    },
    "accelerator": "GPU"
  },
  "cells": [
    {
      "cell_type": "markdown",
      "metadata": {
        "id": "view-in-github",
        "colab_type": "text"
      },
      "source": [
        "<a href=\"https://colab.research.google.com/github/laurence-lin/Kaggle_competition/blob/master/Ashrae_predict_EDA.ipynb\" target=\"_parent\"><img src=\"https://colab.research.google.com/assets/colab-badge.svg\" alt=\"Open In Colab\"/></a>"
      ]
    },
    {
      "cell_type": "code",
      "metadata": {
        "id": "j9Vn9mfylThK",
        "colab_type": "code",
        "outputId": "4f3b253a-0dad-40b8-8ef7-f9b1f691fc1e",
        "colab": {
          "base_uri": "https://localhost:8080/",
          "height": 568
        }
      },
      "source": [
        "import numpy as np\n",
        "import pandas as pd\n",
        "import math\n",
        "\n",
        "import sklearn\n",
        "import lightgbm as lgb\n",
        "from sklearn.model_selection import GridSearchCV, train_test_split\n",
        "\n",
        "import matplotlib.pyplot as plt\n",
        "import seaborn as sns\n",
        "import os\n",
        "\n",
        "import gc\n",
        "from google.colab import files\n",
        "# load data from Cloud Storage\n",
        "from google.colab import auth\n",
        "auth.authenticate_user()\n",
        "\n",
        "# Configure GCP project and use gsutil to copy the file from storage\n",
        "\n",
        "!gcloud config set project 'blind-detection'\n",
        "!gsutil -m cp -r gs://ashare_dataset/*.csv  sample_data/\n",
        "\n",
        "\n",
        "\n",
        "# Reduce memory function\n",
        "\n",
        "# Original code from https://www.kaggle.com/gemartin/load-data-reduce-memory-usage by @gemartin\n",
        "# Modified to support timestamp type, categorical type\n",
        "# Modified to add option to use float16\n",
        "\n",
        "\n",
        "from pandas.api.types import is_datetime64_any_dtype as is_datetime\n",
        "from pandas.api.types import is_categorical_dtype\n",
        "\n",
        "def reduce_mem_usage(df, use_float16=False):\n",
        "    \"\"\"\n",
        "    Iterate through all the columns of a dataframe and modify the data type to reduce memory usage.        \n",
        "    \"\"\"\n",
        "    \n",
        "    start_mem = df.memory_usage().sum() / 1024**2\n",
        "    print(\"Memory usage of dataframe is {:.2f} MB\".format(start_mem))\n",
        "    \n",
        "    for col in df.columns:\n",
        "        if is_datetime(df[col]) or is_categorical_dtype(df[col]):\n",
        "            continue\n",
        "        col_type = df[col].dtype\n",
        "        \n",
        "        if col_type != object:\n",
        "            c_min = df[col].min()\n",
        "            c_max = df[col].max()\n",
        "            if str(col_type)[:3] == \"int\":\n",
        "                if c_min > np.iinfo(np.int8).min and c_max < np.iinfo(np.int8).max:\n",
        "                    df[col] = df[col].astype(np.int8)\n",
        "                elif c_min > np.iinfo(np.int16).min and c_max < np.iinfo(np.int16).max:\n",
        "                    df[col] = df[col].astype(np.int16)\n",
        "                elif c_min > np.iinfo(np.int32).min and c_max < np.iinfo(np.int32).max:\n",
        "                    df[col] = df[col].astype(np.int32)\n",
        "                elif c_min > np.iinfo(np.int64).min and c_max < np.iinfo(np.int64).max:\n",
        "                    df[col] = df[col].astype(np.int64)  \n",
        "            else:\n",
        "                if use_float16 and c_min > np.finfo(np.float16).min and c_max < np.finfo(np.float16).max:\n",
        "                    df[col] = df[col].astype(np.float16)\n",
        "                elif c_min > np.finfo(np.float32).min and c_max < np.finfo(np.float32).max:\n",
        "                    df[col] = df[col].astype(np.float32)\n",
        "                else:\n",
        "                    df[col] = df[col].astype(np.float64)\n",
        "        else:\n",
        "            df[col] = df[col].astype(\"category\")\n",
        "\n",
        "    end_mem = df.memory_usage().sum() / 1024**2\n",
        "    print(\"Memory usage after optimization is: {:.2f} MB\".format(end_mem))\n",
        "    print(\"Decreased by {:.1f}%\".format(100 * (start_mem - end_mem) / start_mem))\n",
        "    \n",
        "    return df\n",
        "\n",
        "\n",
        "# Load all datasets and reduce memory\n",
        "print(os.listdir('sample_data/'))\n",
        "data_path = 'sample_data/'\n",
        "train = pd.read_csv(os.path.join(data_path, 'train.csv'), parse_dates = ['timestamp'])\n",
        "test = pd.read_csv(os.path.join(data_path, 'test.csv'), parse_dates = ['timestamp'])\n",
        "building = pd.read_csv(os.path.join(data_path, 'building_metadata.csv'))\n",
        "weather_test = pd.read_csv(os.path.join(data_path, 'weather_test.csv'), parse_dates = ['timestamp'])\n",
        "#submission = pd.read_csv(os.path.join(data_path, 'sample_submission.csv'))\n",
        "weather_train = pd.read_csv(os.path.join(data_path, 'weather_train.csv'), parse_dates = ['timestamp'])\n",
        "\n",
        "train = reduce_mem_usage(train, use_float16 = True)\n",
        "building = reduce_mem_usage(building, use_float16 = True)\n",
        "weather_train = reduce_mem_usage(weather_train, use_float16 = True)\n",
        "test = reduce_mem_usage(test)\n",
        "weather_test = reduce_mem_usage(weather_test)\n",
        "\n",
        "\n"
      ],
      "execution_count": 1,
      "outputs": [
        {
          "output_type": "stream",
          "text": [
            "Updated property [core/project].\n",
            "\n",
            "\n",
            "To take a quick anonymous survey, run:\n",
            "  $ gcloud survey\n",
            "\n",
            "Copying gs://ashare_dataset/building_metadata.csv...\n",
            "Copying gs://ashare_dataset/train.csv...\n",
            "Copying gs://ashare_dataset/test.csv...\n",
            "Copying gs://ashare_dataset/sample_submission.csv...\n",
            "Copying gs://ashare_dataset/weather_test.csv...\n",
            "Copying gs://ashare_dataset/weather_train.csv...\n",
            "| [6/6 files][  2.4 GiB/  2.4 GiB] 100% Done  41.9 MiB/s ETA 00:00:00           \n",
            "Operation completed over 6 objects/2.4 GiB.                                      \n",
            "['anscombe.json', 'README.md', 'weather_train.csv', 'sample_submission.csv', 'building_metadata.csv', 'test.csv', 'train.csv', 'weather_test.csv', 'california_housing_test.csv', 'mnist_test.csv', 'mnist_train_small.csv', 'california_housing_train.csv']\n",
            "Memory usage of dataframe is 616.95 MB\n",
            "Memory usage after optimization is: 289.19 MB\n",
            "Decreased by 53.1%\n",
            "Memory usage of dataframe is 0.07 MB\n",
            "Memory usage after optimization is: 0.02 MB\n",
            "Decreased by 73.8%\n",
            "Memory usage of dataframe is 9.60 MB\n",
            "Memory usage after optimization is: 3.07 MB\n",
            "Decreased by 68.1%\n",
            "Memory usage of dataframe is 1272.51 MB\n",
            "Memory usage after optimization is: 596.49 MB\n",
            "Decreased by 53.1%\n",
            "Memory usage of dataframe is 19.04 MB\n",
            "Memory usage after optimization is: 9.78 MB\n",
            "Decreased by 48.6%\n"
          ],
          "name": "stdout"
        }
      ]
    },
    {
      "cell_type": "code",
      "metadata": {
        "id": "3FInaKj4maFH",
        "colab_type": "code",
        "colab": {
          "base_uri": "https://localhost:8080/",
          "height": 212
        },
        "outputId": "17c8a9ce-1476-4407-e9fb-5c81730bbeb0"
      },
      "source": [
        "# EDA: Data Analysis\n",
        "\n",
        "# Training data: \n",
        "# train: data for each building meter readings, at each timestamp for each building\n",
        "# building: data for each building meta data, at each location\n",
        "# weather_train: weather at each location, at each location\n",
        "\n",
        "# Test data: test, building, weather_test\n",
        "\n",
        "# Prediction target: meter_reading \n",
        "print('Train file information: ')\n",
        "print(train.info())\n"
      ],
      "execution_count": 4,
      "outputs": [
        {
          "output_type": "stream",
          "text": [
            "Train file information: \n",
            "<class 'pandas.core.frame.DataFrame'>\n",
            "RangeIndex: 20216100 entries, 0 to 20216099\n",
            "Data columns (total 4 columns):\n",
            "building_id      int16\n",
            "meter            int8\n",
            "timestamp        datetime64[ns]\n",
            "meter_reading    float32\n",
            "dtypes: datetime64[ns](1), float32(1), int16(1), int8(1)\n",
            "memory usage: 289.2 MB\n",
            "None\n"
          ],
          "name": "stdout"
        }
      ]
    },
    {
      "cell_type": "code",
      "metadata": {
        "id": "3Rlf1SNboNnm",
        "colab_type": "code",
        "colab": {
          "base_uri": "https://localhost:8080/",
          "height": 247
        },
        "outputId": "7dba7c4e-1c82-4b80-be23-6329fe641f4d"
      },
      "source": [
        "print('Building meta data structure: ')\n",
        "print(building.info())"
      ],
      "execution_count": 5,
      "outputs": [
        {
          "output_type": "stream",
          "text": [
            "Building meta data structure: \n",
            "<class 'pandas.core.frame.DataFrame'>\n",
            "RangeIndex: 1449 entries, 0 to 1448\n",
            "Data columns (total 6 columns):\n",
            "site_id        1449 non-null int8\n",
            "building_id    1449 non-null int16\n",
            "primary_use    1449 non-null category\n",
            "square_feet    1449 non-null int32\n",
            "year_built     675 non-null float16\n",
            "floor_count    355 non-null float16\n",
            "dtypes: category(1), float16(2), int16(1), int32(1), int8(1)\n",
            "memory usage: 17.9 KB\n",
            "None\n"
          ],
          "name": "stdout"
        }
      ]
    },
    {
      "cell_type": "code",
      "metadata": {
        "id": "J0bPIQt4oTFz",
        "colab_type": "code",
        "colab": {
          "base_uri": "https://localhost:8080/",
          "height": 300
        },
        "outputId": "a3641056-36a6-46e0-8b20-a4315d83d6b9"
      },
      "source": [
        "print('Training weather data structure: ')\n",
        "print(weather_train.info())"
      ],
      "execution_count": 6,
      "outputs": [
        {
          "output_type": "stream",
          "text": [
            "Training weather data structure: \n",
            "<class 'pandas.core.frame.DataFrame'>\n",
            "RangeIndex: 139773 entries, 0 to 139772\n",
            "Data columns (total 9 columns):\n",
            "site_id               139773 non-null int8\n",
            "timestamp             139773 non-null datetime64[ns]\n",
            "air_temperature       139718 non-null float16\n",
            "cloud_coverage        70600 non-null float16\n",
            "dew_temperature       139660 non-null float16\n",
            "precip_depth_1_hr     89484 non-null float16\n",
            "sea_level_pressure    129155 non-null float16\n",
            "wind_direction        133505 non-null float16\n",
            "wind_speed            139469 non-null float16\n",
            "dtypes: datetime64[ns](1), float16(7), int8(1)\n",
            "memory usage: 3.1 MB\n",
            "None\n"
          ],
          "name": "stdout"
        }
      ]
    },
    {
      "cell_type": "code",
      "metadata": {
        "id": "6YQnJQf3jMYz",
        "colab_type": "code",
        "outputId": "806b6cee-380d-4529-ddef-bd47ba546409",
        "colab": {
          "base_uri": "https://localhost:8080/",
          "height": 529
        }
      },
      "source": [
        "# EDA: Data analysis\n",
        "\n",
        "\n",
        "# Observe target distribution\n",
        "\n",
        "plt.scatter(range(train.shape[0]), np.sort(train['meter_reading'].values))\n",
        "plt.xlabel('Index of all measurements')\n",
        "plt.ylabel('Meter Reading Values')\n",
        "plt.title('Target Distributions: Increasing')\n",
        "plt.show()\n",
        "\n",
        "\n",
        "#plt.plot(train['meter_reading'])\n",
        "plt.hist(train['meter_reading'], \n",
        "         bins = 25, #number of histograms to show up\n",
        "         )\n",
        "plt.show()\n",
        "\n",
        "\n",
        "# Observe missing values or zeros\n",
        "# train data\n",
        "# Should deal with missing values here\n",
        "def check_missing(df):\n",
        "  total = df.isnull().sum().sort_values(ascending = False) # missing values in each feature\n",
        "  percent = total / df.shape[0] * 100 # percentage of missing values in each feature\n",
        "  missing_in_data = pd.concat([total, percent], axis = 1, keys = ['Total', 'Percentage'])\n",
        "  print(missing_in_data)\n",
        "\n",
        "#print('Training missing: \\n')\n",
        "#check_missing(train)\n",
        "\n",
        "print('Weather train missing: \\n')\n",
        "check_missing(weather_train)\n",
        "\n",
        "print('Weather test missing: \\n')\n",
        "check_missing(weather_test)\n",
        "\n",
        "print('Building meta missing: \\n')\n",
        "check_missing(building)\n",
        "\n",
        "# Check feature correlation with target\n",
        "# Should do feature selection here\n",
        "corr_ = train.corr(method = 'pearson')\n",
        "print('Most positive correlations:\\n', corr_['meter_reading'].sort_values(ascending = False))\n",
        "import seaborn as sns\n",
        "sns.heatmap(corr_,\n",
        "            annot = True, # write data value in each cell \n",
        "            cmap = plt.cm.RdYlBu_r, # set the color map \n",
        "            vmin = -0.25)\n",
        "plt.title('Correlation heatmap')\n",
        "\n",
        "\n",
        "\n",
        "# Show numerical feature distribution\n",
        "# Should do feature transformation or processing\n",
        "\n",
        "def plot_dist_curve(column):\n",
        "  \n",
        "  #Plot dist curve for weather_train & test data for given column name\n",
        "  \n",
        "  # I don't see the advantage dist better than hist\n",
        "  fig, ax = plt.subplots(figsize = [10, 10]) # ax contains the figure elements\n",
        "  sns.distplot(weather_train[column].dropna(), ax = ax).set_title(column)\n",
        "  sns.distplot(weather_test[column].dropna(), ax = ax)\n",
        "  plt.xlabel(column, fontsize = 15)\n",
        "  plt.legend(['train', 'test']) # legend show by order of plot\n",
        "  plt.show()\n",
        "\n",
        "#plot_dist_curve('air_temperature')\n",
        "\n",
        "# Outlier distribution\n",
        "# Should detect outlier and abandon the outliers from dataset\n",
        "# Outlier: the outlier of (mean value of all meter readings along the timestamp)\n",
        "fig1, ax1 = plt.subplots()\n",
        "y_mean_eachtime = train.groupby('timestamp').meter_reading.mean() # plot the mean value of all meter sensors in each time date\n",
        "print(type(y_mean_eachtime))\n",
        "#plt.plot(y_mean_eachtime.values)\n",
        "y_mean_eachtime.plot(figsize = (20, 8), ax = ax1)\n",
        "\n",
        "y_mean_eachtime.rolling(window = 10).std().plot(figsize = (20, 8))\n",
        "ax1.axhline(y = .009, color = 'red')\n",
        "ax1.legend(['Mean value of meter_reading each date', 'std of 10 date', 'horizontal'])\n",
        "'''\n",
        "'''\n",
        "#print(weather_train.isnull().sum())\n",
        "#print(building.isnull().sum())\n",
        "temp = train.merge(building, on = 'building_id', how = 'left')\n",
        "show = temp.groupby('primary_use').size().reset_index(name = 'count')\n",
        "plt.figure()\n",
        "ax = sns.barplot(show['primary_use'], show['count'])\n",
        "ax.set_xticklabels(ax.get_xticklabels(), rotation = 50, ha = 'right')\n",
        "del temp\n",
        "\n",
        "print('Meter type distribution: ')\n",
        "show_ = train.groupby('meter').size().reset_index(name = 'count')\n",
        "plt.figure(2)\n",
        "ax2 = sns.barplot(show_['meter'], show_['count'])\n",
        "\n",
        "\n",
        "#temp = train.merge(building, on = 'building_id', how = 'left')\n",
        "#temp = temp.merge(weather_train, on = ['site_id', 'timestamp'], how = 'left')\n",
        "plt.figure(1)\n",
        "plt.hist(temp['square_feet'])\n",
        "plt.title('Square feet')\n",
        "\n",
        "square_ = np.log1p(temp['square_feet'])\n",
        "plt.figure(2)\n",
        "plt.hist(square_)\n",
        "\n",
        "\n",
        "plt.show()\n",
        "'''"
      ],
      "execution_count": 0,
      "outputs": [
        {
          "output_type": "display_data",
          "data": {
            "image/png": "[encoded data removed]",
            "text/plain": [
              "<Figure size 432x288 with 1 Axes>"
            ]
          },
          "metadata": {
            "tags": []
          }
        },
        {
          "output_type": "display_data",
          "data": {
            "image/png": "[encoded data removed]",
            "text/plain": [
              "<Figure size 432x288 with 1 Axes>"
            ]
          },
          "metadata": {
            "tags": []
          }
        }
      ]
    },
    {
      "cell_type": "markdown",
      "metadata": {
        "id": "FFzpoW8ebuX8",
        "colab_type": "text"
      },
      "source": [
        "As to training data, I've about 1448 buildings to predict. \n",
        "Time scan over 3 years, each day as time step. "
      ]
    },
    {
      "cell_type": "markdown",
      "metadata": {
        "id": "sFvEyyEfbzt7",
        "colab_type": "text"
      },
      "source": [
        "Now should we rearrange the data? Each building locate in single site.\n",
        "Assumption to rearrange:\n",
        "1. Sort by building_id\n",
        "2. Sort by time_stamp\n",
        "\n",
        "Feature engineering:\n",
        "Data cleaning: delete useless column\n",
        "Data processing: standardization\n",
        "Feature engineering: create new features"
      ]
    }
  ]
}