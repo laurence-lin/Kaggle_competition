{
  "nbformat": 4,
  "nbformat_minor": 0,
  "metadata": {
    "kernelspec": {
      "name": "python3",
      "display_name": "Python 3"
    },
    "language_info": {
      "pygments_lexer": "ipython3",
      "nbconvert_exporter": "python",
      "version": "3.6.4",
      "file_extension": ".py",
      "codemirror_mode": {
        "name": "ipython",
        "version": 3
      },
      "name": "python",
      "mimetype": "text/x-python"
    },
    "colab": {
      "name": "Rossman Store Sales Forecast.ipynb",
      "provenance": [],
      "include_colab_link": true
    },
    "accelerator": "TPU"
  },
  "cells": [
    {
      "cell_type": "markdown",
      "metadata": {
        "id": "view-in-github",
        "colab_type": "text"
      },
      "source": [
        "<a href=\"https://colab.research.google.com/github/laurence-lin/Kaggle_competition/blob/master/Rossman_Store_Sales_Forecast.ipynb\" target=\"_parent\"><img src=\"https://colab.research.google.com/assets/colab-badge.svg\" alt=\"Open In Colab\"/></a>"
      ]
    },
    {
      "cell_type": "code",
      "metadata": {
        "trusted": true,
        "id": "z-xcD87ulvvn",
        "colab_type": "code",
        "outputId": "b251b2b5-9136-464e-8deb-557b62c0fecf",
        "colab": {
          "base_uri": "https://localhost:8080/",
          "height": 104
        }
      },
      "source": [
        "import numpy as np # linear algebra\n",
        "import pandas as pd # data processing, CSV file I/O (e.g. pd.read_csv)\n",
        "import math\n",
        "\n",
        "import matplotlib.pyplot as plt\n",
        "import seaborn as sns\n",
        "\n",
        "%tensorflow_version 1.9\n",
        "import tensorflow as tf\n",
        "from tensorflow import keras\n",
        "import lightgbm as lgb\n",
        "import sklearn\n",
        "from sklearn.model_selection import train_test_split\n",
        "\n",
        "import os\n",
        "import gc\n",
        "\n",
        "import warnings\n",
        "warnings.simplefilter('ignore')\n",
        "      "
      ],
      "execution_count": 1,
      "outputs": [
        {
          "output_type": "stream",
          "text": [
            "`%tensorflow_version` only switches the major version: `1.x` or `2.x`.\n",
            "You set: `1.9`. This will be interpreted as: `1.x`.\n",
            "\n",
            "\n",
            "TensorFlow 1.x selected.\n"
          ],
          "name": "stdout"
        }
      ]
    },
    {
      "cell_type": "code",
      "metadata": {
        "id": "F12zirYml4QS",
        "colab_type": "code",
        "outputId": "219c3fcf-8f50-45c9-8830-b390d8933c8e",
        "colab": {
          "resources": {
            "http://localhost:8080/nbextensions/google.colab/files.js": {
              "data": "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",
              "ok": true,
              "headers": [
                [
                  "content-type",
                  "application/javascript"
                ]
              ],
              "status": 200,
              "status_text": ""
            }
          },
          "base_uri": "https://localhost:8080/",
          "height": 421
        }
      },
      "source": [
        "from google.colab import files\n",
        "\n",
        "\n",
        "%cd /root/\n",
        "!mkdir .kaggle\n",
        "%cd .kaggle\n",
        "files.upload()\n",
        "!kaggle competitions download -c rossmann-store-sales\n",
        "!unzip test.csv.zip\n",
        "!unzip train.csv.zip"
      ],
      "execution_count": 2,
      "outputs": [
        {
          "output_type": "stream",
          "text": [
            "/root\n",
            "/root/.kaggle\n"
          ],
          "name": "stdout"
        },
        {
          "output_type": "display_data",
          "data": {
            "text/html": [
              "\n",
              "     <input type=\"file\" id=\"files-ee3fa4b3-22d1-4c73-b78f-44ba7b09d826\" name=\"files[]\" multiple disabled />\n",
              "     <output id=\"result-ee3fa4b3-22d1-4c73-b78f-44ba7b09d826\">\n",
              "      Upload widget is only available when the cell has been executed in the\n",
              "      current browser session. Please rerun this cell to enable.\n",
              "      </output>\n",
              "      <script src=\"/nbextensions/google.colab/files.js\"></script> "
            ],
            "text/plain": [
              "<IPython.core.display.HTML object>"
            ]
          },
          "metadata": {
            "tags": []
          }
        },
        {
          "output_type": "stream",
          "text": [
            "Saving kaggle.json to kaggle.json\n",
            "Warning: Your Kaggle API key is readable by other users on this system! To fix this, you can run 'chmod 600 /root/.kaggle/kaggle.json'\n",
            "Warning: Looks like you're using an outdated API Version, please consider updating (server 1.5.6 / client 1.5.4)\n",
            "Downloading sample_submission.csv to /root/.kaggle\n",
            "  0% 0.00/310k [00:00<?, ?B/s]\n",
            "100% 310k/310k [00:00<00:00, 42.8MB/s]\n",
            "Downloading test.csv.zip to /root/.kaggle\n",
            "  0% 0.00/192k [00:00<?, ?B/s]\n",
            "100% 192k/192k [00:00<00:00, 59.4MB/s]\n",
            "Downloading train.csv.zip to /root/.kaggle\n",
            " 75% 5.00M/6.71M [00:00<00:00, 39.4MB/s]\n",
            "100% 6.71M/6.71M [00:00<00:00, 41.6MB/s]\n",
            "Downloading store.csv to /root/.kaggle\n",
            "  0% 0.00/44.0k [00:00<?, ?B/s]\n",
            "100% 44.0k/44.0k [00:00<00:00, 37.9MB/s]\n",
            "Archive:  test.csv.zip\n",
            "  inflating: test.csv                \n",
            "Archive:  train.csv.zip\n",
            "  inflating: train.csv               \n"
          ],
          "name": "stdout"
        }
      ]
    },
    {
      "cell_type": "code",
      "metadata": {
        "id": "vc8LLe6bnFqH",
        "colab_type": "code",
        "colab": {
          "base_uri": "https://localhost:8080/",
          "height": 34
        },
        "outputId": "e0419e58-84ee-45bf-98b4-6981f4b3b33c"
      },
      "source": [
        "types = {'CompetitionOpenSinceYear': np.dtype(int),\n",
        "         'CompetitionOpenSinceMonth': np.dtype(int),\n",
        "         'StateHoliday': np.dtype(str),\n",
        "         'Promo2SinceWeek': np.dtype(int),\n",
        "         'SchoolHoliday': np.dtype(float),\n",
        "         'PromoInterval': np.dtype(str)}\n",
        "\n",
        "train = pd.read_csv('train.csv', parse_dates = [2], dtype = types)\n",
        "test = pd.read_csv('test.csv', parse_dates = [3], dtype = types)\n",
        "store = pd.read_csv('store.csv')\n",
        "\n",
        "gc.collect()"
      ],
      "execution_count": 64,
      "outputs": [
        {
          "output_type": "execute_result",
          "data": {
            "text/plain": [
              "826"
            ]
          },
          "metadata": {
            "tags": []
          },
          "execution_count": 64
        }
      ]
    },
    {
      "cell_type": "code",
      "metadata": {
        "id": "oADO7zQKsoKl",
        "colab_type": "code",
        "outputId": "c4885900-4aad-40c3-b2c5-c7146b3ce898",
        "colab": {
          "base_uri": "https://localhost:8080/",
          "height": 276
        }
      },
      "source": [
        "print(train.info())"
      ],
      "execution_count": 14,
      "outputs": [
        {
          "output_type": "stream",
          "text": [
            "<class 'pandas.core.frame.DataFrame'>\n",
            "RangeIndex: 1017209 entries, 0 to 1017208\n",
            "Data columns (total 9 columns):\n",
            "Store            1017209 non-null int64\n",
            "DayOfWeek        1017209 non-null int64\n",
            "Date             1017209 non-null datetime64[ns]\n",
            "Sales            1017209 non-null int64\n",
            "Customers        1017209 non-null int64\n",
            "Open             1017209 non-null int64\n",
            "Promo            1017209 non-null int64\n",
            "StateHoliday     1017209 non-null object\n",
            "SchoolHoliday    1017209 non-null float64\n",
            "dtypes: datetime64[ns](1), float64(1), int64(6), object(1)\n",
            "memory usage: 69.8+ MB\n",
            "None\n"
          ],
          "name": "stdout"
        }
      ]
    },
    {
      "cell_type": "code",
      "metadata": {
        "id": "zgMgSGdJpu9N",
        "colab_type": "code",
        "outputId": "81cf05df-a2b7-4056-ad6e-db24acf7057d",
        "colab": {
          "base_uri": "https://localhost:8080/",
          "height": 294
        }
      },
      "source": [
        "print(store.info())"
      ],
      "execution_count": 15,
      "outputs": [
        {
          "output_type": "stream",
          "text": [
            "<class 'pandas.core.frame.DataFrame'>\n",
            "RangeIndex: 1115 entries, 0 to 1114\n",
            "Data columns (total 10 columns):\n",
            "Store                        1115 non-null int64\n",
            "StoreType                    1115 non-null object\n",
            "Assortment                   1115 non-null object\n",
            "CompetitionDistance          1112 non-null float64\n",
            "CompetitionOpenSinceMonth    761 non-null float64\n",
            "CompetitionOpenSinceYear     761 non-null float64\n",
            "Promo2                       1115 non-null int64\n",
            "Promo2SinceWeek              571 non-null float64\n",
            "Promo2SinceYear              571 non-null float64\n",
            "PromoInterval                571 non-null object\n",
            "dtypes: float64(5), int64(2), object(3)\n",
            "memory usage: 87.2+ KB\n",
            "None\n"
          ],
          "name": "stdout"
        }
      ]
    },
    {
      "cell_type": "markdown",
      "metadata": {
        "id": "Vhb4rlMhs8Lu",
        "colab_type": "text"
      },
      "source": [
        "There are some data types in files that should be convert:  \n",
        "object type, datetime features, and some features from float to int."
      ]
    },
    {
      "cell_type": "code",
      "metadata": {
        "id": "CS9p1GlBrrOc",
        "colab_type": "code",
        "outputId": "c2b58504-a9b8-4f8a-88c5-8cb2bd8382d4",
        "colab": {
          "base_uri": "https://localhost:8080/",
          "height": 259
        }
      },
      "source": [
        "print(store)"
      ],
      "execution_count": 0,
      "outputs": [
        {
          "output_type": "stream",
          "text": [
            "   Store StoreType  ... Promo2SinceYear    PromoInterval\n",
            "0      1         c  ...             NaN              NaN\n",
            "1      2         a  ...          2010.0  Jan,Apr,Jul,Oct\n",
            "2      3         a  ...          2011.0  Jan,Apr,Jul,Oct\n",
            "3      4         c  ...             NaN              NaN\n",
            "4      5         a  ...             NaN              NaN\n",
            "\n",
            "[5 rows x 10 columns]\n",
            "0     9.0\n",
            "1    11.0\n",
            "2    12.0\n",
            "3     9.0\n",
            "4     4.0\n",
            "Name: CompetitionOpenSinceMonth, dtype: float64\n"
          ],
          "name": "stdout"
        }
      ]
    },
    {
      "cell_type": "code",
      "metadata": {
        "trusted": true,
        "id": "XI8KxIa7lvvs",
        "colab_type": "code",
        "colab": {}
      },
      "source": [
        "def rmspe(y_true, y_pred):\n",
        "  return np.sqrt(np.mean(( 1 - (y_true/y_pred) )**2))\n",
        "\n",
        "def rmspe_lgb(y_true, y_pred):\n",
        "  y_pred = np.expm1(y_pred)\n",
        "  y_true = np.expm1(y_true)\n",
        "  return 'rmspe', rmspe(y_true, y_pred)\n",
        "\n",
        "def build_feature(features, data):\n",
        "  '''\n",
        "  Feature engineering\n",
        "  features: final feature that would be used for training\n",
        "  data: input data matrix\n",
        "  '''\n",
        "  # 1. Fill NaN\n",
        "  # fill NaN values if there is any\n",
        "  data.fillna(0, inplace = True)\n",
        "  features.extend(['Store', 'CompetitionDistance', 'Promo', 'Promo2', 'SchoolHoliday'])\n",
        "\n",
        "  # 2. Encode categorical features\n",
        "  # Map categorical features to numerical\n",
        "  mappings = {'0':0, 'a':1, 'b':2, 'c':3, 'd':4}\n",
        "  data['StoreType'].replace(mappings, inplace = True)\n",
        "  data['Assortment'].replace(mappings, inplace = True)\n",
        "  data['StateHoliday'].replace(mappings, inplace = True)\n",
        "  features.extend(['StoreType', 'Assortment', 'StateHoliday'])\n",
        "\n",
        "  # 3. Create new features\n",
        "  # Add timestamp features\n",
        "  data['Year'] = data['Date'].dt.year\n",
        "  data['Month'] = data['Date'].dt.month\n",
        "  data['Day'] = data.Date.dt.day\n",
        "  data['DayOfWeek'] = data.Date.dt.dayofweek\n",
        "  data['WeekOfYear'] = data.Date.dt.weekofyear\n",
        "  features.extend(['Year', 'Month', 'Day', 'DayOfWeek', 'WeekOfYear'])\n",
        "\n",
        "  # The total months passed since the competition store opened\n",
        "  data['CompetitionOpen'] = 12*(data['Year'] - data['CompetitionOpenSinceYear']) +\\\n",
        "                             (data['Month'] - data['CompetitionOpenSinceMonth'])\n",
        "  # Total months passed since the Promo2 activity started\n",
        "  data['PromoOpen'] = 12*(data['Year'] - data['Promo2SinceYear']) + \\\n",
        "                       (data['WeekOfYear'] - data['Promo2SinceWeek'])/4\n",
        "  data['PromoOpen'] = data['PromoOpen'].apply(lambda x: x if x > 0 else 0)\n",
        "  data.loc[data['Promo2SinceYear'] == 0, 'PromoOpen'] = 0\n",
        "  features.append('CompetitionOpen')\n",
        "\n",
        "  # Add feature: whether the date is within the 'Month when the Promo2 occuring'\n",
        "  month2str = {1:'Jan', 2:'Feb', 3:'Mar', 4:'Apr', 5:'May', 6:'Jun', 7:'Jul', \\\n",
        "               8:'Aug', 9:'Sept', 10:'Opt', 11:'Nov', 12:'Dec'}\n",
        "  data['MonthStr'] = data.Month.map(month2str) # string month for each date\n",
        "  data.loc[data['PromoInterval'] == 0, 'PromoInterval'] = ''\n",
        "  data['IsPromoMonth'] = 0\n",
        "  for interval in data['PromoInterval'].unique():\n",
        "    if interval != '':\n",
        "      for month in interval.split(','):\n",
        "        data.loc[(data.MonthStr == month) & (data.PromoInterval == interval), 'IsPromoMonth'] = 1\n",
        "\n",
        "  features.append('IsPromoMonth')\n",
        "\n",
        "  return features, data\n",
        "\n"
      ],
      "execution_count": 0,
      "outputs": []
    },
    {
      "cell_type": "markdown",
      "metadata": {
        "id": "zCYMO20clvvv",
        "colab_type": "text"
      },
      "source": [
        "Data description:\n",
        "Totally 942 days for whole dataset, 48 days to predict.\n",
        "\n",
        "In these 942 days, up to 1115 stores in each day(some store may )\n",
        "\n",
        "Training dataset: time line 2013.03.01-2015.07.31\n",
        "\n",
        "Testing dataset: time line 2015-08-01 to 2015-09-17\n",
        "\n",
        "Stores: 1115 different stores, each store contains 9 features for the store itself\n",
        "\n",
        "Target: predict daily sales 6 weeks in advance"
      ]
    },
    {
      "cell_type": "code",
      "metadata": {
        "trusted": true,
        "id": "KaGjmNWLlvvw",
        "colab_type": "code",
        "colab": {
          "base_uri": "https://localhost:8080/",
          "height": 138
        },
        "outputId": "cefbdaae-8984-4736-ea7e-d83dff6f0e02"
      },
      "source": [
        "# Feature engineering\n",
        "print('Assume store open, if not provided')\n",
        "train['Open'].fillna(1, inplace = True)\n",
        "test['Open'].fillna(1, inplace = True)\n",
        "\n",
        "# Consider only open store for training.\n",
        "print('Consider only open store for training, closed store is filtered')\n",
        "train = train[train.Open == 1]\n",
        "print('Consider only Sales >0, to simplify calculation of RMSPE')\n",
        "train = train[train.Sales > 0]\n",
        "\n",
        "# Use merge to concat store to train & test set, while 'on' could fit the rows with 'Store'\n",
        "# merge() method, the two merge dataframe should have same column name and value to fit the merging\n",
        "train = pd.merge(train, store, on = 'Store', how = 'left')\n",
        "test = pd.merge(test, store, on = 'Store', how = 'left')\n",
        "print('Train + Store shape:', train.shape)\n",
        "print('Test + Store shape:', test.shape)\n",
        "\n",
        "print('Build feature engineering')\n",
        "features = []\n",
        "features, train = build_feature(features, train)\n",
        "_, test = build_feature([], test)\n",
        "train.loc[:, ['Assortment', 'StateHoliday']] = train.loc[:, ['Assortment', 'StateHoliday']].astype(int)\n",
        "test.loc[:, ['Assortment', 'StateHoliday']] = test.loc[:, ['Assortment', 'StateHoliday']].astype(int)\n",
        "\n",
        "x_train, x_valid = train_test_split(train, test_size = 0.012, random_state = 10)\n",
        "y_train = np.log1p(x_train.Sales)\n",
        "y_valid = np.log1p(x_valid.Sales)\n",
        "\n",
        "print('Training data processed')\n"
      ],
      "execution_count": 65,
      "outputs": [
        {
          "output_type": "stream",
          "text": [
            "Assume store open, if not provided\n",
            "Consider only open store for training, closed store is filtered\n",
            "Consider only Sales >0, to simplify calculation of RMSPE\n",
            "Train + Store shape: (844338, 18)\n",
            "Test + Store shape: (41088, 17)\n",
            "Build feature engineering\n",
            "Training data processed\n"
          ],
          "name": "stdout"
        }
      ]
    },
    {
      "cell_type": "code",
      "metadata": {
        "id": "OtgGZlrFl1Pb",
        "colab_type": "code",
        "colab": {
          "base_uri": "https://localhost:8080/",
          "height": 743
        },
        "outputId": "bcb54400-cc0e-4629-bbef-cbcf33513bb8"
      },
      "source": [
        "print(x_train[features].info())\n",
        "print(x_valid[features].info())"
      ],
      "execution_count": 66,
      "outputs": [
        {
          "output_type": "stream",
          "text": [
            "<class 'pandas.core.frame.DataFrame'>\n",
            "Int64Index: 834205 entries, 167746 to 345353\n",
            "Data columns (total 15 columns):\n",
            "Store                  834205 non-null int64\n",
            "CompetitionDistance    834205 non-null float64\n",
            "Promo                  834205 non-null int64\n",
            "Promo2                 834205 non-null int64\n",
            "SchoolHoliday          834205 non-null float64\n",
            "StoreType              834205 non-null int64\n",
            "Assortment             834205 non-null int64\n",
            "StateHoliday           834205 non-null int64\n",
            "Year                   834205 non-null int64\n",
            "Month                  834205 non-null int64\n",
            "Day                    834205 non-null int64\n",
            "DayOfWeek              834205 non-null int64\n",
            "WeekOfYear             834205 non-null int64\n",
            "CompetitionOpen        834205 non-null float64\n",
            "IsPromoMonth           834205 non-null int64\n",
            "dtypes: float64(3), int64(12)\n",
            "memory usage: 101.8 MB\n",
            "None\n",
            "<class 'pandas.core.frame.DataFrame'>\n",
            "Int64Index: 10133 entries, 688461 to 822858\n",
            "Data columns (total 15 columns):\n",
            "Store                  10133 non-null int64\n",
            "CompetitionDistance    10133 non-null float64\n",
            "Promo                  10133 non-null int64\n",
            "Promo2                 10133 non-null int64\n",
            "SchoolHoliday          10133 non-null float64\n",
            "StoreType              10133 non-null int64\n",
            "Assortment             10133 non-null int64\n",
            "StateHoliday           10133 non-null int64\n",
            "Year                   10133 non-null int64\n",
            "Month                  10133 non-null int64\n",
            "Day                    10133 non-null int64\n",
            "DayOfWeek              10133 non-null int64\n",
            "WeekOfYear             10133 non-null int64\n",
            "CompetitionOpen        10133 non-null float64\n",
            "IsPromoMonth           10133 non-null int64\n",
            "dtypes: float64(3), int64(12)\n",
            "memory usage: 1.2 MB\n",
            "None\n"
          ],
          "name": "stdout"
        }
      ]
    },
    {
      "cell_type": "code",
      "metadata": {
        "id": "YOcNxJ-heQSw",
        "colab_type": "code",
        "colab": {
          "base_uri": "https://localhost:8080/",
          "height": 311
        },
        "outputId": "59470fe0-de3d-4c21-e765-72fbfabd4713"
      },
      "source": [
        "# LightGBM\n",
        "params = {\n",
        "    'boosting_type':'gbdt',\n",
        "    'max_depth':10,\n",
        "    'num_leaves':30,\n",
        "    'n_estimators':300,\n",
        "    'early_stopping_rounds':100,\n",
        "    'learning_rate':0.05,\n",
        "    'subsample':0.9, # subsampling for next tree \n",
        "    'colsample_bytree':0.7, # subsample columns for next tree\n",
        "    'random_state':10,\n",
        "}\n",
        "\n",
        "booster = lgb.LGBMRegressor(**params)\n",
        "print('Start training...')\n",
        "booster.fit(x_train[features], y_train,\n",
        "            eval_set = (x_valid[features], y_valid),\n",
        "            eval_metric = 'rmse', \n",
        "            verbose = 50)\n"
      ],
      "execution_count": 68,
      "outputs": [
        {
          "output_type": "stream",
          "text": [
            "Start training...\n",
            "Training until validation scores don't improve for 100 rounds.\n",
            "[50]\tvalid_0's rmse: 0.332367\tvalid_0's l2: 0.110468\n",
            "[100]\tvalid_0's rmse: 0.303745\tvalid_0's l2: 0.0922611\n",
            "[150]\tvalid_0's rmse: 0.281634\tvalid_0's l2: 0.0793177\n",
            "[200]\tvalid_0's rmse: 0.264841\tvalid_0's l2: 0.0701408\n",
            "[250]\tvalid_0's rmse: 0.248781\tvalid_0's l2: 0.0618919\n",
            "[300]\tvalid_0's rmse: 0.234492\tvalid_0's l2: 0.0549866\n",
            "Did not meet early stopping. Best iteration is:\n",
            "[300]\tvalid_0's rmse: 0.234492\tvalid_0's l2: 0.0549866\n"
          ],
          "name": "stdout"
        },
        {
          "output_type": "execute_result",
          "data": {
            "text/plain": [
              "LGBMRegressor(boosting_type='gbdt', class_weight=None, colsample_bytree=0.7,\n",
              "              early_stopping_rounds=100, importance_type='split',\n",
              "              learning_rate=0.05, max_depth=10, min_child_samples=20,\n",
              "              min_child_weight=0.001, min_split_gain=0.0, n_estimators=300,\n",
              "              n_jobs=-1, num_leaves=30, objective=None, random_state=10,\n",
              "              reg_alpha=0.0, reg_lambda=0.0, silent=True, subsample=0.9,\n",
              "              subsample_for_bin=200000, subsample_freq=0)"
            ]
          },
          "metadata": {
            "tags": []
          },
          "execution_count": 68
        }
      ]
    },
    {
      "cell_type": "code",
      "metadata": {
        "id": "fBwHTNW9jVvt",
        "colab_type": "code",
        "colab": {
          "base_uri": "https://localhost:8080/",
          "height": 69
        },
        "outputId": "b48a30aa-9be8-4044-e3d3-23a39db7b6b6"
      },
      "source": [
        "# Validating and make predictions on test data\n",
        "print('Validating')\n",
        "yhat = booster.predict(x_valid[features])\n",
        "error = rmspe(x_valid.Sales.values, np.expm1(yhat))\n",
        "print('RMSPE on valid sets: {:.6f}'.format(error))\n",
        "\n",
        "print('Make predictions on test set')\n",
        "prediction = booster.predict(test[features])\n",
        "result = pd.DataFrame({'Id':test['Id'], 'Sales':np.expm1(prediction)})\n",
        "\n",
        "result.to_csv('submission.csv', index = False)\n"
      ],
      "execution_count": 69,
      "outputs": [
        {
          "output_type": "stream",
          "text": [
            "Validating\n",
            "RMSPE on valid sets: 0.242789\n",
            "Make predictions on test set\n"
          ],
          "name": "stdout"
        }
      ]
    },
    {
      "cell_type": "code",
      "metadata": {
        "id": "xpmb-aDLqucU",
        "colab_type": "code",
        "colab": {
          "base_uri": "https://localhost:8080/",
          "height": 86
        },
        "outputId": "634f6e71-a402-42fd-b9ae-a811f5b81879"
      },
      "source": [
        "result.to_csv('submission.csv', index = False)\n",
        "!kaggle competitions submit -c rossmann-store-sales -f submission.csv -m \"Message\""
      ],
      "execution_count": 73,
      "outputs": [
        {
          "output_type": "stream",
          "text": [
            "Warning: Your Kaggle API key is readable by other users on this system! To fix this, you can run 'chmod 600 /root/.kaggle/kaggle.json'\n",
            "Warning: Looks like you're using an outdated API Version, please consider updating (server 1.5.6 / client 1.5.4)\n",
            "100% 954k/954k [00:01<00:00, 584kB/s]\n",
            "Successfully submitted to Rossmann Store Sales"
          ],
          "name": "stdout"
        }
      ]
    }
  ]
}