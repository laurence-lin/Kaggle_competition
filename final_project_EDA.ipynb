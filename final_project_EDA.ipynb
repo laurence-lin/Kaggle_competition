{
  "nbformat": 4,
  "nbformat_minor": 0,
  "metadata": {
    "colab": {
      "name": "final_project_EDA.ipynb",
      "provenance": [],
      "collapsed_sections": [],
      "authorship_tag": "ABX9TyMjmTfLJgQKWJnc1KX+B4GX",
      "include_colab_link": true
    },
    "kernelspec": {
      "display_name": "Python 3",
      "name": "python3"
    }
  },
  "cells": [
    {
      "cell_type": "markdown",
      "metadata": {
        "id": "view-in-github",
        "colab_type": "text"
      },
      "source": [
        "<a href=\"https://colab.research.google.com/github/laurence-lin/Kaggle_competition/blob/master/final_project_EDA.ipynb\" target=\"_parent\"><img src=\"https://colab.research.google.com/assets/colab-badge.svg\" alt=\"Open In Colab\"/></a>"
      ]
    },
    {
      "cell_type": "code",
      "metadata": {
        "id": "iFgsESezR2YW",
        "outputId": "db6edaf7-2a29-4140-9c25-62257d07606c",
        "colab": {
          "base_uri": "https://localhost:8080/",
          "height": 34
        }
      },
      "source": [
        "import numpy as np\n",
        "import pandas as pd\n",
        "\n",
        "import tensorflow as tf\n",
        "import lightgbm as lgb\n",
        "import sklearn\n",
        "import cv2\n",
        "\n",
        "%matplotlib inline\n",
        "import matplotlib.pyplot as plt\n",
        "import seaborn as sns\n",
        "\n",
        "import os\n",
        "import gc\n",
        "\n",
        "pd.set_option('display.max_columns' , 500)\n",
        "pd.set_option('display.width', 300)\n",
        "\n",
        "print('Library imported.')\n"
      ],
      "execution_count": 1,
      "outputs": [
        {
          "output_type": "stream",
          "text": [
            "Library imported.\n"
          ],
          "name": "stdout"
        }
      ]
    },
    {
      "cell_type": "code",
      "metadata": {
        "id": "x0NdhSf0pxH5",
        "outputId": "2090877b-91c0-4772-e1f9-602a66c27de3",
        "colab": {
          "base_uri": "https://localhost:8080/",
          "height": 34
        }
      },
      "source": [
        "import multiprocessing\n",
        "\n",
        "multiprocessing.cpu_count()"
      ],
      "execution_count": 2,
      "outputs": [
        {
          "output_type": "execute_result",
          "data": {
            "text/plain": [
              "2"
            ]
          },
          "metadata": {
            "tags": []
          },
          "execution_count": 2
        }
      ]
    },
    {
      "cell_type": "code",
      "metadata": {
        "id": "LsN-GuuhJm8q",
        "outputId": "7644c7b5-f4e5-4a32-f8ae-e05727dd04a4",
        "colab": {
          "resources": {
            "http://localhost:8080/nbextensions/google.colab/files.js": {
              "data": "Ly8gQ29weXJpZ2h0IDIwMTcgR29vZ2xlIExMQwovLwovLyBMaWNlbnNlZCB1bmRlciB0aGUgQXBhY2hlIExpY2Vuc2UsIFZlcnNpb24gMi4wICh0aGUgIkxpY2Vuc2UiKTsKLy8geW91IG1heSBub3QgdXNlIHRoaXMgZmlsZSBleGNlcHQgaW4gY29tcGxpYW5jZSB3aXRoIHRoZSBMaWNlbnNlLgovLyBZb3UgbWF5IG9idGFpbiBhIGNvcHkgb2YgdGhlIExpY2Vuc2UgYXQKLy8KLy8gICAgICBodHRwOi8vd3d3LmFwYWNoZS5vcmcvbGljZW5zZXMvTElDRU5TRS0yLjAKLy8KLy8gVW5sZXNzIHJlcXVpcmVkIGJ5IGFwcGxpY2FibGUgbGF3IG9yIGFncmVlZCB0byBpbiB3cml0aW5nLCBzb2Z0d2FyZQovLyBkaXN0cmlidXRlZCB1bmRlciB0aGUgTGljZW5zZSBpcyBkaXN0cmlidXRlZCBvbiBhbiAiQVMgSVMiIEJBU0lTLAovLyBXSVRIT1VUIFdBUlJBTlRJRVMgT1IgQ09ORElUSU9OUyBPRiBBTlkgS0lORCwgZWl0aGVyIGV4cHJlc3Mgb3IgaW1wbGllZC4KLy8gU2VlIHRoZSBMaWNlbnNlIGZvciB0aGUgc3BlY2lmaWMgbGFuZ3VhZ2UgZ292ZXJuaW5nIHBlcm1pc3Npb25zIGFuZAovLyBsaW1pdGF0aW9ucyB1bmRlciB0aGUgTGljZW5zZS4KCi8qKgogKiBAZmlsZW92ZXJ2aWV3IEhlbHBlcnMgZm9yIGdvb2dsZS5jb2xhYiBQeXRob24gbW9kdWxlLgogKi8KKGZ1bmN0aW9uKHNjb3BlKSB7CmZ1bmN0aW9uIHNwYW4odGV4dCwgc3R5bGVBdHRyaWJ1dGVzID0ge30pIHsKICBjb25zdCBlbGVtZW50ID0gZG9jdW1lbnQuY3JlYXRlRWxlbWVudCgnc3BhbicpOwogIGVsZW1lbnQudGV4dENvbnRlbnQgPSB0ZXh0OwogIGZvciAoY29uc3Qga2V5IG9mIE9iamVjdC5rZXlzKHN0eWxlQXR0cmlidXRlcykpIHsKICAgIGVsZW1lbnQuc3R5bGVba2V5XSA9IHN0eWxlQXR0cmlidXRlc1trZXldOwogIH0KICByZXR1cm4gZWxlbWVudDsKfQoKLy8gTWF4IG51bWJlciBvZiBieXRlcyB3aGljaCB3aWxsIGJlIHVwbG9hZGVkIGF0IGEgdGltZS4KY29uc3QgTUFYX1BBWUxPQURfU0laRSA9IDEwMCAqIDEwMjQ7CgpmdW5jdGlvbiBfdXBsb2FkRmlsZXMoaW5wdXRJZCwgb3V0cHV0SWQpIHsKICBjb25zdCBzdGVwcyA9IHVwbG9hZEZpbGVzU3RlcChpbnB1dElkLCBvdXRwdXRJZCk7CiAgY29uc3Qgb3V0cHV0RWxlbWVudCA9IGRvY3VtZW50LmdldEVsZW1lbnRCeUlkKG91dHB1dElkKTsKICAvLyBDYWNoZSBzdGVwcyBvbiB0aGUgb3V0cHV0RWxlbWVudCB0byBtYWtlIGl0IGF2YWlsYWJsZSBmb3IgdGhlIG5leHQgY2FsbAogIC8vIHRvIHVwbG9hZEZpbGVzQ29udGludWUgZnJvbSBQeXRob24uCiAgb3V0cHV0RWxlbWVudC5zdGVwcyA9IHN0ZXBzOwoKICByZXR1cm4gX3VwbG9hZEZpbGVzQ29udGludWUob3V0cHV0SWQpOwp9CgovLyBUaGlzIGlzIHJvdWdobHkgYW4gYXN5bmMgZ2VuZXJhdG9yIChub3Qgc3VwcG9ydGVkIGluIHRoZSBicm93c2VyIHlldCksCi8vIHdoZXJlIHRoZXJlIGFyZSBtdWx0aXBsZSBhc3luY2hyb25vdXMgc3RlcHMgYW5kIHRoZSBQeXRob24gc2lkZSBpcyBnb2luZwovLyB0byBwb2xsIGZvciBjb21wbGV0aW9uIG9mIGVhY2ggc3RlcC4KLy8gVGhpcyB1c2VzIGEgUHJvbWlzZSB0byBibG9jayB0aGUgcHl0aG9uIHNpZGUgb24gY29tcGxldGlvbiBvZiBlYWNoIHN0ZXAsCi8vIHRoZW4gcGFzc2VzIHRoZSByZXN1bHQgb2YgdGhlIHByZXZpb3VzIHN0ZXAgYXMgdGhlIGlucHV0IHRvIHRoZSBuZXh0IHN0ZXAuCmZ1bmN0aW9uIF91cGxvYWRGaWxlc0NvbnRpbnVlKG91dHB1dElkKSB7CiAgY29uc3Qgb3V0cHV0RWxlbWVudCA9IGRvY3VtZW50LmdldEVsZW1lbnRCeUlkKG91dHB1dElkKTsKICBjb25zdCBzdGVwcyA9IG91dHB1dEVsZW1lbnQuc3RlcHM7CgogIGNvbnN0IG5leHQgPSBzdGVwcy5uZXh0KG91dHB1dEVsZW1lbnQubGFzdFByb21pc2VWYWx1ZSk7CiAgcmV0dXJuIFByb21pc2UucmVzb2x2ZShuZXh0LnZhbHVlLnByb21pc2UpLnRoZW4oKHZhbHVlKSA9PiB7CiAgICAvLyBDYWNoZSB0aGUgbGFzdCBwcm9taXNlIHZhbHVlIHRvIG1ha2UgaXQgYXZhaWxhYmxlIHRvIHRoZSBuZXh0CiAgICAvLyBzdGVwIG9mIHRoZSBnZW5lcmF0b3IuCiAgICBvdXRwdXRFbGVtZW50Lmxhc3RQcm9taXNlVmFsdWUgPSB2YWx1ZTsKICAgIHJldHVybiBuZXh0LnZhbHVlLnJlc3BvbnNlOwogIH0pOwp9CgovKioKICogR2VuZXJhdG9yIGZ1bmN0aW9uIHdoaWNoIGlzIGNhbGxlZCBiZXR3ZWVuIGVhY2ggYXN5bmMgc3RlcCBvZiB0aGUgdXBsb2FkCiAqIHByb2Nlc3MuCiAqIEBwYXJhbSB7c3RyaW5nfSBpbnB1dElkIEVsZW1lbnQgSUQgb2YgdGhlIGlucHV0IGZpbGUgcGlja2VyIGVsZW1lbnQuCiAqIEBwYXJhbSB7c3RyaW5nfSBvdXRwdXRJZCBFbGVtZW50IElEIG9mIHRoZSBvdXRwdXQgZGlzcGxheS4KICogQHJldHVybiB7IUl0ZXJhYmxlPCFPYmplY3Q+fSBJdGVyYWJsZSBvZiBuZXh0IHN0ZXBzLgogKi8KZnVuY3Rpb24qIHVwbG9hZEZpbGVzU3RlcChpbnB1dElkLCBvdXRwdXRJZCkgewogIGNvbnN0IGlucHV0RWxlbWVudCA9IGRvY3VtZW50LmdldEVsZW1lbnRCeUlkKGlucHV0SWQpOwogIGlucHV0RWxlbWVudC5kaXNhYmxlZCA9IGZhbHNlOwoKICBjb25zdCBvdXRwdXRFbGVtZW50ID0gZG9jdW1lbnQuZ2V0RWxlbWVudEJ5SWQob3V0cHV0SWQpOwogIG91dHB1dEVsZW1lbnQuaW5uZXJIVE1MID0gJyc7CgogIGNvbnN0IHBpY2tlZFByb21pc2UgPSBuZXcgUHJvbWlzZSgocmVzb2x2ZSkgPT4gewogICAgaW5wdXRFbGVtZW50LmFkZEV2ZW50TGlzdGVuZXIoJ2NoYW5nZScsIChlKSA9PiB7CiAgICAgIHJlc29sdmUoZS50YXJnZXQuZmlsZXMpOwogICAgfSk7CiAgfSk7CgogIGNvbnN0IGNhbmNlbCA9IGRvY3VtZW50LmNyZWF0ZUVsZW1lbnQoJ2J1dHRvbicpOwogIGlucHV0RWxlbWVudC5wYXJlbnRFbGVtZW50LmFwcGVuZENoaWxkKGNhbmNlbCk7CiAgY2FuY2VsLnRleHRDb250ZW50ID0gJ0NhbmNlbCB1cGxvYWQnOwogIGNvbnN0IGNhbmNlbFByb21pc2UgPSBuZXcgUHJvbWlzZSgocmVzb2x2ZSkgPT4gewogICAgY2FuY2VsLm9uY2xpY2sgPSAoKSA9PiB7CiAgICAgIHJlc29sdmUobnVsbCk7CiAgICB9OwogIH0pOwoKICAvLyBXYWl0IGZvciB0aGUgdXNlciB0byBwaWNrIHRoZSBmaWxlcy4KICBjb25zdCBmaWxlcyA9IHlpZWxkIHsKICAgIHByb21pc2U6IFByb21pc2UucmFjZShbcGlja2VkUHJvbWlzZSwgY2FuY2VsUHJvbWlzZV0pLAogICAgcmVzcG9uc2U6IHsKICAgICAgYWN0aW9uOiAnc3RhcnRpbmcnLAogICAgfQogIH07CgogIGNhbmNlbC5yZW1vdmUoKTsKCiAgLy8gRGlzYWJsZSB0aGUgaW5wdXQgZWxlbWVudCBzaW5jZSBmdXJ0aGVyIHBpY2tzIGFyZSBub3QgYWxsb3dlZC4KICBpbnB1dEVsZW1lbnQuZGlzYWJsZWQgPSB0cnVlOwoKICBpZiAoIWZpbGVzKSB7CiAgICByZXR1cm4gewogICAgICByZXNwb25zZTogewogICAgICAgIGFjdGlvbjogJ2NvbXBsZXRlJywKICAgICAgfQogICAgfTsKICB9CgogIGZvciAoY29uc3QgZmlsZSBvZiBmaWxlcykgewogICAgY29uc3QgbGkgPSBkb2N1bWVudC5jcmVhdGVFbGVtZW50KCdsaScpOwogICAgbGkuYXBwZW5kKHNwYW4oZmlsZS5uYW1lLCB7Zm9udFdlaWdodDogJ2JvbGQnfSkpOwogICAgbGkuYXBwZW5kKHNwYW4oCiAgICAgICAgYCgke2ZpbGUudHlwZSB8fCAnbi9hJ30pIC0gJHtmaWxlLnNpemV9IGJ5dGVzLCBgICsKICAgICAgICBgbGFzdCBtb2RpZmllZDogJHsKICAgICAgICAgICAgZmlsZS5sYXN0TW9kaWZpZWREYXRlID8gZmlsZS5sYXN0TW9kaWZpZWREYXRlLnRvTG9jYWxlRGF0ZVN0cmluZygpIDoKICAgICAgICAgICAgICAgICAgICAgICAgICAgICAgICAgICAgJ24vYSd9IC0gYCkpOwogICAgY29uc3QgcGVyY2VudCA9IHNwYW4oJzAlIGRvbmUnKTsKICAgIGxpLmFwcGVuZENoaWxkKHBlcmNlbnQpOwoKICAgIG91dHB1dEVsZW1lbnQuYXBwZW5kQ2hpbGQobGkpOwoKICAgIGNvbnN0IGZpbGVEYXRhUHJvbWlzZSA9IG5ldyBQcm9taXNlKChyZXNvbHZlKSA9PiB7CiAgICAgIGNvbnN0IHJlYWRlciA9IG5ldyBGaWxlUmVhZGVyKCk7CiAgICAgIHJlYWRlci5vbmxvYWQgPSAoZSkgPT4gewogICAgICAgIHJlc29sdmUoZS50YXJnZXQucmVzdWx0KTsKICAgICAgfTsKICAgICAgcmVhZGVyLnJlYWRBc0FycmF5QnVmZmVyKGZpbGUpOwogICAgfSk7CiAgICAvLyBXYWl0IGZvciB0aGUgZGF0YSB0byBiZSByZWFkeS4KICAgIGxldCBmaWxlRGF0YSA9IHlpZWxkIHsKICAgICAgcHJvbWlzZTogZmlsZURhdGFQcm9taXNlLAogICAgICByZXNwb25zZTogewogICAgICAgIGFjdGlvbjogJ2NvbnRpbnVlJywKICAgICAgfQogICAgfTsKCiAgICAvLyBVc2UgYSBjaHVua2VkIHNlbmRpbmcgdG8gYXZvaWQgbWVzc2FnZSBzaXplIGxpbWl0cy4gU2VlIGIvNjIxMTU2NjAuCiAgICBsZXQgcG9zaXRpb24gPSAwOwogICAgd2hpbGUgKHBvc2l0aW9uIDwgZmlsZURhdGEuYnl0ZUxlbmd0aCkgewogICAgICBjb25zdCBsZW5ndGggPSBNYXRoLm1pbihmaWxlRGF0YS5ieXRlTGVuZ3RoIC0gcG9zaXRpb24sIE1BWF9QQVlMT0FEX1NJWkUpOwogICAgICBjb25zdCBjaHVuayA9IG5ldyBVaW50OEFycmF5KGZpbGVEYXRhLCBwb3NpdGlvbiwgbGVuZ3RoKTsKICAgICAgcG9zaXRpb24gKz0gbGVuZ3RoOwoKICAgICAgY29uc3QgYmFzZTY0ID0gYnRvYShTdHJpbmcuZnJvbUNoYXJDb2RlLmFwcGx5KG51bGwsIGNodW5rKSk7CiAgICAgIHlpZWxkIHsKICAgICAgICByZXNwb25zZTogewogICAgICAgICAgYWN0aW9uOiAnYXBwZW5kJywKICAgICAgICAgIGZpbGU6IGZpbGUubmFtZSwKICAgICAgICAgIGRhdGE6IGJhc2U2NCwKICAgICAgICB9LAogICAgICB9OwogICAgICBwZXJjZW50LnRleHRDb250ZW50ID0KICAgICAgICAgIGAke01hdGgucm91bmQoKHBvc2l0aW9uIC8gZmlsZURhdGEuYnl0ZUxlbmd0aCkgKiAxMDApfSUgZG9uZWA7CiAgICB9CiAgfQoKICAvLyBBbGwgZG9uZS4KICB5aWVsZCB7CiAgICByZXNwb25zZTogewogICAgICBhY3Rpb246ICdjb21wbGV0ZScsCiAgICB9CiAgfTsKfQoKc2NvcGUuZ29vZ2xlID0gc2NvcGUuZ29vZ2xlIHx8IHt9OwpzY29wZS5nb29nbGUuY29sYWIgPSBzY29wZS5nb29nbGUuY29sYWIgfHwge307CnNjb3BlLmdvb2dsZS5jb2xhYi5fZmlsZXMgPSB7CiAgX3VwbG9hZEZpbGVzLAogIF91cGxvYWRGaWxlc0NvbnRpbnVlLAp9Owp9KShzZWxmKTsK",
              "ok": true,
              "headers": [
                [
                  "content-type",
                  "application/javascript"
                ]
              ],
              "status": 200,
              "status_text": ""
            }
          },
          "base_uri": "https://localhost:8080/",
          "height": 630
        }
      },
      "source": [
        "from google.colab import files\n",
        "\n",
        "uploaded = files.upload() # upload kaggle.json\n",
        "!mkdir ~/.kaggle\n",
        "!cp kaggle.json ~/.kaggle/ \n",
        "!kaggle competitions download -c competitive-data-science-predict-future-sales\n",
        "!unzip \\*.zip"
      ],
      "execution_count": 3,
      "outputs": [
        {
          "output_type": "display_data",
          "data": {
            "text/html": [
              "\n",
              "     <input type=\"file\" id=\"files-3e6d43c6-c567-401d-af80-d1ac88e56b15\" name=\"files[]\" multiple disabled\n",
              "        style=\"border:none\" />\n",
              "     <output id=\"result-3e6d43c6-c567-401d-af80-d1ac88e56b15\">\n",
              "      Upload widget is only available when the cell has been executed in the\n",
              "      current browser session. Please rerun this cell to enable.\n",
              "      </output>\n",
              "      <script src=\"/nbextensions/google.colab/files.js\"></script> "
            ],
            "text/plain": [
              "<IPython.core.display.HTML object>"
            ]
          },
          "metadata": {
            "tags": []
          }
        },
        {
          "output_type": "stream",
          "text": [
            "Saving kaggle.json to kaggle.json\n",
            "Warning: Your Kaggle API key is readable by other users on this system! To fix this, you can run 'chmod 600 /root/.kaggle/kaggle.json'\n",
            "Warning: Looks like you're using an outdated API Version, please consider updating (server 1.5.9 / client 1.5.4)\n",
            "Downloading sales_train.csv.zip to /content\n",
            " 38% 5.00M/13.3M [00:00<00:00, 46.1MB/s]\n",
            "100% 13.3M/13.3M [00:00<00:00, 85.0MB/s]\n",
            "Downloading test.csv.zip to /content\n",
            "  0% 0.00/1.02M [00:00<?, ?B/s]\n",
            "100% 1.02M/1.02M [00:00<00:00, 146MB/s]\n",
            "Downloading shops.csv to /content\n",
            "  0% 0.00/2.91k [00:00<?, ?B/s]\n",
            "100% 2.91k/2.91k [00:00<00:00, 2.96MB/s]\n",
            "Downloading sample_submission.csv.zip to /content\n",
            "  0% 0.00/468k [00:00<?, ?B/s]\n",
            "100% 468k/468k [00:00<00:00, 168MB/s]\n",
            "Downloading item_categories.csv to /content\n",
            "  0% 0.00/3.49k [00:00<?, ?B/s]\n",
            "100% 3.49k/3.49k [00:00<00:00, 3.35MB/s]\n",
            "Downloading items.csv.zip to /content\n",
            "  0% 0.00/368k [00:00<?, ?B/s]\n",
            "100% 368k/368k [00:00<00:00, 117MB/s]\n",
            "Archive:  items.csv.zip\n",
            "  inflating: items.csv               \n",
            "\n",
            "Archive:  test.csv.zip\n",
            "  inflating: test.csv                \n",
            "\n",
            "Archive:  sales_train.csv.zip\n",
            "  inflating: sales_train.csv         \n",
            "\n",
            "Archive:  sample_submission.csv.zip\n",
            "  inflating: sample_submission.csv   \n",
            "\n",
            "4 archives were successfully processed.\n"
          ],
          "name": "stdout"
        }
      ]
    },
    {
      "cell_type": "code",
      "metadata": {
        "id": "5c_hJ8CsKY-F",
        "outputId": "b47b2f93-eb8e-42dd-8439-ba8d70163be0",
        "colab": {
          "base_uri": "https://localhost:8080/",
          "height": 34
        }
      },
      "source": [
        "\n",
        "item_cat = pd.read_csv('item_categories.csv')\n",
        "item = pd.read_csv('items.csv')\n",
        "sale_train = pd.read_csv('sales_train.csv')\n",
        "shops = pd.read_csv('shops.csv')\n",
        "\n",
        "test = pd.read_csv('test.csv')\n",
        "\n",
        "sample_submission = pd.read_csv('sample_submission.csv')\n",
        "\n",
        "print('Files imported.')\n"
      ],
      "execution_count": 4,
      "outputs": [
        {
          "output_type": "stream",
          "text": [
            "Files imported.\n"
          ],
          "name": "stdout"
        }
      ]
    },
    {
      "cell_type": "code",
      "metadata": {
        "id": "ksh4XwG79um3",
        "outputId": "9ab54e77-0eb5-4efb-f618-d5a08735660c",
        "colab": {
          "base_uri": "https://localhost:8080/",
          "height": 218
        }
      },
      "source": [
        "print(test.head())\n",
        "print(sample_submission.head())"
      ],
      "execution_count": 5,
      "outputs": [
        {
          "output_type": "stream",
          "text": [
            "   ID  shop_id  item_id\n",
            "0   0        5     5037\n",
            "1   1        5     5320\n",
            "2   2        5     5233\n",
            "3   3        5     5232\n",
            "4   4        5     5268\n",
            "   ID  item_cnt_month\n",
            "0   0             0.5\n",
            "1   1             0.5\n",
            "2   2             0.5\n",
            "3   3             0.5\n",
            "4   4             0.5\n"
          ],
          "name": "stdout"
        }
      ]
    },
    {
      "cell_type": "code",
      "metadata": {
        "id": "wCU0xeXuLOYw",
        "outputId": "336f867c-7dba-4f52-be0f-4ad51baec436",
        "colab": {
          "base_uri": "https://localhost:8080/",
          "height": 554
        }
      },
      "source": [
        "print('Items: ')\n",
        "print(item.head(), '\\n')\n",
        "\n",
        "print('Item category:')\n",
        "print(item_cat.head(), '\\n')\n",
        "\n",
        "print('Shops data:')\n",
        "print(shops.head(), '\\n')\n",
        "\n",
        "print('Sales train_data')\n",
        "print(sale_train.head(), '\\n')\n",
        "\n",
        "\n"
      ],
      "execution_count": 6,
      "outputs": [
        {
          "output_type": "stream",
          "text": [
            "Items: \n",
            "                                           item_name  item_id  item_category_id\n",
            "0          ! ВО ВЛАСТИ НАВАЖДЕНИЯ (ПЛАСТ.)         D        0                40\n",
            "1  !ABBYY FineReader 12 Professional Edition Full...        1                76\n",
            "2      ***В ЛУЧАХ СЛАВЫ   (UNV)                    D        2                40\n",
            "3    ***ГОЛУБАЯ ВОЛНА  (Univ)                      D        3                40\n",
            "4        ***КОРОБКА (СТЕКЛО)                       D        4                40 \n",
            "\n",
            "Item category:\n",
            "        item_category_name  item_category_id\n",
            "0  PC - Гарнитуры/Наушники                 0\n",
            "1         Аксессуары - PS2                 1\n",
            "2         Аксессуары - PS3                 2\n",
            "3         Аксессуары - PS4                 3\n",
            "4         Аксессуары - PSP                 4 \n",
            "\n",
            "Shops data:\n",
            "                        shop_name  shop_id\n",
            "0   !Якутск Орджоникидзе, 56 фран        0\n",
            "1   !Якутск ТЦ \"Центральный\" фран        1\n",
            "2                Адыгея ТЦ \"Мега\"        2\n",
            "3  Балашиха ТРК \"Октябрь-Киномир\"        3\n",
            "4        Волжский ТЦ \"Волга Молл\"        4 \n",
            "\n",
            "Sales train_data\n",
            "         date  date_block_num  shop_id  item_id  item_price  item_cnt_day\n",
            "0  02.01.2013               0       59    22154      999.00           1.0\n",
            "1  03.01.2013               0       25     2552      899.00           1.0\n",
            "2  05.01.2013               0       25     2552      899.00          -1.0\n",
            "3  06.01.2013               0       25     2554     1709.05           1.0\n",
            "4  15.01.2013               0       25     2555     1099.00           1.0 \n",
            "\n"
          ],
          "name": "stdout"
        }
      ]
    },
    {
      "cell_type": "markdown",
      "metadata": {
        "id": "JZyjnRq_U_ZE"
      },
      "source": [
        "###I assume that since I have shop_id and item_category_id, shop name and item_category name is unnecessary. However, we preserve this feature first, assume meaningless features may contain data leakage.\n",
        "###Thus, when I combine the dataset."
      ]
    },
    {
      "cell_type": "code",
      "metadata": {
        "id": "T0rzRr2HML_k",
        "outputId": "9b6fb49a-7a72-4f08-a422-61f3482c9f9c",
        "colab": {
          "base_uri": "https://localhost:8080/",
          "height": 306
        }
      },
      "source": [
        "item = item.merge(item_cat, how = 'left', on = 'item_category_id')\n",
        "sale_train = sale_train.merge(shops, how = 'left', on = 'shop_id')\n",
        "train = sale_train.merge(item, how = 'left', on = 'item_id')\n",
        "test = test.merge(item, how = 'left', on = 'item_id')\n",
        "test = test.merge(shops, how = 'left', on = 'shop_id')\n",
        "print('Train data:')\n",
        "print(train.shape)\n",
        "print(train.head())\n",
        "\n",
        "print('Test data:')\n",
        "print(test.shape)\n",
        "print(test.head())"
      ],
      "execution_count": 7,
      "outputs": [
        {
          "output_type": "stream",
          "text": [
            "Train data:\n",
            "(2935849, 10)\n",
            "         date  date_block_num  shop_id  item_id  item_price  item_cnt_day               shop_name                                 item_name  item_category_id                   item_category_name\n",
            "0  02.01.2013               0       59    22154      999.00           1.0  Ярославль ТЦ \"Альтаир\"                         ЯВЛЕНИЕ 2012 (BD)                37                       Кино - Blu-Ray\n",
            "1  03.01.2013               0       25     2552      899.00           1.0     Москва ТРК \"Атриум\"  DEEP PURPLE  The House Of Blue Light  LP                58                       Музыка - Винил\n",
            "2  05.01.2013               0       25     2552      899.00          -1.0     Москва ТРК \"Атриум\"  DEEP PURPLE  The House Of Blue Light  LP                58                       Музыка - Винил\n",
            "3  06.01.2013               0       25     2554     1709.05           1.0     Москва ТРК \"Атриум\"  DEEP PURPLE  Who Do You Think We Are  LP                58                       Музыка - Винил\n",
            "4  15.01.2013               0       25     2555     1099.00           1.0     Москва ТРК \"Атриум\"   DEEP PURPLE 30 Very Best Of 2CD (Фирм.)                56  Музыка - CD фирменного производства\n",
            "Test data:\n",
            "(214200, 7)\n",
            "   ID  shop_id  item_id                                          item_name  item_category_id                   item_category_name               shop_name\n",
            "0   0        5     5037                     NHL 15 [PS3, русские субтитры]                19                           Игры - PS3  Вологда ТРЦ \"Мармелад\"\n",
            "1   1        5     5320                    ONE DIRECTION  Made In The A.M.                55  Музыка - CD локального производства  Вологда ТРЦ \"Мармелад\"\n",
            "2   2        5     5233  Need for Speed Rivals (Essentials) [PS3, русск...                19                           Игры - PS3  Вологда ТРЦ \"Мармелад\"\n",
            "3   3        5     5232  Need for Speed Rivals (Classics) [Xbox 360, ру...                23                      Игры - XBOX 360  Вологда ТРЦ \"Мармелад\"\n",
            "4   4        5     5268               Need for Speed [PS4, русская версия]                20                           Игры - PS4  Вологда ТРЦ \"Мармелад\"\n"
          ],
          "name": "stdout"
        }
      ]
    },
    {
      "cell_type": "markdown",
      "metadata": {
        "id": "5tltemdE_QFY"
      },
      "source": [
        "##Task framework: Use 2013/1 ~ 2015/10 data, to predict 2015/11 data\n",
        "###We have training data with 10 features, test data with 6 features(not counting the ID). Train data contains features that test data don't have: [date, date_block_num, item_cnt_day]. \n",
        "###We should take into account the time context of the data\n",
        "###1. Given current shop and item, predict total sales of whole month\n",
        "###2. Apply time sequence feature, (shop + item) * several months + past monthly  sales * several months = future monthly sales"
      ]
    },
    {
      "cell_type": "code",
      "metadata": {
        "id": "Ne1qJ8rbO5dK",
        "outputId": "ae9acabc-52cc-4028-b512-b433f46d60b8",
        "colab": {
          "base_uri": "https://localhost:8080/",
          "height": 474
        }
      },
      "source": [
        "# First preprocess date data: For train set, extract year and month from date column\n",
        "# Original date format: dd/mm/yyyy\n",
        "train['date'] = pd.to_datetime(train['date'], format = '%d.%m.%Y')\n",
        "train['month'] = train['date'].dt.month\n",
        "train['year'] = train['date'].dt.year\n",
        "print(train.info())\n",
        "print(train.head())\n",
        "\n"
      ],
      "execution_count": 8,
      "outputs": [
        {
          "output_type": "stream",
          "text": [
            "<class 'pandas.core.frame.DataFrame'>\n",
            "Int64Index: 2935849 entries, 0 to 2935848\n",
            "Data columns (total 12 columns):\n",
            " #   Column              Dtype         \n",
            "---  ------              -----         \n",
            " 0   date                datetime64[ns]\n",
            " 1   date_block_num      int64         \n",
            " 2   shop_id             int64         \n",
            " 3   item_id             int64         \n",
            " 4   item_price          float64       \n",
            " 5   item_cnt_day        float64       \n",
            " 6   shop_name           object        \n",
            " 7   item_name           object        \n",
            " 8   item_category_id    int64         \n",
            " 9   item_category_name  object        \n",
            " 10  month               int64         \n",
            " 11  year                int64         \n",
            "dtypes: datetime64[ns](1), float64(2), int64(6), object(3)\n",
            "memory usage: 291.2+ MB\n",
            "None\n",
            "        date  date_block_num  shop_id  item_id  item_price  item_cnt_day               shop_name                                 item_name  item_category_id                   item_category_name  month  year\n",
            "0 2013-01-02               0       59    22154      999.00           1.0  Ярославль ТЦ \"Альтаир\"                         ЯВЛЕНИЕ 2012 (BD)                37                       Кино - Blu-Ray      1  2013\n",
            "1 2013-01-03               0       25     2552      899.00           1.0     Москва ТРК \"Атриум\"  DEEP PURPLE  The House Of Blue Light  LP                58                       Музыка - Винил      1  2013\n",
            "2 2013-01-05               0       25     2552      899.00          -1.0     Москва ТРК \"Атриум\"  DEEP PURPLE  The House Of Blue Light  LP                58                       Музыка - Винил      1  2013\n",
            "3 2013-01-06               0       25     2554     1709.05           1.0     Москва ТРК \"Атриум\"  DEEP PURPLE  Who Do You Think We Are  LP                58                       Музыка - Винил      1  2013\n",
            "4 2013-01-15               0       25     2555     1099.00           1.0     Москва ТРК \"Атриум\"   DEEP PURPLE 30 Very Best Of 2CD (Фирм.)                56  Музыка - CD фирменного производства      1  2013\n"
          ],
          "name": "stdout"
        }
      ]
    },
    {
      "cell_type": "code",
      "metadata": {
        "id": "rSjuhlceLVLy",
        "outputId": "a225f2e7-ce67-4798-bda6-16cdab76bfe4",
        "colab": {
          "base_uri": "https://localhost:8080/",
          "height": 118
        }
      },
      "source": [
        "# Since test data is from 2015 November, we could create date features for test data\n",
        "test['month'] = 11\n",
        "test['year'] = 2015\n",
        "test['date_block_num'] = 34\n",
        "print(test.head())"
      ],
      "execution_count": 9,
      "outputs": [
        {
          "output_type": "stream",
          "text": [
            "   ID  shop_id  item_id                                          item_name  item_category_id                   item_category_name               shop_name  month  year  date_block_num\n",
            "0   0        5     5037                     NHL 15 [PS3, русские субтитры]                19                           Игры - PS3  Вологда ТРЦ \"Мармелад\"     11  2015              34\n",
            "1   1        5     5320                    ONE DIRECTION  Made In The A.M.                55  Музыка - CD локального производства  Вологда ТРЦ \"Мармелад\"     11  2015              34\n",
            "2   2        5     5233  Need for Speed Rivals (Essentials) [PS3, русск...                19                           Игры - PS3  Вологда ТРЦ \"Мармелад\"     11  2015              34\n",
            "3   3        5     5232  Need for Speed Rivals (Classics) [Xbox 360, ру...                23                      Игры - XBOX 360  Вологда ТРЦ \"Мармелад\"     11  2015              34\n",
            "4   4        5     5268               Need for Speed [PS4, русская версия]                20                           Игры - PS4  Вологда ТРЦ \"Мармелад\"     11  2015              34\n"
          ],
          "name": "stdout"
        }
      ]
    },
    {
      "cell_type": "code",
      "metadata": {
        "id": "eS8f8l7BpCWt",
        "outputId": "7b522be8-d8d1-46fa-ab3f-dac709ee36bf",
        "colab": {
          "base_uri": "https://localhost:8080/",
          "height": 70
        }
      },
      "source": [
        "print(train.columns)\n",
        "print(test.columns)"
      ],
      "execution_count": 10,
      "outputs": [
        {
          "output_type": "stream",
          "text": [
            "Index(['date', 'date_block_num', 'shop_id', 'item_id', 'item_price', 'item_cnt_day', 'shop_name', 'item_name', 'item_category_id', 'item_category_name', 'month', 'year'], dtype='object')\n",
            "Index(['ID', 'shop_id', 'item_id', 'item_name', 'item_category_id', 'item_category_name', 'shop_name', 'month', 'year', 'date_block_num'], dtype='object')\n"
          ],
          "name": "stdout"
        }
      ]
    },
    {
      "cell_type": "markdown",
      "metadata": {
        "id": "qwKPMl0jo-3J"
      },
      "source": [
        "###Now the only difference in train and test features is item_cnt_day."
      ]
    },
    {
      "cell_type": "code",
      "metadata": {
        "id": "Rh52ne90pigE",
        "outputId": "196f271c-5519-48db-86b5-3e4f13bb20e1",
        "colab": {
          "base_uri": "https://localhost:8080/",
          "height": 238
        }
      },
      "source": [
        "#Start EDA for train and test data\n",
        "print(train.head())\n",
        "print(test.head())\n",
        "# make the column of test aligned with train set\n",
        "col_train = [col for col in train.columns if col in test.columns]\n",
        "test = pd.concat([test['ID'], test[col_train]], axis = 1)\n"
      ],
      "execution_count": 11,
      "outputs": [
        {
          "output_type": "stream",
          "text": [
            "        date  date_block_num  shop_id  item_id  item_price  item_cnt_day               shop_name                                 item_name  item_category_id                   item_category_name  month  year\n",
            "0 2013-01-02               0       59    22154      999.00           1.0  Ярославль ТЦ \"Альтаир\"                         ЯВЛЕНИЕ 2012 (BD)                37                       Кино - Blu-Ray      1  2013\n",
            "1 2013-01-03               0       25     2552      899.00           1.0     Москва ТРК \"Атриум\"  DEEP PURPLE  The House Of Blue Light  LP                58                       Музыка - Винил      1  2013\n",
            "2 2013-01-05               0       25     2552      899.00          -1.0     Москва ТРК \"Атриум\"  DEEP PURPLE  The House Of Blue Light  LP                58                       Музыка - Винил      1  2013\n",
            "3 2013-01-06               0       25     2554     1709.05           1.0     Москва ТРК \"Атриум\"  DEEP PURPLE  Who Do You Think We Are  LP                58                       Музыка - Винил      1  2013\n",
            "4 2013-01-15               0       25     2555     1099.00           1.0     Москва ТРК \"Атриум\"   DEEP PURPLE 30 Very Best Of 2CD (Фирм.)                56  Музыка - CD фирменного производства      1  2013\n",
            "   ID  shop_id  item_id                                          item_name  item_category_id                   item_category_name               shop_name  month  year  date_block_num\n",
            "0   0        5     5037                     NHL 15 [PS3, русские субтитры]                19                           Игры - PS3  Вологда ТРЦ \"Мармелад\"     11  2015              34\n",
            "1   1        5     5320                    ONE DIRECTION  Made In The A.M.                55  Музыка - CD локального производства  Вологда ТРЦ \"Мармелад\"     11  2015              34\n",
            "2   2        5     5233  Need for Speed Rivals (Essentials) [PS3, русск...                19                           Игры - PS3  Вологда ТРЦ \"Мармелад\"     11  2015              34\n",
            "3   3        5     5232  Need for Speed Rivals (Classics) [Xbox 360, ру...                23                      Игры - XBOX 360  Вологда ТРЦ \"Мармелад\"     11  2015              34\n",
            "4   4        5     5268               Need for Speed [PS4, русская версия]                20                           Игры - PS4  Вологда ТРЦ \"Мармелад\"     11  2015              34\n"
          ],
          "name": "stdout"
        }
      ]
    },
    {
      "cell_type": "code",
      "metadata": {
        "id": "OBE8GRCnz40X",
        "outputId": "3c420b2e-d7ce-4686-b889-77c2c775885d",
        "colab": {
          "base_uri": "https://localhost:8080/",
          "height": 238
        }
      },
      "source": [
        "print(train.head())\n",
        "print(test.head())"
      ],
      "execution_count": 12,
      "outputs": [
        {
          "output_type": "stream",
          "text": [
            "        date  date_block_num  shop_id  item_id  item_price  item_cnt_day               shop_name                                 item_name  item_category_id                   item_category_name  month  year\n",
            "0 2013-01-02               0       59    22154      999.00           1.0  Ярославль ТЦ \"Альтаир\"                         ЯВЛЕНИЕ 2012 (BD)                37                       Кино - Blu-Ray      1  2013\n",
            "1 2013-01-03               0       25     2552      899.00           1.0     Москва ТРК \"Атриум\"  DEEP PURPLE  The House Of Blue Light  LP                58                       Музыка - Винил      1  2013\n",
            "2 2013-01-05               0       25     2552      899.00          -1.0     Москва ТРК \"Атриум\"  DEEP PURPLE  The House Of Blue Light  LP                58                       Музыка - Винил      1  2013\n",
            "3 2013-01-06               0       25     2554     1709.05           1.0     Москва ТРК \"Атриум\"  DEEP PURPLE  Who Do You Think We Are  LP                58                       Музыка - Винил      1  2013\n",
            "4 2013-01-15               0       25     2555     1099.00           1.0     Москва ТРК \"Атриум\"   DEEP PURPLE 30 Very Best Of 2CD (Фирм.)                56  Музыка - CD фирменного производства      1  2013\n",
            "   ID  date_block_num  shop_id  item_id               shop_name                                          item_name  item_category_id                   item_category_name  month  year\n",
            "0   0              34        5     5037  Вологда ТРЦ \"Мармелад\"                     NHL 15 [PS3, русские субтитры]                19                           Игры - PS3     11  2015\n",
            "1   1              34        5     5320  Вологда ТРЦ \"Мармелад\"                    ONE DIRECTION  Made In The A.M.                55  Музыка - CD локального производства     11  2015\n",
            "2   2              34        5     5233  Вологда ТРЦ \"Мармелад\"  Need for Speed Rivals (Essentials) [PS3, русск...                19                           Игры - PS3     11  2015\n",
            "3   3              34        5     5232  Вологда ТРЦ \"Мармелад\"  Need for Speed Rivals (Classics) [Xbox 360, ру...                23                      Игры - XBOX 360     11  2015\n",
            "4   4              34        5     5268  Вологда ТРЦ \"Мармелад\"               Need for Speed [PS4, русская версия]                20                           Игры - PS4     11  2015\n"
          ],
          "name": "stdout"
        }
      ]
    },
    {
      "cell_type": "code",
      "metadata": {
        "id": "Q-NRZa_df7yp",
        "outputId": "ab9d2e6d-c38a-41e7-846e-eebd8c3ccb38",
        "colab": {
          "base_uri": "https://localhost:8080/",
          "height": 34
        }
      },
      "source": [
        "train.loc[train.index[train['item_cnt_day'] < 0], 'item_cnt_day'] = 0\n",
        "len(train[train['item_cnt_day'] < 0])"
      ],
      "execution_count": 13,
      "outputs": [
        {
          "output_type": "execute_result",
          "data": {
            "text/plain": [
              "0"
            ]
          },
          "metadata": {
            "tags": []
          },
          "execution_count": 13
        }
      ]
    },
    {
      "cell_type": "code",
      "metadata": {
        "id": "r0MnZU8XPhx1",
        "outputId": "dba01a15-732b-496e-9c87-698066d00815",
        "colab": {
          "base_uri": "https://localhost:8080/",
          "height": 138
        }
      },
      "source": [
        "# Sum up different days value into monthly\n",
        "train['cnt_monthly'] = train.groupby(['year', 'month', 'shop_id', 'item_id'])['item_cnt_day'].transform(lambda x: x.sum())\n",
        "print(train.head())"
      ],
      "execution_count": 15,
      "outputs": [
        {
          "output_type": "stream",
          "text": [
            "        date  date_block_num  shop_id  item_id  item_price  item_cnt_day               shop_name                                 item_name  item_category_id                   item_category_name  month  year  cnt_monthly\n",
            "0 2013-01-02               0       59    22154      999.00           1.0  Ярославль ТЦ \"Альтаир\"                         ЯВЛЕНИЕ 2012 (BD)                37                       Кино - Blu-Ray      1  2013          1.0\n",
            "1 2013-01-03               0       25     2552      899.00           1.0     Москва ТРК \"Атриум\"  DEEP PURPLE  The House Of Blue Light  LP                58                       Музыка - Винил      1  2013          1.0\n",
            "2 2013-01-05               0       25     2552      899.00           0.0     Москва ТРК \"Атриум\"  DEEP PURPLE  The House Of Blue Light  LP                58                       Музыка - Винил      1  2013          1.0\n",
            "3 2013-01-06               0       25     2554     1709.05           1.0     Москва ТРК \"Атриум\"  DEEP PURPLE  Who Do You Think We Are  LP                58                       Музыка - Винил      1  2013          1.0\n",
            "4 2013-01-15               0       25     2555     1099.00           1.0     Москва ТРК \"Атриум\"   DEEP PURPLE 30 Very Best Of 2CD (Фирм.)                56  Музыка - CD фирменного производства      1  2013          1.0\n"
          ],
          "name": "stdout"
        }
      ]
    },
    {
      "cell_type": "code",
      "metadata": {
        "id": "jL7T2kitHb09",
        "outputId": "a844ce8e-5145-4262-e347-7c8320518bde",
        "colab": {
          "base_uri": "https://localhost:8080/",
          "height": 338
        }
      },
      "source": [
        "features = ['item_price', 'shop_name', 'item_name', 'item_category_id', 'item_category_name', 'item_cnt_day']\n",
        "train_ = train.groupby(['year', 'month', 'shop_id', 'item_id'])[features]['item_cnt_day'].sum().to_frame('cnt_monthly').reset_index()\n",
        "print(train_)"
      ],
      "execution_count": 61,
      "outputs": [
        {
          "output_type": "error",
          "ename": "IndexError",
          "evalue": "ignored",
          "traceback": [
            "\u001b[0;31m---------------------------------------------------------------------------\u001b[0m",
            "\u001b[0;31mIndexError\u001b[0m                                Traceback (most recent call last)",
            "\u001b[0;32m<ipython-input-61-bb75454359a7>\u001b[0m in \u001b[0;36m<module>\u001b[0;34m()\u001b[0m\n\u001b[1;32m      1\u001b[0m \u001b[0mfeatures\u001b[0m \u001b[0;34m=\u001b[0m \u001b[0;34m[\u001b[0m\u001b[0;34m'item_price'\u001b[0m\u001b[0;34m,\u001b[0m \u001b[0;34m'shop_name'\u001b[0m\u001b[0;34m,\u001b[0m \u001b[0;34m'item_name'\u001b[0m\u001b[0;34m,\u001b[0m \u001b[0;34m'item_category_id'\u001b[0m\u001b[0;34m,\u001b[0m \u001b[0;34m'item_category_name'\u001b[0m\u001b[0;34m,\u001b[0m \u001b[0;34m'item_cnt_day'\u001b[0m\u001b[0;34m]\u001b[0m\u001b[0;34m\u001b[0m\u001b[0;34m\u001b[0m\u001b[0m\n\u001b[0;32m----> 2\u001b[0;31m \u001b[0mtrain_\u001b[0m \u001b[0;34m=\u001b[0m \u001b[0mtrain\u001b[0m\u001b[0;34m.\u001b[0m\u001b[0mgroupby\u001b[0m\u001b[0;34m(\u001b[0m\u001b[0;34m[\u001b[0m\u001b[0;34m'year'\u001b[0m\u001b[0;34m,\u001b[0m \u001b[0;34m'month'\u001b[0m\u001b[0;34m,\u001b[0m \u001b[0;34m'shop_id'\u001b[0m\u001b[0;34m,\u001b[0m \u001b[0;34m'item_id'\u001b[0m\u001b[0;34m]\u001b[0m\u001b[0;34m)\u001b[0m\u001b[0;34m[\u001b[0m\u001b[0mfeatures\u001b[0m\u001b[0;34m]\u001b[0m\u001b[0;34m[\u001b[0m\u001b[0;34m'item_cnt_day'\u001b[0m\u001b[0;34m]\u001b[0m\u001b[0;34m.\u001b[0m\u001b[0msum\u001b[0m\u001b[0;34m(\u001b[0m\u001b[0;34m)\u001b[0m\u001b[0;34m.\u001b[0m\u001b[0mto_frame\u001b[0m\u001b[0;34m(\u001b[0m\u001b[0;34m'cnt_monthly'\u001b[0m\u001b[0;34m)\u001b[0m\u001b[0;34m.\u001b[0m\u001b[0mreset_index\u001b[0m\u001b[0;34m(\u001b[0m\u001b[0;34m)\u001b[0m\u001b[0;34m\u001b[0m\u001b[0;34m\u001b[0m\u001b[0m\n\u001b[0m\u001b[1;32m      3\u001b[0m \u001b[0mprint\u001b[0m\u001b[0;34m(\u001b[0m\u001b[0mtrain_\u001b[0m\u001b[0;34m)\u001b[0m\u001b[0;34m\u001b[0m\u001b[0;34m\u001b[0m\u001b[0m\n",
            "\u001b[0;32m/usr/local/lib/python3.6/dist-packages/pandas/core/groupby/generic.py\u001b[0m in \u001b[0;36m__getitem__\u001b[0;34m(self, key)\u001b[0m\n\u001b[1;32m   1648\u001b[0m                 \u001b[0mstacklevel\u001b[0m\u001b[0;34m=\u001b[0m\u001b[0;36m2\u001b[0m\u001b[0;34m,\u001b[0m\u001b[0;34m\u001b[0m\u001b[0;34m\u001b[0m\u001b[0m\n\u001b[1;32m   1649\u001b[0m             )\n\u001b[0;32m-> 1650\u001b[0;31m         \u001b[0;32mreturn\u001b[0m \u001b[0msuper\u001b[0m\u001b[0;34m(\u001b[0m\u001b[0;34m)\u001b[0m\u001b[0;34m.\u001b[0m\u001b[0m__getitem__\u001b[0m\u001b[0;34m(\u001b[0m\u001b[0mkey\u001b[0m\u001b[0;34m)\u001b[0m\u001b[0;34m\u001b[0m\u001b[0;34m\u001b[0m\u001b[0m\n\u001b[0m\u001b[1;32m   1651\u001b[0m \u001b[0;34m\u001b[0m\u001b[0m\n\u001b[1;32m   1652\u001b[0m     \u001b[0;32mdef\u001b[0m \u001b[0m_gotitem\u001b[0m\u001b[0;34m(\u001b[0m\u001b[0mself\u001b[0m\u001b[0;34m,\u001b[0m \u001b[0mkey\u001b[0m\u001b[0;34m,\u001b[0m \u001b[0mndim\u001b[0m\u001b[0;34m:\u001b[0m \u001b[0mint\u001b[0m\u001b[0;34m,\u001b[0m \u001b[0msubset\u001b[0m\u001b[0;34m=\u001b[0m\u001b[0;32mNone\u001b[0m\u001b[0;34m)\u001b[0m\u001b[0;34m:\u001b[0m\u001b[0;34m\u001b[0m\u001b[0;34m\u001b[0m\u001b[0m\n",
            "\u001b[0;32m/usr/local/lib/python3.6/dist-packages/pandas/core/base.py\u001b[0m in \u001b[0;36m__getitem__\u001b[0;34m(self, key)\u001b[0m\n\u001b[1;32m    211\u001b[0m     \u001b[0;32mdef\u001b[0m \u001b[0m__getitem__\u001b[0m\u001b[0;34m(\u001b[0m\u001b[0mself\u001b[0m\u001b[0;34m,\u001b[0m \u001b[0mkey\u001b[0m\u001b[0;34m)\u001b[0m\u001b[0;34m:\u001b[0m\u001b[0;34m\u001b[0m\u001b[0;34m\u001b[0m\u001b[0m\n\u001b[1;32m    212\u001b[0m         \u001b[0;32mif\u001b[0m \u001b[0mself\u001b[0m\u001b[0;34m.\u001b[0m\u001b[0m_selection\u001b[0m \u001b[0;32mis\u001b[0m \u001b[0;32mnot\u001b[0m \u001b[0;32mNone\u001b[0m\u001b[0;34m:\u001b[0m\u001b[0;34m\u001b[0m\u001b[0;34m\u001b[0m\u001b[0m\n\u001b[0;32m--> 213\u001b[0;31m             \u001b[0;32mraise\u001b[0m \u001b[0mIndexError\u001b[0m\u001b[0;34m(\u001b[0m\u001b[0;34mf\"Column(s) {self._selection} already selected\"\u001b[0m\u001b[0;34m)\u001b[0m\u001b[0;34m\u001b[0m\u001b[0;34m\u001b[0m\u001b[0m\n\u001b[0m\u001b[1;32m    214\u001b[0m \u001b[0;34m\u001b[0m\u001b[0m\n\u001b[1;32m    215\u001b[0m         \u001b[0;32mif\u001b[0m \u001b[0misinstance\u001b[0m\u001b[0;34m(\u001b[0m\u001b[0mkey\u001b[0m\u001b[0;34m,\u001b[0m \u001b[0;34m(\u001b[0m\u001b[0mlist\u001b[0m\u001b[0;34m,\u001b[0m \u001b[0mtuple\u001b[0m\u001b[0;34m,\u001b[0m \u001b[0mABCSeries\u001b[0m\u001b[0;34m,\u001b[0m \u001b[0mABCIndexClass\u001b[0m\u001b[0;34m,\u001b[0m \u001b[0mnp\u001b[0m\u001b[0;34m.\u001b[0m\u001b[0mndarray\u001b[0m\u001b[0;34m)\u001b[0m\u001b[0;34m)\u001b[0m\u001b[0;34m:\u001b[0m\u001b[0;34m\u001b[0m\u001b[0;34m\u001b[0m\u001b[0m\n",
            "\u001b[0;31mIndexError\u001b[0m: Column(s) ['item_price', 'shop_name', 'item_name', 'item_category_id', 'item_category_name', 'item_cnt_day'] already selected"
          ]
        }
      ]
    },
    {
      "cell_type": "code",
      "metadata": {
        "id": "Syb6UZG7nwn0",
        "outputId": "bc3f36b3-c687-459b-b06b-a03f7c6dfb4e",
        "colab": {
          "base_uri": "https://localhost:8080/",
          "height": 638
        }
      },
      "source": [
        "#Observe distributions of features in train and test set\n",
        "\n",
        "cat_feature = ['shop_id', 'item_id', 'item_category_id']\n",
        "for col in range(len(cat_feature)):\n",
        "   plt.figure(figsize = (15, 10))\n",
        "   plt.subplot(len(cat_feature), 1, col+1)\n",
        "   plt.hist(train[cat_feature[col]], bins = 30, color = 'blue', label = 'train')\n",
        "   plt.hist(test[cat_feature[col]], bins = 30, color = 'red', label = 'test')\n",
        "   plt.title(str(cat_feature[col]))\n",
        "   plt.legend()\n",
        "\n"
      ],
      "execution_count": 27,
      "outputs": [
        {
          "output_type": "display_data",
          "data": {
            "image/png": "[encoded data removed]",
            "text/plain": [
              "<Figure size 1080x720 with 1 Axes>"
            ]
          },
          "metadata": {
            "tags": [],
            "needs_background": "light"
          }
        },
        {
          "output_type": "display_data",
          "data": {
            "image/png": "[encoded data removed]",
            "text/plain": [
              "<Figure size 1080x720 with 1 Axes>"
            ]
          },
          "metadata": {
            "tags": [],
            "needs_background": "light"
          }
        },
        {
          "output_type": "display_data",
          "data": {
            "image/png": "[encoded data removed]",
            "text/plain": [
              "<Figure size 1080x720 with 1 Axes>"
            ]
          },
          "metadata": {
            "tags": [],
            "needs_background": "light"
          }
        }
      ]
    },
    {
      "cell_type": "markdown",
      "metadata": {
        "id": "WTE1q4LezTaU"
      },
      "source": [
        "###The train category features contains all distributions of test category features, though the distribution is not all shaped the same."
      ]
    },
    {
      "cell_type": "code",
      "metadata": {
        "id": "aUUeYvKjuU1T",
        "outputId": "ba0f4922-ed75-4dc3-d8e7-400c49d0609a",
        "colab": {
          "base_uri": "https://localhost:8080/",
          "height": 513
        }
      },
      "source": [
        "plt.figure(figsize = (15, 8))\n",
        "plt.plot(train['cnt_monthly'])"
      ],
      "execution_count": 30,
      "outputs": [
        {
          "output_type": "execute_result",
          "data": {
            "text/plain": [
              "[<matplotlib.lines.Line2D at 0x7f3c9dffbeb8>]"
            ]
          },
          "metadata": {
            "tags": []
          },
          "execution_count": 30
        },
        {
          "output_type": "display_data",
          "data": {
            "image/png": "[encoded data removed]",
            "text/plain": [
              "<Figure size 1080x576 with 1 Axes>"
            ]
          },
          "metadata": {
            "tags": [],
            "needs_background": "light"
          }
        }
      ]
    },
    {
      "cell_type": "code",
      "metadata": {
        "id": "0fznfKYwu0ym",
        "outputId": "e4a94d87-8609-4458-db60-7da032f5dfa0",
        "colab": {
          "base_uri": "https://localhost:8080/",
          "height": 279
        }
      },
      "source": [
        "train.head()"
      ],
      "execution_count": 31,
      "outputs": [
        {
          "output_type": "execute_result",
          "data": {
            "text/html": [
              "<div>\n",
              "<style scoped>\n",
              "    .dataframe tbody tr th:only-of-type {\n",
              "        vertical-align: middle;\n",
              "    }\n",
              "\n",
              "    .dataframe tbody tr th {\n",
              "        vertical-align: top;\n",
              "    }\n",
              "\n",
              "    .dataframe thead th {\n",
              "        text-align: right;\n",
              "    }\n",
              "</style>\n",
              "<table border=\"1\" class=\"dataframe\">\n",
              "  <thead>\n",
              "    <tr style=\"text-align: right;\">\n",
              "      <th></th>\n",
              "      <th>date</th>\n",
              "      <th>date_block_num</th>\n",
              "      <th>shop_id</th>\n",
              "      <th>item_id</th>\n",
              "      <th>item_price</th>\n",
              "      <th>item_cnt_day</th>\n",
              "      <th>shop_name</th>\n",
              "      <th>item_name</th>\n",
              "      <th>item_category_id</th>\n",
              "      <th>item_category_name</th>\n",
              "      <th>month</th>\n",
              "      <th>year</th>\n",
              "      <th>cnt_monthly</th>\n",
              "    </tr>\n",
              "  </thead>\n",
              "  <tbody>\n",
              "    <tr>\n",
              "      <th>0</th>\n",
              "      <td>2013-01-02</td>\n",
              "      <td>0</td>\n",
              "      <td>59</td>\n",
              "      <td>22154</td>\n",
              "      <td>999.00</td>\n",
              "      <td>1.0</td>\n",
              "      <td>Ярославль ТЦ \"Альтаир\"</td>\n",
              "      <td>ЯВЛЕНИЕ 2012 (BD)</td>\n",
              "      <td>37</td>\n",
              "      <td>Кино - Blu-Ray</td>\n",
              "      <td>1</td>\n",
              "      <td>2013</td>\n",
              "      <td>1.0</td>\n",
              "    </tr>\n",
              "    <tr>\n",
              "      <th>1</th>\n",
              "      <td>2013-01-03</td>\n",
              "      <td>0</td>\n",
              "      <td>25</td>\n",
              "      <td>2552</td>\n",
              "      <td>899.00</td>\n",
              "      <td>1.0</td>\n",
              "      <td>Москва ТРК \"Атриум\"</td>\n",
              "      <td>DEEP PURPLE  The House Of Blue Light  LP</td>\n",
              "      <td>58</td>\n",
              "      <td>Музыка - Винил</td>\n",
              "      <td>1</td>\n",
              "      <td>2013</td>\n",
              "      <td>1.0</td>\n",
              "    </tr>\n",
              "    <tr>\n",
              "      <th>2</th>\n",
              "      <td>2013-01-05</td>\n",
              "      <td>0</td>\n",
              "      <td>25</td>\n",
              "      <td>2552</td>\n",
              "      <td>899.00</td>\n",
              "      <td>0.0</td>\n",
              "      <td>Москва ТРК \"Атриум\"</td>\n",
              "      <td>DEEP PURPLE  The House Of Blue Light  LP</td>\n",
              "      <td>58</td>\n",
              "      <td>Музыка - Винил</td>\n",
              "      <td>1</td>\n",
              "      <td>2013</td>\n",
              "      <td>1.0</td>\n",
              "    </tr>\n",
              "    <tr>\n",
              "      <th>3</th>\n",
              "      <td>2013-01-06</td>\n",
              "      <td>0</td>\n",
              "      <td>25</td>\n",
              "      <td>2554</td>\n",
              "      <td>1709.05</td>\n",
              "      <td>1.0</td>\n",
              "      <td>Москва ТРК \"Атриум\"</td>\n",
              "      <td>DEEP PURPLE  Who Do You Think We Are  LP</td>\n",
              "      <td>58</td>\n",
              "      <td>Музыка - Винил</td>\n",
              "      <td>1</td>\n",
              "      <td>2013</td>\n",
              "      <td>1.0</td>\n",
              "    </tr>\n",
              "    <tr>\n",
              "      <th>4</th>\n",
              "      <td>2013-01-15</td>\n",
              "      <td>0</td>\n",
              "      <td>25</td>\n",
              "      <td>2555</td>\n",
              "      <td>1099.00</td>\n",
              "      <td>1.0</td>\n",
              "      <td>Москва ТРК \"Атриум\"</td>\n",
              "      <td>DEEP PURPLE 30 Very Best Of 2CD (Фирм.)</td>\n",
              "      <td>56</td>\n",
              "      <td>Музыка - CD фирменного производства</td>\n",
              "      <td>1</td>\n",
              "      <td>2013</td>\n",
              "      <td>1.0</td>\n",
              "    </tr>\n",
              "  </tbody>\n",
              "</table>\n",
              "</div>"
            ],
            "text/plain": [
              "        date  date_block_num  shop_id  item_id  item_price  item_cnt_day               shop_name                                 item_name  item_category_id                   item_category_name  month  year  cnt_monthly\n",
              "0 2013-01-02               0       59    22154      999.00           1.0  Ярославль ТЦ \"Альтаир\"                         ЯВЛЕНИЕ 2012 (BD)                37                       Кино - Blu-Ray      1  2013          1.0\n",
              "1 2013-01-03               0       25     2552      899.00           1.0     Москва ТРК \"Атриум\"  DEEP PURPLE  The House Of Blue Light  LP                58                       Музыка - Винил      1  2013          1.0\n",
              "2 2013-01-05               0       25     2552      899.00           0.0     Москва ТРК \"Атриум\"  DEEP PURPLE  The House Of Blue Light  LP                58                       Музыка - Винил      1  2013          1.0\n",
              "3 2013-01-06               0       25     2554     1709.05           1.0     Москва ТРК \"Атриум\"  DEEP PURPLE  Who Do You Think We Are  LP                58                       Музыка - Винил      1  2013          1.0\n",
              "4 2013-01-15               0       25     2555     1099.00           1.0     Москва ТРК \"Атриум\"   DEEP PURPLE 30 Very Best Of 2CD (Фирм.)                56  Музыка - CD фирменного производства      1  2013          1.0"
            ]
          },
          "metadata": {
            "tags": []
          },
          "execution_count": 31
        }
      ]
    },
    {
      "cell_type": "markdown",
      "metadata": {
        "id": "3caGsP81CieL"
      },
      "source": [
        "###Assume some properties that my affect item monthly sells:\n",
        "###Does different shop tend to sold more of less item?\n",
        "###Does certain item category tend to sold more of less item?\n",
        "###And the analyzation result comparing train and test set"
      ]
    },
    {
      "cell_type": "code",
      "metadata": {
        "id": "6bvTgV3ZZbNf",
        "outputId": "91126854-e108-488d-ed57-55736ec2e1a1",
        "colab": {
          "base_uri": "https://localhost:8080/",
          "height": 1000
        }
      },
      "source": [
        "check = train.groupby('shop_id')['cnt_monthly'].sum()\n",
        "plt.figure(1, figsize=(15, 8))\n",
        "plt.xlabel('Shop ID')\n",
        "plt.ylabel('Total items sold for whole time scan')\n",
        "plt.plot(check)\n",
        "\n",
        "check = train.groupby('item_category_id')['cnt_monthly'].sum()\n",
        "plt.figure(2, figsize=(15, 8))\n",
        "plt.xlabel('Item category')\n",
        "plt.ylabel('Total items sold for whole time scan')\n",
        "plt.plot(check)"
      ],
      "execution_count": 49,
      "outputs": [
        {
          "output_type": "execute_result",
          "data": {
            "text/plain": [
              "[<matplotlib.lines.Line2D at 0x7f3c9b61e7b8>]"
            ]
          },
          "metadata": {
            "tags": []
          },
          "execution_count": 49
        },
        {
          "output_type": "display_data",
          "data": {
            "image/png": "[encoded data removed]",
            "text/plain": [
              "<Figure size 1080x576 with 1 Axes>"
            ]
          },
          "metadata": {
            "tags": [],
            "needs_background": "light"
          }
        },
        {
          "output_type": "display_data",
          "data": {
            "image/png": "[encoded data removed]",
            "text/plain": [
              "<Figure size 1080x576 with 1 Axes>"
            ]
          },
          "metadata": {
            "tags": [],
            "needs_background": "light"
          }
        }
      ]
    },
    {
      "cell_type": "code",
      "metadata": {
        "id": "HAqfGcruz0Tw",
        "outputId": "ab330c9e-0b68-42ae-e4b9-090a864168b7",
        "colab": {
          "base_uri": "https://localhost:8080/",
          "height": 195
        }
      },
      "source": [
        "test.head()"
      ],
      "execution_count": 38,
      "outputs": [
        {
          "output_type": "execute_result",
          "data": {
            "text/html": [
              "<div>\n",
              "<style scoped>\n",
              "    .dataframe tbody tr th:only-of-type {\n",
              "        vertical-align: middle;\n",
              "    }\n",
              "\n",
              "    .dataframe tbody tr th {\n",
              "        vertical-align: top;\n",
              "    }\n",
              "\n",
              "    .dataframe thead th {\n",
              "        text-align: right;\n",
              "    }\n",
              "</style>\n",
              "<table border=\"1\" class=\"dataframe\">\n",
              "  <thead>\n",
              "    <tr style=\"text-align: right;\">\n",
              "      <th></th>\n",
              "      <th>ID</th>\n",
              "      <th>date_block_num</th>\n",
              "      <th>shop_id</th>\n",
              "      <th>item_id</th>\n",
              "      <th>shop_name</th>\n",
              "      <th>item_name</th>\n",
              "      <th>item_category_id</th>\n",
              "      <th>item_category_name</th>\n",
              "      <th>month</th>\n",
              "      <th>year</th>\n",
              "    </tr>\n",
              "  </thead>\n",
              "  <tbody>\n",
              "    <tr>\n",
              "      <th>0</th>\n",
              "      <td>0</td>\n",
              "      <td>34</td>\n",
              "      <td>5</td>\n",
              "      <td>5037</td>\n",
              "      <td>Вологда ТРЦ \"Мармелад\"</td>\n",
              "      <td>NHL 15 [PS3, русские субтитры]</td>\n",
              "      <td>19</td>\n",
              "      <td>Игры - PS3</td>\n",
              "      <td>11</td>\n",
              "      <td>2015</td>\n",
              "    </tr>\n",
              "    <tr>\n",
              "      <th>1</th>\n",
              "      <td>1</td>\n",
              "      <td>34</td>\n",
              "      <td>5</td>\n",
              "      <td>5320</td>\n",
              "      <td>Вологда ТРЦ \"Мармелад\"</td>\n",
              "      <td>ONE DIRECTION  Made In The A.M.</td>\n",
              "      <td>55</td>\n",
              "      <td>Музыка - CD локального производства</td>\n",
              "      <td>11</td>\n",
              "      <td>2015</td>\n",
              "    </tr>\n",
              "    <tr>\n",
              "      <th>2</th>\n",
              "      <td>2</td>\n",
              "      <td>34</td>\n",
              "      <td>5</td>\n",
              "      <td>5233</td>\n",
              "      <td>Вологда ТРЦ \"Мармелад\"</td>\n",
              "      <td>Need for Speed Rivals (Essentials) [PS3, русск...</td>\n",
              "      <td>19</td>\n",
              "      <td>Игры - PS3</td>\n",
              "      <td>11</td>\n",
              "      <td>2015</td>\n",
              "    </tr>\n",
              "    <tr>\n",
              "      <th>3</th>\n",
              "      <td>3</td>\n",
              "      <td>34</td>\n",
              "      <td>5</td>\n",
              "      <td>5232</td>\n",
              "      <td>Вологда ТРЦ \"Мармелад\"</td>\n",
              "      <td>Need for Speed Rivals (Classics) [Xbox 360, ру...</td>\n",
              "      <td>23</td>\n",
              "      <td>Игры - XBOX 360</td>\n",
              "      <td>11</td>\n",
              "      <td>2015</td>\n",
              "    </tr>\n",
              "    <tr>\n",
              "      <th>4</th>\n",
              "      <td>4</td>\n",
              "      <td>34</td>\n",
              "      <td>5</td>\n",
              "      <td>5268</td>\n",
              "      <td>Вологда ТРЦ \"Мармелад\"</td>\n",
              "      <td>Need for Speed [PS4, русская версия]</td>\n",
              "      <td>20</td>\n",
              "      <td>Игры - PS4</td>\n",
              "      <td>11</td>\n",
              "      <td>2015</td>\n",
              "    </tr>\n",
              "  </tbody>\n",
              "</table>\n",
              "</div>"
            ],
            "text/plain": [
              "   ID  date_block_num  shop_id  item_id               shop_name                                          item_name  item_category_id                   item_category_name  month  year\n",
              "0   0              34        5     5037  Вологда ТРЦ \"Мармелад\"                     NHL 15 [PS3, русские субтитры]                19                           Игры - PS3     11  2015\n",
              "1   1              34        5     5320  Вологда ТРЦ \"Мармелад\"                    ONE DIRECTION  Made In The A.M.                55  Музыка - CD локального производства     11  2015\n",
              "2   2              34        5     5233  Вологда ТРЦ \"Мармелад\"  Need for Speed Rivals (Essentials) [PS3, русск...                19                           Игры - PS3     11  2015\n",
              "3   3              34        5     5232  Вологда ТРЦ \"Мармелад\"  Need for Speed Rivals (Classics) [Xbox 360, ру...                23                      Игры - XBOX 360     11  2015\n",
              "4   4              34        5     5268  Вологда ТРЦ \"Мармелад\"               Need for Speed [PS4, русская версия]                20                           Игры - PS4     11  2015"
            ]
          },
          "metadata": {
            "tags": []
          },
          "execution_count": 38
        }
      ]
    },
    {
      "cell_type": "code",
      "metadata": {
        "id": "Qqk8lOJA0UrR"
      },
      "source": [
        ""
      ],
      "execution_count": null,
      "outputs": []
    }
  ]
}