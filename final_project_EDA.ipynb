{
  "nbformat": 4,
  "nbformat_minor": 0,
  "metadata": {
    "colab": {
      "name": "final_project_EDA.ipynb",
      "provenance": [],
      "collapsed_sections": [],
      "authorship_tag": "ABX9TyOLI51n50MPTSeZ5ftJQEWQ",
      "include_colab_link": true
    },
    "kernelspec": {
      "display_name": "Python 3",
      "name": "python3"
    }
  },
  "cells": [
    {
      "cell_type": "markdown",
      "metadata": {
        "id": "view-in-github",
        "colab_type": "text"
      },
      "source": [
        "<a href=\"https://colab.research.google.com/github/laurence-lin/Kaggle_competition/blob/master/final_project_EDA.ipynb\" target=\"_parent\"><img src=\"https://colab.research.google.com/assets/colab-badge.svg\" alt=\"Open In Colab\"/></a>"
      ]
    },
    {
      "cell_type": "code",
      "metadata": {
        "id": "iFgsESezR2YW",
        "outputId": "6405ddf1-f703-49de-9234-3860773a9907",
        "colab": {
          "base_uri": "https://localhost:8080/"
        }
      },
      "source": [
        "import numpy as np\n",
        "import pandas as pd\n",
        "\n",
        "import tensorflow as tf\n",
        "import lightgbm as lgb\n",
        "import sklearn\n",
        "import cv2\n",
        "\n",
        "%matplotlib inline\n",
        "import matplotlib.pyplot as plt\n",
        "import seaborn as sns\n",
        "\n",
        "import os\n",
        "import gc\n",
        "\n",
        "pd.set_option('display.max_columns' , 500)\n",
        "pd.set_option('display.width', 300)\n",
        "\n",
        "print('Library imported.')\n"
      ],
      "execution_count": 1,
      "outputs": [
        {
          "output_type": "stream",
          "text": [
            "Library imported.\n"
          ],
          "name": "stdout"
        }
      ]
    },
    {
      "cell_type": "code",
      "metadata": {
        "id": "x0NdhSf0pxH5",
        "outputId": "15c3df61-319a-4776-aee8-b8a07852349d",
        "colab": {
          "base_uri": "https://localhost:8080/"
        }
      },
      "source": [
        "import multiprocessing\n",
        "\n",
        "multiprocessing.cpu_count()"
      ],
      "execution_count": 2,
      "outputs": [
        {
          "output_type": "execute_result",
          "data": {
            "text/plain": [
              "2"
            ]
          },
          "metadata": {
            "tags": []
          },
          "execution_count": 2
        }
      ]
    },
    {
      "cell_type": "code",
      "metadata": {
        "id": "LsN-GuuhJm8q",
        "outputId": "1cdea38f-7427-4757-95bc-37c6406a91e0",
        "colab": {
          "resources": {
            "http://localhost:8080/nbextensions/google.colab/files.js": {
              "data": "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",
              "ok": true,
              "headers": [
                [
                  "content-type",
                  "application/javascript"
                ]
              ],
              "status": 200,
              "status_text": ""
            }
          },
          "base_uri": "https://localhost:8080/",
          "height": 627
        }
      },
      "source": [
        "from google.colab import files\n",
        "\n",
        "uploaded = files.upload() # upload kaggle.json\n",
        "!mkdir ~/.kaggle\n",
        "!cp kaggle.json ~/.kaggle/ \n",
        "!kaggle competitions download -c competitive-data-science-predict-future-sales\n",
        "!unzip \\*.zip"
      ],
      "execution_count": 3,
      "outputs": [
        {
          "output_type": "display_data",
          "data": {
            "text/html": [
              "\n",
              "     <input type=\"file\" id=\"files-1c195245-28c3-43bc-974d-ee8dee8ced54\" name=\"files[]\" multiple disabled\n",
              "        style=\"border:none\" />\n",
              "     <output id=\"result-1c195245-28c3-43bc-974d-ee8dee8ced54\">\n",
              "      Upload widget is only available when the cell has been executed in the\n",
              "      current browser session. Please rerun this cell to enable.\n",
              "      </output>\n",
              "      <script src=\"/nbextensions/google.colab/files.js\"></script> "
            ],
            "text/plain": [
              "<IPython.core.display.HTML object>"
            ]
          },
          "metadata": {
            "tags": []
          }
        },
        {
          "output_type": "stream",
          "text": [
            "Saving kaggle.json to kaggle.json\n",
            "Warning: Your Kaggle API key is readable by other users on this system! To fix this, you can run 'chmod 600 /root/.kaggle/kaggle.json'\n",
            "Warning: Looks like you're using an outdated API Version, please consider updating (server 1.5.9 / client 1.5.4)\n",
            "Downloading item_categories.csv to /content\n",
            "  0% 0.00/3.49k [00:00<?, ?B/s]\n",
            "100% 3.49k/3.49k [00:00<00:00, 6.64MB/s]\n",
            "Downloading sample_submission.csv.zip to /content\n",
            "  0% 0.00/468k [00:00<?, ?B/s]\n",
            "100% 468k/468k [00:00<00:00, 65.4MB/s]\n",
            "Downloading test.csv.zip to /content\n",
            "  0% 0.00/1.02M [00:00<?, ?B/s]\n",
            "100% 1.02M/1.02M [00:00<00:00, 68.6MB/s]\n",
            "Downloading items.csv.zip to /content\n",
            "  0% 0.00/368k [00:00<?, ?B/s]\n",
            "100% 368k/368k [00:00<00:00, 117MB/s]\n",
            "Downloading shops.csv to /content\n",
            "  0% 0.00/2.91k [00:00<?, ?B/s]\n",
            "100% 2.91k/2.91k [00:00<00:00, 2.42MB/s]\n",
            "Downloading sales_train.csv.zip to /content\n",
            " 38% 5.00M/13.3M [00:00<00:00, 51.1MB/s]\n",
            "100% 13.3M/13.3M [00:00<00:00, 64.9MB/s]\n",
            "Archive:  items.csv.zip\n",
            "  inflating: items.csv               \n",
            "\n",
            "Archive:  test.csv.zip\n",
            "  inflating: test.csv                \n",
            "\n",
            "Archive:  sample_submission.csv.zip\n",
            "  inflating: sample_submission.csv   \n",
            "\n",
            "Archive:  sales_train.csv.zip\n",
            "  inflating: sales_train.csv         \n",
            "\n",
            "4 archives were successfully processed.\n"
          ],
          "name": "stdout"
        }
      ]
    },
    {
      "cell_type": "code",
      "metadata": {
        "id": "5c_hJ8CsKY-F",
        "outputId": "6680d500-9978-4baa-ac90-14482de93b7b",
        "colab": {
          "base_uri": "https://localhost:8080/"
        }
      },
      "source": [
        "\n",
        "item_cat = pd.read_csv('item_categories.csv')\n",
        "item = pd.read_csv('items.csv')\n",
        "sale_train = pd.read_csv('sales_train.csv')\n",
        "shops = pd.read_csv('shops.csv')\n",
        "\n",
        "test = pd.read_csv('test.csv')\n",
        "\n",
        "sample_submission = pd.read_csv('sample_submission.csv')\n",
        "\n",
        "print('Files imported.')\n"
      ],
      "execution_count": 4,
      "outputs": [
        {
          "output_type": "stream",
          "text": [
            "Files imported.\n"
          ],
          "name": "stdout"
        }
      ]
    },
    {
      "cell_type": "code",
      "metadata": {
        "id": "ksh4XwG79um3",
        "outputId": "57a187e6-d102-4922-f756-a7d3f405a03f",
        "colab": {
          "base_uri": "https://localhost:8080/"
        }
      },
      "source": [
        "print(test.head())\n",
        "print(sample_submission.head())"
      ],
      "execution_count": 5,
      "outputs": [
        {
          "output_type": "stream",
          "text": [
            "   ID  shop_id  item_id\n",
            "0   0        5     5037\n",
            "1   1        5     5320\n",
            "2   2        5     5233\n",
            "3   3        5     5232\n",
            "4   4        5     5268\n",
            "   ID  item_cnt_month\n",
            "0   0             0.5\n",
            "1   1             0.5\n",
            "2   2             0.5\n",
            "3   3             0.5\n",
            "4   4             0.5\n"
          ],
          "name": "stdout"
        }
      ]
    },
    {
      "cell_type": "code",
      "metadata": {
        "id": "wCU0xeXuLOYw",
        "outputId": "2bb2701e-1c81-4a6b-dc51-a22098707c1a",
        "colab": {
          "base_uri": "https://localhost:8080/"
        }
      },
      "source": [
        "print('Items: ')\n",
        "print(item.head(), '\\n')\n",
        "\n",
        "print('Item category:')\n",
        "print(item_cat.head(), '\\n')\n",
        "\n",
        "print('Shops data:')\n",
        "print(shops.head(), '\\n')\n",
        "\n",
        "print('Sales train_data')\n",
        "print(sale_train.head(), '\\n')\n",
        "\n",
        "\n"
      ],
      "execution_count": 6,
      "outputs": [
        {
          "output_type": "stream",
          "text": [
            "Items: \n",
            "                                           item_name  item_id  item_category_id\n",
            "0          ! ВО ВЛАСТИ НАВАЖДЕНИЯ (ПЛАСТ.)         D        0                40\n",
            "1  !ABBYY FineReader 12 Professional Edition Full...        1                76\n",
            "2      ***В ЛУЧАХ СЛАВЫ   (UNV)                    D        2                40\n",
            "3    ***ГОЛУБАЯ ВОЛНА  (Univ)                      D        3                40\n",
            "4        ***КОРОБКА (СТЕКЛО)                       D        4                40 \n",
            "\n",
            "Item category:\n",
            "        item_category_name  item_category_id\n",
            "0  PC - Гарнитуры/Наушники                 0\n",
            "1         Аксессуары - PS2                 1\n",
            "2         Аксессуары - PS3                 2\n",
            "3         Аксессуары - PS4                 3\n",
            "4         Аксессуары - PSP                 4 \n",
            "\n",
            "Shops data:\n",
            "                        shop_name  shop_id\n",
            "0   !Якутск Орджоникидзе, 56 фран        0\n",
            "1   !Якутск ТЦ \"Центральный\" фран        1\n",
            "2                Адыгея ТЦ \"Мега\"        2\n",
            "3  Балашиха ТРК \"Октябрь-Киномир\"        3\n",
            "4        Волжский ТЦ \"Волга Молл\"        4 \n",
            "\n",
            "Sales train_data\n",
            "         date  date_block_num  shop_id  item_id  item_price  item_cnt_day\n",
            "0  02.01.2013               0       59    22154      999.00           1.0\n",
            "1  03.01.2013               0       25     2552      899.00           1.0\n",
            "2  05.01.2013               0       25     2552      899.00          -1.0\n",
            "3  06.01.2013               0       25     2554     1709.05           1.0\n",
            "4  15.01.2013               0       25     2555     1099.00           1.0 \n",
            "\n"
          ],
          "name": "stdout"
        }
      ]
    },
    {
      "cell_type": "markdown",
      "metadata": {
        "id": "JZyjnRq_U_ZE"
      },
      "source": [
        "###I assume that since I have shop_id and item_category_id, shop name and item_category name is unnecessary. However, we preserve this feature first, assume meaningless features may contain data leakage.\n",
        "###Thus, when I combine the dataset."
      ]
    },
    {
      "cell_type": "code",
      "metadata": {
        "id": "T0rzRr2HML_k",
        "outputId": "d451db30-0de3-4244-fda9-d82b1b7e42d1",
        "colab": {
          "base_uri": "https://localhost:8080/"
        }
      },
      "source": [
        "item = item.merge(item_cat, how = 'left', on = 'item_category_id')\n",
        "sale_train = sale_train.merge(shops, how = 'left', on = 'shop_id')\n",
        "train = sale_train.merge(item, how = 'left', on = 'item_id')\n",
        "test = test.merge(item, how = 'left', on = 'item_id')\n",
        "test = test.merge(shops, how = 'left', on = 'shop_id')\n",
        "print('Train data:')\n",
        "print(train.shape)\n",
        "print(train.head())\n",
        "\n",
        "print('Test data:')\n",
        "print(test.shape)\n",
        "print(test.head())"
      ],
      "execution_count": 7,
      "outputs": [
        {
          "output_type": "stream",
          "text": [
            "Train data:\n",
            "(2935849, 10)\n",
            "         date  date_block_num  shop_id  item_id  item_price  item_cnt_day               shop_name                                 item_name  item_category_id                   item_category_name\n",
            "0  02.01.2013               0       59    22154      999.00           1.0  Ярославль ТЦ \"Альтаир\"                         ЯВЛЕНИЕ 2012 (BD)                37                       Кино - Blu-Ray\n",
            "1  03.01.2013               0       25     2552      899.00           1.0     Москва ТРК \"Атриум\"  DEEP PURPLE  The House Of Blue Light  LP                58                       Музыка - Винил\n",
            "2  05.01.2013               0       25     2552      899.00          -1.0     Москва ТРК \"Атриум\"  DEEP PURPLE  The House Of Blue Light  LP                58                       Музыка - Винил\n",
            "3  06.01.2013               0       25     2554     1709.05           1.0     Москва ТРК \"Атриум\"  DEEP PURPLE  Who Do You Think We Are  LP                58                       Музыка - Винил\n",
            "4  15.01.2013               0       25     2555     1099.00           1.0     Москва ТРК \"Атриум\"   DEEP PURPLE 30 Very Best Of 2CD (Фирм.)                56  Музыка - CD фирменного производства\n",
            "Test data:\n",
            "(214200, 7)\n",
            "   ID  shop_id  item_id                                          item_name  item_category_id                   item_category_name               shop_name\n",
            "0   0        5     5037                     NHL 15 [PS3, русские субтитры]                19                           Игры - PS3  Вологда ТРЦ \"Мармелад\"\n",
            "1   1        5     5320                    ONE DIRECTION  Made In The A.M.                55  Музыка - CD локального производства  Вологда ТРЦ \"Мармелад\"\n",
            "2   2        5     5233  Need for Speed Rivals (Essentials) [PS3, русск...                19                           Игры - PS3  Вологда ТРЦ \"Мармелад\"\n",
            "3   3        5     5232  Need for Speed Rivals (Classics) [Xbox 360, ру...                23                      Игры - XBOX 360  Вологда ТРЦ \"Мармелад\"\n",
            "4   4        5     5268               Need for Speed [PS4, русская версия]                20                           Игры - PS4  Вологда ТРЦ \"Мармелад\"\n"
          ],
          "name": "stdout"
        }
      ]
    },
    {
      "cell_type": "code",
      "metadata": {
        "id": "L3WT9qgr5Y93",
        "outputId": "2773e7dc-8f0c-4009-9066-d59eaff7b2c4",
        "colab": {
          "base_uri": "https://localhost:8080/"
        }
      },
      "source": [
        "print(train['item_id'].nunique())\n",
        "print(train['item_name'].nunique())"
      ],
      "execution_count": 8,
      "outputs": [
        {
          "output_type": "stream",
          "text": [
            "21807\n",
            "21807\n"
          ],
          "name": "stdout"
        }
      ]
    },
    {
      "cell_type": "markdown",
      "metadata": {
        "id": "5tltemdE_QFY"
      },
      "source": [
        "##Task framework: Use 2013/1 ~ 2015/10 data, to predict 2015/11 data\n",
        "###We have training data with 10 features, test data with 6 features(not counting the ID). Train data contains features that test data don't have: [date, date_block_num, item_cnt_day]. \n",
        "###We should take into account the time context of the data\n",
        "###1. Given current shop and item, predict total sales of whole month\n",
        "###2. Apply time sequence feature, (shop + item) * several months + past monthly  sales * several months = future monthly sales"
      ]
    },
    {
      "cell_type": "code",
      "metadata": {
        "id": "Ne1qJ8rbO5dK",
        "outputId": "9b551702-d1b0-47d8-d9e8-1331f9a9e231",
        "colab": {
          "base_uri": "https://localhost:8080/"
        }
      },
      "source": [
        "# First preprocess date data: For train set, extract year and month from date column\n",
        "# Original date format: dd/mm/yyyy\n",
        "train['date'] = pd.to_datetime(train['date'], format = '%d.%m.%Y')\n",
        "train['month'] = train['date'].dt.month\n",
        "train['year'] = train['date'].dt.year\n",
        "print(train.info())\n",
        "print(train.head())\n",
        "\n"
      ],
      "execution_count": 9,
      "outputs": [
        {
          "output_type": "stream",
          "text": [
            "<class 'pandas.core.frame.DataFrame'>\n",
            "Int64Index: 2935849 entries, 0 to 2935848\n",
            "Data columns (total 12 columns):\n",
            " #   Column              Dtype         \n",
            "---  ------              -----         \n",
            " 0   date                datetime64[ns]\n",
            " 1   date_block_num      int64         \n",
            " 2   shop_id             int64         \n",
            " 3   item_id             int64         \n",
            " 4   item_price          float64       \n",
            " 5   item_cnt_day        float64       \n",
            " 6   shop_name           object        \n",
            " 7   item_name           object        \n",
            " 8   item_category_id    int64         \n",
            " 9   item_category_name  object        \n",
            " 10  month               int64         \n",
            " 11  year                int64         \n",
            "dtypes: datetime64[ns](1), float64(2), int64(6), object(3)\n",
            "memory usage: 291.2+ MB\n",
            "None\n",
            "        date  date_block_num  shop_id  item_id  item_price  item_cnt_day               shop_name                                 item_name  item_category_id                   item_category_name  month  year\n",
            "0 2013-01-02               0       59    22154      999.00           1.0  Ярославль ТЦ \"Альтаир\"                         ЯВЛЕНИЕ 2012 (BD)                37                       Кино - Blu-Ray      1  2013\n",
            "1 2013-01-03               0       25     2552      899.00           1.0     Москва ТРК \"Атриум\"  DEEP PURPLE  The House Of Blue Light  LP                58                       Музыка - Винил      1  2013\n",
            "2 2013-01-05               0       25     2552      899.00          -1.0     Москва ТРК \"Атриум\"  DEEP PURPLE  The House Of Blue Light  LP                58                       Музыка - Винил      1  2013\n",
            "3 2013-01-06               0       25     2554     1709.05           1.0     Москва ТРК \"Атриум\"  DEEP PURPLE  Who Do You Think We Are  LP                58                       Музыка - Винил      1  2013\n",
            "4 2013-01-15               0       25     2555     1099.00           1.0     Москва ТРК \"Атриум\"   DEEP PURPLE 30 Very Best Of 2CD (Фирм.)                56  Музыка - CD фирменного производства      1  2013\n"
          ],
          "name": "stdout"
        }
      ]
    },
    {
      "cell_type": "code",
      "metadata": {
        "id": "rSjuhlceLVLy",
        "outputId": "3c67df1c-04be-4ec9-ea0d-ffb5ec68dca4",
        "colab": {
          "base_uri": "https://localhost:8080/"
        }
      },
      "source": [
        "# Since test data is from 2015 November, we could create date features for test data\n",
        "test['month'] = 11\n",
        "test['year'] = 2015\n",
        "test['date_block_num'] = 34\n",
        "print(test.head())"
      ],
      "execution_count": 10,
      "outputs": [
        {
          "output_type": "stream",
          "text": [
            "   ID  shop_id  item_id                                          item_name  item_category_id                   item_category_name               shop_name  month  year  date_block_num\n",
            "0   0        5     5037                     NHL 15 [PS3, русские субтитры]                19                           Игры - PS3  Вологда ТРЦ \"Мармелад\"     11  2015              34\n",
            "1   1        5     5320                    ONE DIRECTION  Made In The A.M.                55  Музыка - CD локального производства  Вологда ТРЦ \"Мармелад\"     11  2015              34\n",
            "2   2        5     5233  Need for Speed Rivals (Essentials) [PS3, русск...                19                           Игры - PS3  Вологда ТРЦ \"Мармелад\"     11  2015              34\n",
            "3   3        5     5232  Need for Speed Rivals (Classics) [Xbox 360, ру...                23                      Игры - XBOX 360  Вологда ТРЦ \"Мармелад\"     11  2015              34\n",
            "4   4        5     5268               Need for Speed [PS4, русская версия]                20                           Игры - PS4  Вологда ТРЦ \"Мармелад\"     11  2015              34\n"
          ],
          "name": "stdout"
        }
      ]
    },
    {
      "cell_type": "code",
      "metadata": {
        "id": "eS8f8l7BpCWt",
        "outputId": "dbbba50f-374c-452b-ef20-919c23fef9df",
        "colab": {
          "base_uri": "https://localhost:8080/"
        }
      },
      "source": [
        "print(train.columns)\n",
        "print(test.columns)"
      ],
      "execution_count": 11,
      "outputs": [
        {
          "output_type": "stream",
          "text": [
            "Index(['date', 'date_block_num', 'shop_id', 'item_id', 'item_price', 'item_cnt_day', 'shop_name', 'item_name', 'item_category_id', 'item_category_name', 'month', 'year'], dtype='object')\n",
            "Index(['ID', 'shop_id', 'item_id', 'item_name', 'item_category_id', 'item_category_name', 'shop_name', 'month', 'year', 'date_block_num'], dtype='object')\n"
          ],
          "name": "stdout"
        }
      ]
    },
    {
      "cell_type": "markdown",
      "metadata": {
        "id": "qwKPMl0jo-3J"
      },
      "source": [
        "###Now the only difference in train and test features is item_cnt_day."
      ]
    },
    {
      "cell_type": "code",
      "metadata": {
        "id": "Rh52ne90pigE",
        "outputId": "f6c0ee9a-9978-4640-f1f9-875e9e55ddc8",
        "colab": {
          "base_uri": "https://localhost:8080/"
        }
      },
      "source": [
        "#Start EDA for train and test data\n",
        "print(train.head())\n",
        "print(test.head())\n",
        "# make the column of test aligned with train set\n",
        "col_train = [col for col in train.columns if col in test.columns]\n",
        "test = pd.concat([test['ID'], test[col_train]], axis = 1)\n"
      ],
      "execution_count": 12,
      "outputs": [
        {
          "output_type": "stream",
          "text": [
            "        date  date_block_num  shop_id  item_id  item_price  item_cnt_day               shop_name                                 item_name  item_category_id                   item_category_name  month  year\n",
            "0 2013-01-02               0       59    22154      999.00           1.0  Ярославль ТЦ \"Альтаир\"                         ЯВЛЕНИЕ 2012 (BD)                37                       Кино - Blu-Ray      1  2013\n",
            "1 2013-01-03               0       25     2552      899.00           1.0     Москва ТРК \"Атриум\"  DEEP PURPLE  The House Of Blue Light  LP                58                       Музыка - Винил      1  2013\n",
            "2 2013-01-05               0       25     2552      899.00          -1.0     Москва ТРК \"Атриум\"  DEEP PURPLE  The House Of Blue Light  LP                58                       Музыка - Винил      1  2013\n",
            "3 2013-01-06               0       25     2554     1709.05           1.0     Москва ТРК \"Атриум\"  DEEP PURPLE  Who Do You Think We Are  LP                58                       Музыка - Винил      1  2013\n",
            "4 2013-01-15               0       25     2555     1099.00           1.0     Москва ТРК \"Атриум\"   DEEP PURPLE 30 Very Best Of 2CD (Фирм.)                56  Музыка - CD фирменного производства      1  2013\n",
            "   ID  shop_id  item_id                                          item_name  item_category_id                   item_category_name               shop_name  month  year  date_block_num\n",
            "0   0        5     5037                     NHL 15 [PS3, русские субтитры]                19                           Игры - PS3  Вологда ТРЦ \"Мармелад\"     11  2015              34\n",
            "1   1        5     5320                    ONE DIRECTION  Made In The A.M.                55  Музыка - CD локального производства  Вологда ТРЦ \"Мармелад\"     11  2015              34\n",
            "2   2        5     5233  Need for Speed Rivals (Essentials) [PS3, русск...                19                           Игры - PS3  Вологда ТРЦ \"Мармелад\"     11  2015              34\n",
            "3   3        5     5232  Need for Speed Rivals (Classics) [Xbox 360, ру...                23                      Игры - XBOX 360  Вологда ТРЦ \"Мармелад\"     11  2015              34\n",
            "4   4        5     5268               Need for Speed [PS4, русская версия]                20                           Игры - PS4  Вологда ТРЦ \"Мармелад\"     11  2015              34\n"
          ],
          "name": "stdout"
        }
      ]
    },
    {
      "cell_type": "code",
      "metadata": {
        "id": "OBE8GRCnz40X",
        "outputId": "3634ab47-c2ed-44be-f3d7-eebef96aa2d7",
        "colab": {
          "base_uri": "https://localhost:8080/"
        }
      },
      "source": [
        "print(train.head())\n",
        "print(test.head())"
      ],
      "execution_count": 13,
      "outputs": [
        {
          "output_type": "stream",
          "text": [
            "        date  date_block_num  shop_id  item_id  item_price  item_cnt_day               shop_name                                 item_name  item_category_id                   item_category_name  month  year\n",
            "0 2013-01-02               0       59    22154      999.00           1.0  Ярославль ТЦ \"Альтаир\"                         ЯВЛЕНИЕ 2012 (BD)                37                       Кино - Blu-Ray      1  2013\n",
            "1 2013-01-03               0       25     2552      899.00           1.0     Москва ТРК \"Атриум\"  DEEP PURPLE  The House Of Blue Light  LP                58                       Музыка - Винил      1  2013\n",
            "2 2013-01-05               0       25     2552      899.00          -1.0     Москва ТРК \"Атриум\"  DEEP PURPLE  The House Of Blue Light  LP                58                       Музыка - Винил      1  2013\n",
            "3 2013-01-06               0       25     2554     1709.05           1.0     Москва ТРК \"Атриум\"  DEEP PURPLE  Who Do You Think We Are  LP                58                       Музыка - Винил      1  2013\n",
            "4 2013-01-15               0       25     2555     1099.00           1.0     Москва ТРК \"Атриум\"   DEEP PURPLE 30 Very Best Of 2CD (Фирм.)                56  Музыка - CD фирменного производства      1  2013\n",
            "   ID  date_block_num  shop_id  item_id               shop_name                                          item_name  item_category_id                   item_category_name  month  year\n",
            "0   0              34        5     5037  Вологда ТРЦ \"Мармелад\"                     NHL 15 [PS3, русские субтитры]                19                           Игры - PS3     11  2015\n",
            "1   1              34        5     5320  Вологда ТРЦ \"Мармелад\"                    ONE DIRECTION  Made In The A.M.                55  Музыка - CD локального производства     11  2015\n",
            "2   2              34        5     5233  Вологда ТРЦ \"Мармелад\"  Need for Speed Rivals (Essentials) [PS3, русск...                19                           Игры - PS3     11  2015\n",
            "3   3              34        5     5232  Вологда ТРЦ \"Мармелад\"  Need for Speed Rivals (Classics) [Xbox 360, ру...                23                      Игры - XBOX 360     11  2015\n",
            "4   4              34        5     5268  Вологда ТРЦ \"Мармелад\"               Need for Speed [PS4, русская версия]                20                           Игры - PS4     11  2015\n"
          ],
          "name": "stdout"
        }
      ]
    },
    {
      "cell_type": "code",
      "metadata": {
        "id": "r0MnZU8XPhx1",
        "outputId": "136386ce-f096-4810-e9b6-67f2359aa094",
        "colab": {
          "base_uri": "https://localhost:8080/"
        }
      },
      "source": [
        "# Sum up different days value into monthly\n",
        "train['cnt_monthly'] = train.groupby(['year', 'month', 'shop_id', 'item_id'])['item_cnt_day'].transform(sum)\n",
        "print(train.head())"
      ],
      "execution_count": 14,
      "outputs": [
        {
          "output_type": "stream",
          "text": [
            "        date  date_block_num  shop_id  item_id  item_price  item_cnt_day               shop_name                                 item_name  item_category_id                   item_category_name  month  year  cnt_monthly\n",
            "0 2013-01-02               0       59    22154      999.00           1.0  Ярославль ТЦ \"Альтаир\"                         ЯВЛЕНИЕ 2012 (BD)                37                       Кино - Blu-Ray      1  2013          1.0\n",
            "1 2013-01-03               0       25     2552      899.00           1.0     Москва ТРК \"Атриум\"  DEEP PURPLE  The House Of Blue Light  LP                58                       Музыка - Винил      1  2013          0.0\n",
            "2 2013-01-05               0       25     2552      899.00          -1.0     Москва ТРК \"Атриум\"  DEEP PURPLE  The House Of Blue Light  LP                58                       Музыка - Винил      1  2013          0.0\n",
            "3 2013-01-06               0       25     2554     1709.05           1.0     Москва ТРК \"Атриум\"  DEEP PURPLE  Who Do You Think We Are  LP                58                       Музыка - Винил      1  2013          1.0\n",
            "4 2013-01-15               0       25     2555     1099.00           1.0     Москва ТРК \"Атриум\"   DEEP PURPLE 30 Very Best Of 2CD (Фирм.)                56  Музыка - CD фирменного производства      1  2013          1.0\n"
          ],
          "name": "stdout"
        }
      ]
    },
    {
      "cell_type": "markdown",
      "metadata": {
        "id": "2KIw1UjxFzMo"
      },
      "source": [
        "###Train shape: (2935849,13)"
      ]
    },
    {
      "cell_type": "code",
      "metadata": {
        "id": "Syb6UZG7nwn0",
        "outputId": "2fdff75e-9bbf-425d-aebd-a476706887c7",
        "colab": {
          "base_uri": "https://localhost:8080/",
          "height": 638
        }
      },
      "source": [
        "#Observe distributions of features in train and test set\n",
        "\n",
        "cat_feature = ['shop_id', 'item_id', 'item_category_id']\n",
        "for col in range(len(cat_feature)):\n",
        "   plt.figure(figsize = (15, 10))\n",
        "   plt.subplot(len(cat_feature), 1, col+1)\n",
        "   plt.hist(train[cat_feature[col]], bins = 30, color = 'blue', label = 'train')\n",
        "   plt.hist(test[cat_feature[col]], bins = 30, color = 'red', label = 'test')\n",
        "   plt.title(str(cat_feature[col]))\n",
        "   plt.legend()\n",
        "\n"
      ],
      "execution_count": 15,
      "outputs": [
        {
          "output_type": "display_data",
          "data": {
            "image/png": "[encoded data removed]",
            "text/plain": [
              "<Figure size 1080x720 with 1 Axes>"
            ]
          },
          "metadata": {
            "tags": [],
            "needs_background": "light"
          }
        },
        {
          "output_type": "display_data",
          "data": {
            "image/png": "[encoded data removed]",
            "text/plain": [
              "<Figure size 1080x720 with 1 Axes>"
            ]
          },
          "metadata": {
            "tags": [],
            "needs_background": "light"
          }
        },
        {
          "output_type": "display_data",
          "data": {
            "image/png": "[encoded data removed]",
            "text/plain": [
              "<Figure size 1080x720 with 1 Axes>"
            ]
          },
          "metadata": {
            "tags": [],
            "needs_background": "light"
          }
        }
      ]
    },
    {
      "cell_type": "code",
      "metadata": {
        "id": "SHEfCnbAlj5K",
        "outputId": "3a293bd0-d361-46d3-e948-e0528be6e529",
        "colab": {
          "base_uri": "https://localhost:8080/"
        }
      },
      "source": [
        "train['item_category_id'].nunique()"
      ],
      "execution_count": 16,
      "outputs": [
        {
          "output_type": "execute_result",
          "data": {
            "text/plain": [
              "84"
            ]
          },
          "metadata": {
            "tags": []
          },
          "execution_count": 16
        }
      ]
    },
    {
      "cell_type": "markdown",
      "metadata": {
        "id": "WTE1q4LezTaU"
      },
      "source": [
        "###The train category features contains all distributions of test category features, though the distribution is not all shaped the same."
      ]
    },
    {
      "cell_type": "code",
      "metadata": {
        "id": "aUUeYvKjuU1T",
        "outputId": "3b012c36-f0d2-42b5-f5a2-a3c45b1f7b70",
        "colab": {
          "base_uri": "https://localhost:8080/"
        }
      },
      "source": [
        "#Examine dirty data: Nan values, Outlier, duplicate features, duplicate rows\n",
        "print('Null values in train:\\n', train.isnull().sum())\n",
        "print('Null values in test:\\n', test.isnull().sum())\n",
        "\n",
        "#outliers\n",
        "\n"
      ],
      "execution_count": 17,
      "outputs": [
        {
          "output_type": "stream",
          "text": [
            "Null values in train:\n",
            " date                  0\n",
            "date_block_num        0\n",
            "shop_id               0\n",
            "item_id               0\n",
            "item_price            0\n",
            "item_cnt_day          0\n",
            "shop_name             0\n",
            "item_name             0\n",
            "item_category_id      0\n",
            "item_category_name    0\n",
            "month                 0\n",
            "year                  0\n",
            "cnt_monthly           0\n",
            "dtype: int64\n",
            "Null values in test:\n",
            " ID                    0\n",
            "date_block_num        0\n",
            "shop_id               0\n",
            "item_id               0\n",
            "shop_name             0\n",
            "item_name             0\n",
            "item_category_id      0\n",
            "item_category_name    0\n",
            "month                 0\n",
            "year                  0\n",
            "dtype: int64\n"
          ],
          "name": "stdout"
        }
      ]
    },
    {
      "cell_type": "code",
      "metadata": {
        "id": "0fznfKYwu0ym",
        "outputId": "883fd6a8-f866-463e-d895-03939572fee7",
        "colab": {
          "base_uri": "https://localhost:8080/",
          "height": 347
        }
      },
      "source": [
        "train.head()"
      ],
      "execution_count": 18,
      "outputs": [
        {
          "output_type": "execute_result",
          "data": {
            "text/html": [
              "<div>\n",
              "<style scoped>\n",
              "    .dataframe tbody tr th:only-of-type {\n",
              "        vertical-align: middle;\n",
              "    }\n",
              "\n",
              "    .dataframe tbody tr th {\n",
              "        vertical-align: top;\n",
              "    }\n",
              "\n",
              "    .dataframe thead th {\n",
              "        text-align: right;\n",
              "    }\n",
              "</style>\n",
              "<table border=\"1\" class=\"dataframe\">\n",
              "  <thead>\n",
              "    <tr style=\"text-align: right;\">\n",
              "      <th></th>\n",
              "      <th>date</th>\n",
              "      <th>date_block_num</th>\n",
              "      <th>shop_id</th>\n",
              "      <th>item_id</th>\n",
              "      <th>item_price</th>\n",
              "      <th>item_cnt_day</th>\n",
              "      <th>shop_name</th>\n",
              "      <th>item_name</th>\n",
              "      <th>item_category_id</th>\n",
              "      <th>item_category_name</th>\n",
              "      <th>month</th>\n",
              "      <th>year</th>\n",
              "      <th>cnt_monthly</th>\n",
              "    </tr>\n",
              "  </thead>\n",
              "  <tbody>\n",
              "    <tr>\n",
              "      <th>0</th>\n",
              "      <td>2013-01-02</td>\n",
              "      <td>0</td>\n",
              "      <td>59</td>\n",
              "      <td>22154</td>\n",
              "      <td>999.00</td>\n",
              "      <td>1.0</td>\n",
              "      <td>Ярославль ТЦ \"Альтаир\"</td>\n",
              "      <td>ЯВЛЕНИЕ 2012 (BD)</td>\n",
              "      <td>37</td>\n",
              "      <td>Кино - Blu-Ray</td>\n",
              "      <td>1</td>\n",
              "      <td>2013</td>\n",
              "      <td>1.0</td>\n",
              "    </tr>\n",
              "    <tr>\n",
              "      <th>1</th>\n",
              "      <td>2013-01-03</td>\n",
              "      <td>0</td>\n",
              "      <td>25</td>\n",
              "      <td>2552</td>\n",
              "      <td>899.00</td>\n",
              "      <td>1.0</td>\n",
              "      <td>Москва ТРК \"Атриум\"</td>\n",
              "      <td>DEEP PURPLE  The House Of Blue Light  LP</td>\n",
              "      <td>58</td>\n",
              "      <td>Музыка - Винил</td>\n",
              "      <td>1</td>\n",
              "      <td>2013</td>\n",
              "      <td>0.0</td>\n",
              "    </tr>\n",
              "    <tr>\n",
              "      <th>2</th>\n",
              "      <td>2013-01-05</td>\n",
              "      <td>0</td>\n",
              "      <td>25</td>\n",
              "      <td>2552</td>\n",
              "      <td>899.00</td>\n",
              "      <td>-1.0</td>\n",
              "      <td>Москва ТРК \"Атриум\"</td>\n",
              "      <td>DEEP PURPLE  The House Of Blue Light  LP</td>\n",
              "      <td>58</td>\n",
              "      <td>Музыка - Винил</td>\n",
              "      <td>1</td>\n",
              "      <td>2013</td>\n",
              "      <td>0.0</td>\n",
              "    </tr>\n",
              "    <tr>\n",
              "      <th>3</th>\n",
              "      <td>2013-01-06</td>\n",
              "      <td>0</td>\n",
              "      <td>25</td>\n",
              "      <td>2554</td>\n",
              "      <td>1709.05</td>\n",
              "      <td>1.0</td>\n",
              "      <td>Москва ТРК \"Атриум\"</td>\n",
              "      <td>DEEP PURPLE  Who Do You Think We Are  LP</td>\n",
              "      <td>58</td>\n",
              "      <td>Музыка - Винил</td>\n",
              "      <td>1</td>\n",
              "      <td>2013</td>\n",
              "      <td>1.0</td>\n",
              "    </tr>\n",
              "    <tr>\n",
              "      <th>4</th>\n",
              "      <td>2013-01-15</td>\n",
              "      <td>0</td>\n",
              "      <td>25</td>\n",
              "      <td>2555</td>\n",
              "      <td>1099.00</td>\n",
              "      <td>1.0</td>\n",
              "      <td>Москва ТРК \"Атриум\"</td>\n",
              "      <td>DEEP PURPLE 30 Very Best Of 2CD (Фирм.)</td>\n",
              "      <td>56</td>\n",
              "      <td>Музыка - CD фирменного производства</td>\n",
              "      <td>1</td>\n",
              "      <td>2013</td>\n",
              "      <td>1.0</td>\n",
              "    </tr>\n",
              "  </tbody>\n",
              "</table>\n",
              "</div>"
            ],
            "text/plain": [
              "        date  date_block_num  shop_id  item_id  item_price  item_cnt_day               shop_name                                 item_name  item_category_id                   item_category_name  month  year  cnt_monthly\n",
              "0 2013-01-02               0       59    22154      999.00           1.0  Ярославль ТЦ \"Альтаир\"                         ЯВЛЕНИЕ 2012 (BD)                37                       Кино - Blu-Ray      1  2013          1.0\n",
              "1 2013-01-03               0       25     2552      899.00           1.0     Москва ТРК \"Атриум\"  DEEP PURPLE  The House Of Blue Light  LP                58                       Музыка - Винил      1  2013          0.0\n",
              "2 2013-01-05               0       25     2552      899.00          -1.0     Москва ТРК \"Атриум\"  DEEP PURPLE  The House Of Blue Light  LP                58                       Музыка - Винил      1  2013          0.0\n",
              "3 2013-01-06               0       25     2554     1709.05           1.0     Москва ТРК \"Атриум\"  DEEP PURPLE  Who Do You Think We Are  LP                58                       Музыка - Винил      1  2013          1.0\n",
              "4 2013-01-15               0       25     2555     1099.00           1.0     Москва ТРК \"Атриум\"   DEEP PURPLE 30 Very Best Of 2CD (Фирм.)                56  Музыка - CD фирменного производства      1  2013          1.0"
            ]
          },
          "metadata": {
            "tags": []
          },
          "execution_count": 18
        }
      ]
    },
    {
      "cell_type": "markdown",
      "metadata": {
        "id": "3caGsP81CieL"
      },
      "source": [
        "###Assume some properties that my affect item monthly sells:\n",
        "###Does different shop tend to sold more of less item?\n",
        "###Does certain item category tend to sold more of less item?\n",
        "###And the analyzation result comparing train and test set\n",
        "\n",
        "###Feature infrastructure to analyze: Feature statistics within itself, Feature statistics between features, Feature statistics against target.\n",
        "\n",
        "###We suppose EDA could help us not only analyze the data structure, but also help feature engineering: feature selection(What feature is significant to target, what feature is meaningless), feature generation, data cleaning & transformation."
      ]
    },
    {
      "cell_type": "code",
      "metadata": {
        "id": "6bvTgV3ZZbNf",
        "outputId": "5306f2a3-ca45-4a63-9e43-d02d2ceaf629",
        "colab": {
          "base_uri": "https://localhost:8080/",
          "height": 286
        }
      },
      "source": [
        "train.describe()"
      ],
      "execution_count": 19,
      "outputs": [
        {
          "output_type": "execute_result",
          "data": {
            "text/html": [
              "<div>\n",
              "<style scoped>\n",
              "    .dataframe tbody tr th:only-of-type {\n",
              "        vertical-align: middle;\n",
              "    }\n",
              "\n",
              "    .dataframe tbody tr th {\n",
              "        vertical-align: top;\n",
              "    }\n",
              "\n",
              "    .dataframe thead th {\n",
              "        text-align: right;\n",
              "    }\n",
              "</style>\n",
              "<table border=\"1\" class=\"dataframe\">\n",
              "  <thead>\n",
              "    <tr style=\"text-align: right;\">\n",
              "      <th></th>\n",
              "      <th>date_block_num</th>\n",
              "      <th>shop_id</th>\n",
              "      <th>item_id</th>\n",
              "      <th>item_price</th>\n",
              "      <th>item_cnt_day</th>\n",
              "      <th>item_category_id</th>\n",
              "      <th>month</th>\n",
              "      <th>year</th>\n",
              "      <th>cnt_monthly</th>\n",
              "    </tr>\n",
              "  </thead>\n",
              "  <tbody>\n",
              "    <tr>\n",
              "      <th>count</th>\n",
              "      <td>2.935849e+06</td>\n",
              "      <td>2.935849e+06</td>\n",
              "      <td>2.935849e+06</td>\n",
              "      <td>2.935849e+06</td>\n",
              "      <td>2.935849e+06</td>\n",
              "      <td>2.935849e+06</td>\n",
              "      <td>2.935849e+06</td>\n",
              "      <td>2.935849e+06</td>\n",
              "      <td>2.935849e+06</td>\n",
              "    </tr>\n",
              "    <tr>\n",
              "      <th>mean</th>\n",
              "      <td>1.456991e+01</td>\n",
              "      <td>3.300173e+01</td>\n",
              "      <td>1.019723e+04</td>\n",
              "      <td>8.908532e+02</td>\n",
              "      <td>1.242641e+00</td>\n",
              "      <td>4.000138e+01</td>\n",
              "      <td>6.247717e+00</td>\n",
              "      <td>2.013777e+03</td>\n",
              "      <td>7.400887e+00</td>\n",
              "    </tr>\n",
              "    <tr>\n",
              "      <th>std</th>\n",
              "      <td>9.422988e+00</td>\n",
              "      <td>1.622697e+01</td>\n",
              "      <td>6.324297e+03</td>\n",
              "      <td>1.729800e+03</td>\n",
              "      <td>2.618834e+00</td>\n",
              "      <td>1.710076e+01</td>\n",
              "      <td>3.536219e+00</td>\n",
              "      <td>7.684790e-01</td>\n",
              "      <td>3.033513e+01</td>\n",
              "    </tr>\n",
              "    <tr>\n",
              "      <th>min</th>\n",
              "      <td>0.000000e+00</td>\n",
              "      <td>0.000000e+00</td>\n",
              "      <td>0.000000e+00</td>\n",
              "      <td>-1.000000e+00</td>\n",
              "      <td>-2.200000e+01</td>\n",
              "      <td>0.000000e+00</td>\n",
              "      <td>1.000000e+00</td>\n",
              "      <td>2.013000e+03</td>\n",
              "      <td>-2.200000e+01</td>\n",
              "    </tr>\n",
              "    <tr>\n",
              "      <th>25%</th>\n",
              "      <td>7.000000e+00</td>\n",
              "      <td>2.200000e+01</td>\n",
              "      <td>4.476000e+03</td>\n",
              "      <td>2.490000e+02</td>\n",
              "      <td>1.000000e+00</td>\n",
              "      <td>2.800000e+01</td>\n",
              "      <td>3.000000e+00</td>\n",
              "      <td>2.013000e+03</td>\n",
              "      <td>1.000000e+00</td>\n",
              "    </tr>\n",
              "    <tr>\n",
              "      <th>50%</th>\n",
              "      <td>1.400000e+01</td>\n",
              "      <td>3.100000e+01</td>\n",
              "      <td>9.343000e+03</td>\n",
              "      <td>3.990000e+02</td>\n",
              "      <td>1.000000e+00</td>\n",
              "      <td>4.000000e+01</td>\n",
              "      <td>6.000000e+00</td>\n",
              "      <td>2.014000e+03</td>\n",
              "      <td>2.000000e+00</td>\n",
              "    </tr>\n",
              "    <tr>\n",
              "      <th>75%</th>\n",
              "      <td>2.300000e+01</td>\n",
              "      <td>4.700000e+01</td>\n",
              "      <td>1.568400e+04</td>\n",
              "      <td>9.990000e+02</td>\n",
              "      <td>1.000000e+00</td>\n",
              "      <td>5.500000e+01</td>\n",
              "      <td>9.000000e+00</td>\n",
              "      <td>2.014000e+03</td>\n",
              "      <td>5.000000e+00</td>\n",
              "    </tr>\n",
              "    <tr>\n",
              "      <th>max</th>\n",
              "      <td>3.300000e+01</td>\n",
              "      <td>5.900000e+01</td>\n",
              "      <td>2.216900e+04</td>\n",
              "      <td>3.079800e+05</td>\n",
              "      <td>2.169000e+03</td>\n",
              "      <td>8.300000e+01</td>\n",
              "      <td>1.200000e+01</td>\n",
              "      <td>2.015000e+03</td>\n",
              "      <td>2.253000e+03</td>\n",
              "    </tr>\n",
              "  </tbody>\n",
              "</table>\n",
              "</div>"
            ],
            "text/plain": [
              "       date_block_num       shop_id       item_id    item_price  item_cnt_day  item_category_id         month          year   cnt_monthly\n",
              "count    2.935849e+06  2.935849e+06  2.935849e+06  2.935849e+06  2.935849e+06      2.935849e+06  2.935849e+06  2.935849e+06  2.935849e+06\n",
              "mean     1.456991e+01  3.300173e+01  1.019723e+04  8.908532e+02  1.242641e+00      4.000138e+01  6.247717e+00  2.013777e+03  7.400887e+00\n",
              "std      9.422988e+00  1.622697e+01  6.324297e+03  1.729800e+03  2.618834e+00      1.710076e+01  3.536219e+00  7.684790e-01  3.033513e+01\n",
              "min      0.000000e+00  0.000000e+00  0.000000e+00 -1.000000e+00 -2.200000e+01      0.000000e+00  1.000000e+00  2.013000e+03 -2.200000e+01\n",
              "25%      7.000000e+00  2.200000e+01  4.476000e+03  2.490000e+02  1.000000e+00      2.800000e+01  3.000000e+00  2.013000e+03  1.000000e+00\n",
              "50%      1.400000e+01  3.100000e+01  9.343000e+03  3.990000e+02  1.000000e+00      4.000000e+01  6.000000e+00  2.014000e+03  2.000000e+00\n",
              "75%      2.300000e+01  4.700000e+01  1.568400e+04  9.990000e+02  1.000000e+00      5.500000e+01  9.000000e+00  2.014000e+03  5.000000e+00\n",
              "max      3.300000e+01  5.900000e+01  2.216900e+04  3.079800e+05  2.169000e+03      8.300000e+01  1.200000e+01  2.015000e+03  2.253000e+03"
            ]
          },
          "metadata": {
            "tags": []
          },
          "execution_count": 19
        }
      ]
    },
    {
      "cell_type": "markdown",
      "metadata": {
        "id": "ZiaEwZbnxRFd"
      },
      "source": [
        "###Assume elements that correlated to sales: year+month, shop+item, shop+item_category, year+month+shop+item, year+month+shop+item_category\n",
        "\n",
        "\n",
        "###Observe the distribution of feature values corresponding to the target distribution"
      ]
    },
    {
      "cell_type": "code",
      "metadata": {
        "id": "GSET_ACEyEVf"
      },
      "source": [
        "train['y_m'] = train['year'].astype(str) + train['month'].astype(str)\n",
        "train['shop_item'] = train['shop_name'] + train['item_name']\n",
        "train['shop_item_cat'] = train['shop_name'] + train['item_category_name']\n",
        "train['y_m_shop_item'] = train['year'].astype(str) + train['month'].astype(str) + train['shop_name'] + train['item_name']\n",
        "train['y_m_shop_cat'] = train['year'].astype(str) + train['month'].astype(str) + train['shop_name'] + train['item_category_name']"
      ],
      "execution_count": 20,
      "outputs": []
    },
    {
      "cell_type": "code",
      "metadata": {
        "id": "HAqfGcruz0Tw"
      },
      "source": [
        "train_ = train.sort_values(by = 'cnt_monthly', ascending = True, axis = 0)"
      ],
      "execution_count": 21,
      "outputs": []
    },
    {
      "cell_type": "code",
      "metadata": {
        "id": "5L5-dttY6E1H",
        "outputId": "1dd7c5b9-3896-4b72-fbe6-0eb687f36426",
        "colab": {
          "base_uri": "https://localhost:8080/",
          "height": 551
        }
      },
      "source": [
        "train.head()"
      ],
      "execution_count": 22,
      "outputs": [
        {
          "output_type": "execute_result",
          "data": {
            "text/html": [
              "<div>\n",
              "<style scoped>\n",
              "    .dataframe tbody tr th:only-of-type {\n",
              "        vertical-align: middle;\n",
              "    }\n",
              "\n",
              "    .dataframe tbody tr th {\n",
              "        vertical-align: top;\n",
              "    }\n",
              "\n",
              "    .dataframe thead th {\n",
              "        text-align: right;\n",
              "    }\n",
              "</style>\n",
              "<table border=\"1\" class=\"dataframe\">\n",
              "  <thead>\n",
              "    <tr style=\"text-align: right;\">\n",
              "      <th></th>\n",
              "      <th>date</th>\n",
              "      <th>date_block_num</th>\n",
              "      <th>shop_id</th>\n",
              "      <th>item_id</th>\n",
              "      <th>item_price</th>\n",
              "      <th>item_cnt_day</th>\n",
              "      <th>shop_name</th>\n",
              "      <th>item_name</th>\n",
              "      <th>item_category_id</th>\n",
              "      <th>item_category_name</th>\n",
              "      <th>month</th>\n",
              "      <th>year</th>\n",
              "      <th>cnt_monthly</th>\n",
              "      <th>y_m</th>\n",
              "      <th>shop_item</th>\n",
              "      <th>shop_item_cat</th>\n",
              "      <th>y_m_shop_item</th>\n",
              "      <th>y_m_shop_cat</th>\n",
              "    </tr>\n",
              "  </thead>\n",
              "  <tbody>\n",
              "    <tr>\n",
              "      <th>0</th>\n",
              "      <td>2013-01-02</td>\n",
              "      <td>0</td>\n",
              "      <td>59</td>\n",
              "      <td>22154</td>\n",
              "      <td>999.00</td>\n",
              "      <td>1.0</td>\n",
              "      <td>Ярославль ТЦ \"Альтаир\"</td>\n",
              "      <td>ЯВЛЕНИЕ 2012 (BD)</td>\n",
              "      <td>37</td>\n",
              "      <td>Кино - Blu-Ray</td>\n",
              "      <td>1</td>\n",
              "      <td>2013</td>\n",
              "      <td>1.0</td>\n",
              "      <td>20131</td>\n",
              "      <td>Ярославль ТЦ \"Альтаир\"ЯВЛЕНИЕ 2012 (BD)</td>\n",
              "      <td>Ярославль ТЦ \"Альтаир\"Кино - Blu-Ray</td>\n",
              "      <td>20131Ярославль ТЦ \"Альтаир\"ЯВЛЕНИЕ 2012 (BD)</td>\n",
              "      <td>20131Ярославль ТЦ \"Альтаир\"Кино - Blu-Ray</td>\n",
              "    </tr>\n",
              "    <tr>\n",
              "      <th>1</th>\n",
              "      <td>2013-01-03</td>\n",
              "      <td>0</td>\n",
              "      <td>25</td>\n",
              "      <td>2552</td>\n",
              "      <td>899.00</td>\n",
              "      <td>1.0</td>\n",
              "      <td>Москва ТРК \"Атриум\"</td>\n",
              "      <td>DEEP PURPLE  The House Of Blue Light  LP</td>\n",
              "      <td>58</td>\n",
              "      <td>Музыка - Винил</td>\n",
              "      <td>1</td>\n",
              "      <td>2013</td>\n",
              "      <td>0.0</td>\n",
              "      <td>20131</td>\n",
              "      <td>Москва ТРК \"Атриум\"DEEP PURPLE  The House Of B...</td>\n",
              "      <td>Москва ТРК \"Атриум\"Музыка - Винил</td>\n",
              "      <td>20131Москва ТРК \"Атриум\"DEEP PURPLE  The House...</td>\n",
              "      <td>20131Москва ТРК \"Атриум\"Музыка - Винил</td>\n",
              "    </tr>\n",
              "    <tr>\n",
              "      <th>2</th>\n",
              "      <td>2013-01-05</td>\n",
              "      <td>0</td>\n",
              "      <td>25</td>\n",
              "      <td>2552</td>\n",
              "      <td>899.00</td>\n",
              "      <td>-1.0</td>\n",
              "      <td>Москва ТРК \"Атриум\"</td>\n",
              "      <td>DEEP PURPLE  The House Of Blue Light  LP</td>\n",
              "      <td>58</td>\n",
              "      <td>Музыка - Винил</td>\n",
              "      <td>1</td>\n",
              "      <td>2013</td>\n",
              "      <td>0.0</td>\n",
              "      <td>20131</td>\n",
              "      <td>Москва ТРК \"Атриум\"DEEP PURPLE  The House Of B...</td>\n",
              "      <td>Москва ТРК \"Атриум\"Музыка - Винил</td>\n",
              "      <td>20131Москва ТРК \"Атриум\"DEEP PURPLE  The House...</td>\n",
              "      <td>20131Москва ТРК \"Атриум\"Музыка - Винил</td>\n",
              "    </tr>\n",
              "    <tr>\n",
              "      <th>3</th>\n",
              "      <td>2013-01-06</td>\n",
              "      <td>0</td>\n",
              "      <td>25</td>\n",
              "      <td>2554</td>\n",
              "      <td>1709.05</td>\n",
              "      <td>1.0</td>\n",
              "      <td>Москва ТРК \"Атриум\"</td>\n",
              "      <td>DEEP PURPLE  Who Do You Think We Are  LP</td>\n",
              "      <td>58</td>\n",
              "      <td>Музыка - Винил</td>\n",
              "      <td>1</td>\n",
              "      <td>2013</td>\n",
              "      <td>1.0</td>\n",
              "      <td>20131</td>\n",
              "      <td>Москва ТРК \"Атриум\"DEEP PURPLE  Who Do You Thi...</td>\n",
              "      <td>Москва ТРК \"Атриум\"Музыка - Винил</td>\n",
              "      <td>20131Москва ТРК \"Атриум\"DEEP PURPLE  Who Do Yo...</td>\n",
              "      <td>20131Москва ТРК \"Атриум\"Музыка - Винил</td>\n",
              "    </tr>\n",
              "    <tr>\n",
              "      <th>4</th>\n",
              "      <td>2013-01-15</td>\n",
              "      <td>0</td>\n",
              "      <td>25</td>\n",
              "      <td>2555</td>\n",
              "      <td>1099.00</td>\n",
              "      <td>1.0</td>\n",
              "      <td>Москва ТРК \"Атриум\"</td>\n",
              "      <td>DEEP PURPLE 30 Very Best Of 2CD (Фирм.)</td>\n",
              "      <td>56</td>\n",
              "      <td>Музыка - CD фирменного производства</td>\n",
              "      <td>1</td>\n",
              "      <td>2013</td>\n",
              "      <td>1.0</td>\n",
              "      <td>20131</td>\n",
              "      <td>Москва ТРК \"Атриум\"DEEP PURPLE 30 Very Best Of...</td>\n",
              "      <td>Москва ТРК \"Атриум\"Музыка - CD фирменного прои...</td>\n",
              "      <td>20131Москва ТРК \"Атриум\"DEEP PURPLE 30 Very Be...</td>\n",
              "      <td>20131Москва ТРК \"Атриум\"Музыка - CD фирменного...</td>\n",
              "    </tr>\n",
              "  </tbody>\n",
              "</table>\n",
              "</div>"
            ],
            "text/plain": [
              "        date  date_block_num  shop_id  item_id  item_price  item_cnt_day               shop_name                                 item_name  item_category_id                   item_category_name  month  year  cnt_monthly    y_m                                          shop_item  \\\n",
              "0 2013-01-02               0       59    22154      999.00           1.0  Ярославль ТЦ \"Альтаир\"                         ЯВЛЕНИЕ 2012 (BD)                37                       Кино - Blu-Ray      1  2013          1.0  20131            Ярославль ТЦ \"Альтаир\"ЯВЛЕНИЕ 2012 (BD)   \n",
              "1 2013-01-03               0       25     2552      899.00           1.0     Москва ТРК \"Атриум\"  DEEP PURPLE  The House Of Blue Light  LP                58                       Музыка - Винил      1  2013          0.0  20131  Москва ТРК \"Атриум\"DEEP PURPLE  The House Of B...   \n",
              "2 2013-01-05               0       25     2552      899.00          -1.0     Москва ТРК \"Атриум\"  DEEP PURPLE  The House Of Blue Light  LP                58                       Музыка - Винил      1  2013          0.0  20131  Москва ТРК \"Атриум\"DEEP PURPLE  The House Of B...   \n",
              "3 2013-01-06               0       25     2554     1709.05           1.0     Москва ТРК \"Атриум\"  DEEP PURPLE  Who Do You Think We Are  LP                58                       Музыка - Винил      1  2013          1.0  20131  Москва ТРК \"Атриум\"DEEP PURPLE  Who Do You Thi...   \n",
              "4 2013-01-15               0       25     2555     1099.00           1.0     Москва ТРК \"Атриум\"   DEEP PURPLE 30 Very Best Of 2CD (Фирм.)                56  Музыка - CD фирменного производства      1  2013          1.0  20131  Москва ТРК \"Атриум\"DEEP PURPLE 30 Very Best Of...   \n",
              "\n",
              "                                       shop_item_cat                                      y_m_shop_item                                       y_m_shop_cat  \n",
              "0               Ярославль ТЦ \"Альтаир\"Кино - Blu-Ray       20131Ярославль ТЦ \"Альтаир\"ЯВЛЕНИЕ 2012 (BD)          20131Ярославль ТЦ \"Альтаир\"Кино - Blu-Ray  \n",
              "1                  Москва ТРК \"Атриум\"Музыка - Винил  20131Москва ТРК \"Атриум\"DEEP PURPLE  The House...             20131Москва ТРК \"Атриум\"Музыка - Винил  \n",
              "2                  Москва ТРК \"Атриум\"Музыка - Винил  20131Москва ТРК \"Атриум\"DEEP PURPLE  The House...             20131Москва ТРК \"Атриум\"Музыка - Винил  \n",
              "3                  Москва ТРК \"Атриум\"Музыка - Винил  20131Москва ТРК \"Атриум\"DEEP PURPLE  Who Do Yo...             20131Москва ТРК \"Атриум\"Музыка - Винил  \n",
              "4  Москва ТРК \"Атриум\"Музыка - CD фирменного прои...  20131Москва ТРК \"Атриум\"DEEP PURPLE 30 Very Be...  20131Москва ТРК \"Атриум\"Музыка - CD фирменного...  "
            ]
          },
          "metadata": {
            "tags": []
          },
          "execution_count": 22
        }
      ]
    },
    {
      "cell_type": "code",
      "metadata": {
        "id": "eXiOAzxc0fW9",
        "outputId": "5a1f86ee-07c9-4711-dae0-55068376f7b0",
        "colab": {
          "base_uri": "https://localhost:8080/"
        }
      },
      "source": [
        "#Convert category features by encoder\n",
        "from sklearn.preprocessing import LabelEncoder\n",
        "\n",
        "encoder = LabelEncoder()\n",
        "cat_feature = train_.select_dtypes(include = 'object')\n",
        "\n",
        "gc.collect()"
      ],
      "execution_count": 23,
      "outputs": [
        {
          "output_type": "execute_result",
          "data": {
            "text/plain": [
              "19800"
            ]
          },
          "metadata": {
            "tags": []
          },
          "execution_count": 23
        }
      ]
    },
    {
      "cell_type": "code",
      "metadata": {
        "id": "nrGnTPUF8SHp",
        "outputId": "87b6edc8-165c-4c3d-afdc-898abdbec24e",
        "colab": {
          "base_uri": "https://localhost:8080/",
          "height": 822
        }
      },
      "source": [
        "# Correlation between features\n",
        "\n",
        "plt.figure(1)\n",
        "plt.scatter(train['item_category_id'], train['item_price'])\n",
        "plt.xlabel('item_category')\n",
        "plt.ylabel('item price')\n",
        "\n",
        "plt.figure(2)\n",
        "plt.scatter(train['item_category_id'], train['cnt_monthly'])\n",
        "plt.xlabel('item_category')\n",
        "plt.ylabel('cnt_monthly')\n",
        "\n",
        "plt.figure(3)\n",
        "plt.scatter(train['shop_item_cat'], train['item_price'])\n",
        "plt.xlabel('shop_item_category')\n",
        "plt.ylabel('item price')\n"
      ],
      "execution_count": 24,
      "outputs": [
        {
          "output_type": "execute_result",
          "data": {
            "text/plain": [
              "Text(0, 0.5, 'item price')"
            ]
          },
          "metadata": {
            "tags": []
          },
          "execution_count": 24
        },
        {
          "output_type": "display_data",
          "data": {
            "image/png": "[encoded data removed]",
            "text/plain": [
              "<Figure size 432x288 with 1 Axes>"
            ]
          },
          "metadata": {
            "tags": [],
            "needs_background": "light"
          }
        },
        {
          "output_type": "display_data",
          "data": {
            "image/png": "[encoded data removed]",
            "text/plain": [
              "<Figure size 432x288 with 1 Axes>"
            ]
          },
          "metadata": {
            "tags": [],
            "needs_background": "light"
          }
        },
        {
          "output_type": "display_data",
          "data": {
            "image/png": "[encoded data removed]",
            "text/plain": [
              "<Figure size 432x288 with 1 Axes>"
            ]
          },
          "metadata": {
            "tags": [],
            "needs_background": "light"
          }
        }
      ]
    },
    {
      "cell_type": "code",
      "metadata": {
        "id": "f7nCYIIuBPx1",
        "outputId": "84f8f1b5-45e7-4a4a-bb73-771579d97b8f",
        "colab": {
          "base_uri": "https://localhost:8080/"
        }
      },
      "source": [
        "# Encode categorical features\n",
        "# normalization\n",
        "from sklearn.preprocessing import LabelEncoder, StandardScaler, MinMaxScaler\n",
        "\n",
        "encoder = LabelEncoder()\n",
        "scaler = StandardScaler()\n",
        "\n",
        "for feature in train.columns:\n",
        "  if train[feature].dtype == 'object':\n",
        "    train[feature] = encoder.fit_transform(train[feature])\n",
        "    train[feature] = scaler.fit_transform(train[feature].values.reshape(-1, 1))\n",
        "\n",
        "  else:\n",
        "    train[feature] = scaler.fit_transform(train[feature].values.reshape(-1, 1))\n",
        "\n",
        "print('Process finished.')\n",
        "print(train.head())\n"
      ],
      "execution_count": 25,
      "outputs": [
        {
          "output_type": "stream",
          "text": [
            "Process finished.\n",
            "       date  date_block_num   shop_id   item_id  item_price  item_cnt_day  shop_name  item_name  item_category_id  item_category_name     month      year  cnt_monthly       y_m  shop_item  shop_item_cat  y_m_shop_item  y_m_shop_cat\n",
            "0 -1.590241        -1.54621  1.602164  1.890609    0.062520     -0.092652   1.602164   1.892206         -0.175512           -0.175512 -1.483991 -1.010893    -0.211006 -1.526979   1.706152       1.603223      -1.210091     -1.151900\n",
            "1 -1.586756        -1.54621 -0.493113 -1.208866    0.004710     -0.092652  -0.493113  -1.208576          1.052504            1.052504 -1.483991 -1.010893    -0.243971 -1.526979  -0.603110      -0.504246      -1.296086     -1.207161\n",
            "2 -1.579784        -1.54621 -0.493113 -1.208866    0.004710     -0.856351  -0.493113  -1.208576          1.052504            1.052504 -1.483991 -1.010893    -0.243971 -1.526979  -0.603110      -0.504246      -1.296086     -1.207161\n",
            "3 -1.576299        -1.54621 -0.493113 -1.208550    0.473001     -0.092652  -0.493113  -1.208255          1.052504            1.052504 -1.483991 -1.010893    -0.211006 -1.526979  -0.603093      -0.504246      -1.296084     -1.207161\n",
            "4 -1.544929        -1.54621 -0.493113 -1.208392    0.120330     -0.092652  -0.493113  -1.208094          0.935550            0.935550 -1.483991 -1.010893    -0.211006 -1.526979  -0.603085      -0.506494      -1.296082     -1.207270\n"
          ],
          "name": "stdout"
        }
      ]
    },
    {
      "cell_type": "code",
      "metadata": {
        "id": "tXrM14X5HVA3",
        "outputId": "03319334-193a-4556-ee01-8a11fa40ec8c",
        "colab": {
          "base_uri": "https://localhost:8080/",
          "height": 365
        }
      },
      "source": [
        "plt.hist(train['item_category_id'])"
      ],
      "execution_count": 26,
      "outputs": [
        {
          "output_type": "execute_result",
          "data": {
            "text/plain": [
              "(array([ 78118.,  26641., 505305., 537510., 858522.,  64240., 398892.,\n",
              "        195895., 195545.,  75181.]),\n",
              " array([-2.33915879, -1.85380012, -1.36844145, -0.88308278, -0.39772412,\n",
              "         0.08763455,  0.57299322,  1.05835189,  1.54371056,  2.02906923,\n",
              "         2.5144279 ]),\n",
              " <a list of 10 Patch objects>)"
            ]
          },
          "metadata": {
            "tags": []
          },
          "execution_count": 26
        },
        {
          "output_type": "display_data",
          "data": {
            "image/png": "[encoded data removed]",
            "text/plain": [
              "<Figure size 432x288 with 1 Axes>"
            ]
          },
          "metadata": {
            "tags": [],
            "needs_background": "light"
          }
        }
      ]
    },
    {
      "cell_type": "code",
      "metadata": {
        "id": "BPsKYCCl7peW",
        "outputId": "4ac37434-f96e-42d8-b313-ec27bfc570de",
        "colab": {
          "base_uri": "https://localhost:8080/"
        }
      },
      "source": [
        "#Observe feature importance \n",
        "from sklearn.linear_model import Ridge, Lasso\n",
        "from sklearn.svm import LinearSVR\n",
        "from sklearn.tree import DecisionTreeRegressor\n",
        "from sklearn.feature_selection import SelectFromModel\n",
        "\n",
        "ridge = Ridge()\n",
        "lasso = Lasso()\n",
        "svc = LinearSVR(C = 0.01, dual=False, loss='squared_epsilon_insensitive')\n",
        "tree = DecisionTreeRegressor(max_depth = 50, min_samples_leaf=5)\n",
        "\n",
        "models = {'Ridge':ridge, 'Lasso':lasso, 'SVM':svc, 'DTree':tree}\n",
        "\n",
        "\n",
        "y = train['cnt_monthly']\n",
        "X = train.drop('cnt_monthly', axis = 1)\n",
        "for i in range(len(models)):\n",
        "  model = models[list(models.keys())[i]]\n",
        "  \n",
        "  selector = SelectFromModel(model, threshold=0.001)\n",
        "  selector.fit(X, y)\n",
        "  feature_idx = selector.get_support()\n",
        "  print('Selected features from {} is:'.format(list(models.keys())[i]))\n",
        "  print(X.columns[feature_idx])\n",
        "\n"
      ],
      "execution_count": 39,
      "outputs": [
        {
          "output_type": "stream",
          "text": [
            "Selected features from Ridge is:\n",
            "Index(['date', 'date_block_num', 'shop_id', 'item_id', 'item_price', 'item_cnt_day', 'shop_name', 'item_name', 'item_category_id', 'item_category_name', 'month', 'year', 'y_m', 'shop_item', 'shop_item_cat', 'y_m_shop_item', 'y_m_shop_cat'], dtype='object')\n",
            "Selected features from Lasso is:\n",
            "Index([], dtype='object')\n",
            "Selected features from SVM is:\n",
            "Index(['date', 'date_block_num', 'shop_id', 'item_id', 'item_price', 'item_cnt_day', 'shop_name', 'item_name', 'item_category_id', 'item_category_name', 'month', 'year', 'y_m', 'shop_item', 'shop_item_cat', 'y_m_shop_item', 'y_m_shop_cat'], dtype='object')\n",
            "Selected features from DTree is:\n",
            "Index(['date', 'date_block_num', 'shop_id', 'item_id', 'item_price', 'item_cnt_day', 'shop_name', 'item_name', 'item_category_id', 'item_category_name', 'month', 'y_m', 'shop_item', 'shop_item_cat', 'y_m_shop_item', 'y_m_shop_cat'], dtype='object')\n"
          ],
          "name": "stdout"
        }
      ]
    },
    {
      "cell_type": "code",
      "metadata": {
        "id": "KLtYvh4LcCda",
        "outputId": "11714b19-24d7-413a-8650-106462710c8a",
        "colab": {
          "base_uri": "https://localhost:8080/"
        }
      },
      "source": [
        "print(list(models.keys())[1])"
      ],
      "execution_count": 31,
      "outputs": [
        {
          "output_type": "stream",
          "text": [
            "Lasso\n"
          ],
          "name": "stdout"
        }
      ]
    },
    {
      "cell_type": "code",
      "metadata": {
        "id": "Qqk8lOJA0UrR"
      },
      "source": [
        "import holidays\n",
        "from datetime import date\n",
        "\n",
        "# Add holiday feature for each date \n",
        "ru_holiday = holidays.Russia()\n",
        "\n",
        "dates = train['date']\n",
        "for i in range(len(dates)):\n",
        "  if dates[i] in ru_holiday:\n",
        "    dates[i] = 1\n",
        "  elif dates[i] not in ru_holiday:\n",
        "    dates[i] = 0\n",
        "\n",
        "train['is_holiday'] = dates\n",
        "\n"
      ],
      "execution_count": null,
      "outputs": []
    },
    {
      "cell_type": "code",
      "metadata": {
        "id": "xs1yO5yJH2cS"
      },
      "source": [
        ""
      ],
      "execution_count": null,
      "outputs": []
    }
  ]
}